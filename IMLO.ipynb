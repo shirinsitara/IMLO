{
  "cells": [
    {
      "cell_type": "markdown",
      "metadata": {
        "id": "view-in-github",
        "colab_type": "text"
      },
      "source": [
        "<a href=\"https://colab.research.google.com/github/shirinsitara/IMLO/blob/Overfitted_updated/IMLO.ipynb\" target=\"_parent\"><img src=\"https://colab.research.google.com/assets/colab-badge.svg\" alt=\"Open In Colab\"/></a>"
      ]
    },
    {
      "cell_type": "code",
      "execution_count": 86,
      "metadata": {
        "id": "CECX9yNhENg3"
      },
      "outputs": [],
      "source": [
        "import torch\n",
        "import torch.nn as nn\n",
        "import torch.nn.functional as F\n",
        "from torch.utils.data import DataLoader\n",
        "from torchvision import datasets, transforms\n",
        "from torchvision.utils import make_grid\n",
        "\n",
        "import numpy as np\n",
        "import pandas as pd\n",
        "from sklearn.metrics import confusion_matrix\n",
        "import matplotlib.pyplot as plt\n",
        "%matplotlib inline"
      ]
    },
    {
      "cell_type": "code",
      "execution_count": 87,
      "metadata": {
        "id": "n6K_tByXEbtR"
      },
      "outputs": [],
      "source": [
        "#transform = transforms.ToTensor()\n",
        "transform = transforms.Compose([\n",
        "    transforms.Resize((224, 224)),  # Resize all images to 224x224\n",
        "    transforms.ToTensor(),          # Convert images to tensor\n",
        "    transforms.Normalize(mean=[0.485, 0.456, 0.406], std=[0.229, 0.224, 0.225])  # Normalize images\n",
        "])"
      ]
    },
    {
      "cell_type": "code",
      "execution_count": 88,
      "metadata": {
        "id": "eKB2EcxxEb7i"
      },
      "outputs": [],
      "source": [
        "#train_data = datasets.MNIST(root='/cnn_data', train=True, download=True, transform=transform)"
      ]
    },
    {
      "cell_type": "code",
      "execution_count": 89,
      "metadata": {
        "id": "9dU4GZPMEcGe"
      },
      "outputs": [],
      "source": [
        "from torchvision.datasets import Flowers102\n",
        "\n",
        "# Load the training data\n",
        "train_data = Flowers102(root='/flower_data', split='train', download=True, transform=transform)\n",
        "\n",
        "# Load the validation data\n",
        "val_data = Flowers102(root='/flower_data', split='val', download=True, transform=transform)\n",
        "\n",
        "# Load the test data\n",
        "test_data = Flowers102(root='/flower_data', split='test', download=True, transform=transform)\n"
      ]
    },
    {
      "cell_type": "code",
      "execution_count": 90,
      "metadata": {
        "colab": {
          "base_uri": "https://localhost:8080/"
        },
        "id": "5LxTEuZvKkSh",
        "outputId": "8ef7face-a208-4f0e-8588-42710e5783ec"
      },
      "outputs": [
        {
          "output_type": "execute_result",
          "data": {
            "text/plain": [
              "Dataset Flowers102\n",
              "    Number of datapoints: 1020\n",
              "    Root location: /flower_data\n",
              "    split=train\n",
              "    StandardTransform\n",
              "Transform: Compose(\n",
              "               Resize(size=(224, 224), interpolation=bilinear, max_size=None, antialias=True)\n",
              "               ToTensor()\n",
              "               Normalize(mean=[0.485, 0.456, 0.406], std=[0.229, 0.224, 0.225])\n",
              "           )"
            ]
          },
          "metadata": {},
          "execution_count": 90
        }
      ],
      "source": [
        "train_data"
      ]
    },
    {
      "cell_type": "code",
      "execution_count": 91,
      "metadata": {
        "colab": {
          "base_uri": "https://localhost:8080/"
        },
        "id": "-VmmXY2uD3F7",
        "outputId": "0b37f69b-3423-4f09-efd4-12a5a3ab9e95"
      },
      "outputs": [
        {
          "output_type": "execute_result",
          "data": {
            "text/plain": [
              "Dataset Flowers102\n",
              "    Number of datapoints: 6149\n",
              "    Root location: /flower_data\n",
              "    split=test\n",
              "    StandardTransform\n",
              "Transform: Compose(\n",
              "               Resize(size=(224, 224), interpolation=bilinear, max_size=None, antialias=True)\n",
              "               ToTensor()\n",
              "               Normalize(mean=[0.485, 0.456, 0.406], std=[0.229, 0.224, 0.225])\n",
              "           )"
            ]
          },
          "metadata": {},
          "execution_count": 91
        }
      ],
      "source": [
        "test_data"
      ]
    },
    {
      "cell_type": "code",
      "execution_count": 92,
      "metadata": {
        "colab": {
          "base_uri": "https://localhost:8080/"
        },
        "id": "ZcFRIIUFKkch",
        "outputId": "12bbb4b3-8071-4116-95ab-ed7974f4682f"
      },
      "outputs": [
        {
          "output_type": "execute_result",
          "data": {
            "text/plain": [
              "Dataset Flowers102\n",
              "    Number of datapoints: 1020\n",
              "    Root location: /flower_data\n",
              "    split=val\n",
              "    StandardTransform\n",
              "Transform: Compose(\n",
              "               Resize(size=(224, 224), interpolation=bilinear, max_size=None, antialias=True)\n",
              "               ToTensor()\n",
              "               Normalize(mean=[0.485, 0.456, 0.406], std=[0.229, 0.224, 0.225])\n",
              "           )"
            ]
          },
          "metadata": {},
          "execution_count": 92
        }
      ],
      "source": [
        "val_data"
      ]
    },
    {
      "cell_type": "code",
      "execution_count": 93,
      "metadata": {
        "id": "T6pTLsZyK7Eh"
      },
      "outputs": [],
      "source": [
        "train_loader = DataLoader(train_data, batch_size=10, shuffle=True)\n",
        "test_loader = DataLoader(test_data, batch_size=10, shuffle=False)"
      ]
    },
    {
      "cell_type": "code",
      "execution_count": 135,
      "metadata": {
        "id": "m-Ha781OLKt8"
      },
      "outputs": [],
      "source": [
        "conv1 = nn.Conv2d(3, 10, 5, 2)\n",
        "conv2 = nn.Conv2d(10, 16, 4, 2)\n",
        "conv3 = nn.Conv2d(16, 30, 3, 2)"
      ]
    },
    {
      "cell_type": "code",
      "execution_count": 136,
      "metadata": {
        "id": "P1mVq_wOLXem"
      },
      "outputs": [],
      "source": [
        "for i, (X_Train, y_train) in enumerate(train_data):\n",
        "  break\n"
      ]
    },
    {
      "cell_type": "code",
      "execution_count": 137,
      "metadata": {
        "colab": {
          "base_uri": "https://localhost:8080/"
        },
        "id": "WOgOr0WKLezq",
        "outputId": "cda8221c-092e-4469-dd81-82101c78661f"
      },
      "outputs": [
        {
          "output_type": "execute_result",
          "data": {
            "text/plain": [
              "torch.Size([3, 224, 224])"
            ]
          },
          "metadata": {},
          "execution_count": 137
        }
      ],
      "source": [
        "X_Train.shape"
      ]
    },
    {
      "cell_type": "code",
      "execution_count": 138,
      "metadata": {
        "id": "tDHYf_fALorw"
      },
      "outputs": [],
      "source": [
        "x = X_Train.view(1,3,224,224)"
      ]
    },
    {
      "cell_type": "code",
      "execution_count": 139,
      "metadata": {
        "id": "h0Sd1PjcQP9N"
      },
      "outputs": [],
      "source": [
        "x = F.relu(conv1(x))"
      ]
    },
    {
      "cell_type": "code",
      "execution_count": 140,
      "metadata": {
        "colab": {
          "base_uri": "https://localhost:8080/"
        },
        "id": "2q4uxHV6Lox6",
        "outputId": "4c54bd62-abe4-4e3b-993f-14807a589f4a"
      },
      "outputs": [
        {
          "output_type": "execute_result",
          "data": {
            "text/plain": [
              "torch.Size([1, 10, 110, 110])"
            ]
          },
          "metadata": {},
          "execution_count": 140
        }
      ],
      "source": [
        "x.shape"
      ]
    },
    {
      "cell_type": "code",
      "execution_count": 141,
      "metadata": {
        "id": "ZdcfBC66Lo1H"
      },
      "outputs": [],
      "source": [
        "x = F.max_pool2d(x,2,2)"
      ]
    },
    {
      "cell_type": "code",
      "execution_count": 142,
      "metadata": {
        "colab": {
          "base_uri": "https://localhost:8080/"
        },
        "id": "xt6BqkJoLo4a",
        "outputId": "3fd8bb1a-3697-4813-f2ec-c809a1ceee89"
      },
      "outputs": [
        {
          "output_type": "execute_result",
          "data": {
            "text/plain": [
              "torch.Size([1, 10, 55, 55])"
            ]
          },
          "metadata": {},
          "execution_count": 142
        }
      ],
      "source": [
        "x.shape"
      ]
    },
    {
      "cell_type": "code",
      "execution_count": 143,
      "metadata": {
        "id": "S8rcz9WoLo6z"
      },
      "outputs": [],
      "source": [
        "x = F.relu(conv2(x))"
      ]
    },
    {
      "cell_type": "code",
      "execution_count": 144,
      "metadata": {
        "colab": {
          "base_uri": "https://localhost:8080/"
        },
        "id": "w6n4sakKLo8x",
        "outputId": "a63c5c7e-25f3-415a-b614-0beb6ca2c5b3"
      },
      "outputs": [
        {
          "output_type": "execute_result",
          "data": {
            "text/plain": [
              "torch.Size([1, 16, 26, 26])"
            ]
          },
          "metadata": {},
          "execution_count": 144
        }
      ],
      "source": [
        "x.shape"
      ]
    },
    {
      "cell_type": "code",
      "source": [
        "x = F.avg_pool2d(x, 2, 1)"
      ],
      "metadata": {
        "id": "ICfWOufM4VU9"
      },
      "execution_count": 145,
      "outputs": []
    },
    {
      "cell_type": "code",
      "source": [
        "x.shape"
      ],
      "metadata": {
        "colab": {
          "base_uri": "https://localhost:8080/"
        },
        "id": "DWSh3j0s4eJ3",
        "outputId": "071b98bc-c8c7-455e-fba5-8a99bcd62d10"
      },
      "execution_count": 146,
      "outputs": [
        {
          "output_type": "execute_result",
          "data": {
            "text/plain": [
              "torch.Size([1, 16, 25, 25])"
            ]
          },
          "metadata": {},
          "execution_count": 146
        }
      ]
    },
    {
      "cell_type": "code",
      "source": [
        "x = F.relu(conv3(x))"
      ],
      "metadata": {
        "id": "H8GP5m4M0LIY"
      },
      "execution_count": 147,
      "outputs": []
    },
    {
      "cell_type": "code",
      "source": [
        "x.shape"
      ],
      "metadata": {
        "id": "9GEdt-Lj0Tb2",
        "outputId": "8111140d-3742-40ec-b3bf-796448c03597",
        "colab": {
          "base_uri": "https://localhost:8080/"
        }
      },
      "execution_count": 148,
      "outputs": [
        {
          "output_type": "execute_result",
          "data": {
            "text/plain": [
              "torch.Size([1, 30, 12, 12])"
            ]
          },
          "metadata": {},
          "execution_count": 148
        }
      ]
    },
    {
      "cell_type": "code",
      "execution_count": 149,
      "metadata": {
        "id": "s2YBCz6kWR-3"
      },
      "outputs": [],
      "source": [
        "class ConvolutionalNetwork(nn.Module):\n",
        "  def __init__(self):\n",
        "    super().__init__()\n",
        "    self.conv1 = nn.Conv2d(3,10,5,2)\n",
        "    self.conv2 = nn.Conv2d(10,16,4,2)\n",
        "    self.conv3 = nn.Conv2d(16, 30, 3, 2)\n",
        "    # Fully Connected Layer\n",
        "    self.fc1 = nn.Linear(12*12*30, 1200)\n",
        "    self.fc2 = nn.Linear(1200, 720)\n",
        "    self.fc3 = nn.Linear(720, 102)\n",
        "\n",
        "\n",
        "  def forward(self, X):\n",
        "    X = F.relu(self.conv1(X))\n",
        "    X = F.max_pool2d(X,2,2)\n",
        "    # Second Pass\n",
        "    X = F.relu(self.conv2(X))\n",
        "    X = F.avg_pool2d(X, 2, 1)\n",
        "    X = F.relu(self.conv3(X))\n",
        "\n",
        "    # Re-View to flatten it out\n",
        "    X = X.view(-1, 12*12*30) # negative one so that we can vary the batch size\n",
        "\n",
        "    # Fully Connected Layers\n",
        "    X = F.relu(self.fc1(X))\n",
        "    X = F.relu(self.fc2(X))\n",
        "    X = self.fc3(X)\n",
        "    return F.log_softmax(X, dim=1)"
      ]
    },
    {
      "cell_type": "code",
      "execution_count": 150,
      "metadata": {
        "colab": {
          "base_uri": "https://localhost:8080/"
        },
        "id": "pfKcXQXkUsle",
        "outputId": "e8431b7e-d835-4e77-8ce4-a7ed51abaaa3"
      },
      "outputs": [
        {
          "output_type": "execute_result",
          "data": {
            "text/plain": [
              "ConvolutionalNetwork(\n",
              "  (conv1): Conv2d(3, 10, kernel_size=(5, 5), stride=(2, 2))\n",
              "  (conv2): Conv2d(10, 16, kernel_size=(4, 4), stride=(2, 2))\n",
              "  (conv3): Conv2d(16, 30, kernel_size=(3, 3), stride=(2, 2))\n",
              "  (fc1): Linear(in_features=4320, out_features=1200, bias=True)\n",
              "  (fc2): Linear(in_features=1200, out_features=720, bias=True)\n",
              "  (fc3): Linear(in_features=720, out_features=102, bias=True)\n",
              ")"
            ]
          },
          "metadata": {},
          "execution_count": 150
        }
      ],
      "source": [
        "torch.manual_seed(41)\n",
        "model = ConvolutionalNetwork()\n",
        "model"
      ]
    },
    {
      "cell_type": "code",
      "execution_count": 151,
      "metadata": {
        "id": "HZAL9GwMUHH9"
      },
      "outputs": [],
      "source": [
        "# Loss Function Optimizer\n",
        "criterion = nn.CrossEntropyLoss()\n",
        "optimizer = torch.optim.Adam(model.parameters(), lr=0.001) # Smaller the Learning Rate, longer its gonna take to train."
      ]
    },
    {
      "cell_type": "code",
      "execution_count": 152,
      "metadata": {
        "colab": {
          "base_uri": "https://localhost:8080/"
        },
        "id": "8lQVO-EPUHKv",
        "outputId": "f3caead5-8e82-49a6-f6d2-55631a083919"
      },
      "outputs": [
        {
          "output_type": "stream",
          "name": "stdout",
          "text": [
            "Epoch: 0  Batch: 10  Loss: 4.6411895751953125\n",
            "Epoch: 0  Batch: 20  Loss: 4.633577823638916\n",
            "Epoch: 0  Batch: 30  Loss: 4.636737823486328\n",
            "Epoch: 0  Batch: 40  Loss: 4.607428550720215\n",
            "Epoch: 0  Batch: 50  Loss: 4.615869998931885\n",
            "Epoch: 0  Batch: 60  Loss: 4.6023850440979\n",
            "Epoch: 0  Batch: 70  Loss: 4.521214962005615\n",
            "Epoch: 0  Batch: 80  Loss: 4.514580726623535\n",
            "Epoch: 0  Batch: 90  Loss: 4.215071678161621\n",
            "Epoch: 0  Batch: 100  Loss: 4.343058109283447\n",
            "Epoch: 1  Batch: 10  Loss: 4.5528106689453125\n",
            "Epoch: 1  Batch: 20  Loss: 4.3257527351379395\n",
            "Epoch: 1  Batch: 30  Loss: 4.361392974853516\n",
            "Epoch: 1  Batch: 40  Loss: 4.130215167999268\n",
            "Epoch: 1  Batch: 50  Loss: 4.0412421226501465\n",
            "Epoch: 1  Batch: 60  Loss: 4.297891139984131\n",
            "Epoch: 1  Batch: 70  Loss: 3.9876976013183594\n",
            "Epoch: 1  Batch: 80  Loss: 4.2198076248168945\n",
            "Epoch: 1  Batch: 90  Loss: 3.993724822998047\n",
            "Epoch: 1  Batch: 100  Loss: 4.688251495361328\n",
            "Epoch: 2  Batch: 10  Loss: 4.155177116394043\n",
            "Epoch: 2  Batch: 20  Loss: 4.215218544006348\n",
            "Epoch: 2  Batch: 30  Loss: 4.250630855560303\n",
            "Epoch: 2  Batch: 40  Loss: 3.9106297492980957\n",
            "Epoch: 2  Batch: 50  Loss: 3.447664737701416\n",
            "Epoch: 2  Batch: 60  Loss: 3.9323039054870605\n",
            "Epoch: 2  Batch: 70  Loss: 4.214022636413574\n",
            "Epoch: 2  Batch: 80  Loss: 3.912672758102417\n",
            "Epoch: 2  Batch: 90  Loss: 3.54113507270813\n",
            "Epoch: 2  Batch: 100  Loss: 4.074968338012695\n",
            "Epoch: 3  Batch: 10  Loss: 3.256110668182373\n",
            "Epoch: 3  Batch: 20  Loss: 3.536048173904419\n",
            "Epoch: 3  Batch: 30  Loss: 3.367210865020752\n",
            "Epoch: 3  Batch: 40  Loss: 3.7827060222625732\n",
            "Epoch: 3  Batch: 50  Loss: 3.6945700645446777\n",
            "Epoch: 3  Batch: 60  Loss: 4.014524936676025\n",
            "Epoch: 3  Batch: 70  Loss: 3.9032223224639893\n",
            "Epoch: 3  Batch: 80  Loss: 3.1845946311950684\n",
            "Epoch: 3  Batch: 90  Loss: 3.770012617111206\n",
            "Epoch: 3  Batch: 100  Loss: 3.2091033458709717\n",
            "Epoch: 4  Batch: 10  Loss: 2.3597536087036133\n",
            "Epoch: 4  Batch: 20  Loss: 2.840531587600708\n",
            "Epoch: 4  Batch: 30  Loss: 3.4163429737091064\n",
            "Epoch: 4  Batch: 40  Loss: 3.2775051593780518\n",
            "Epoch: 4  Batch: 50  Loss: 3.109222888946533\n",
            "Epoch: 4  Batch: 60  Loss: 3.079881191253662\n",
            "Epoch: 4  Batch: 70  Loss: 2.884343385696411\n",
            "Epoch: 4  Batch: 80  Loss: 3.5739307403564453\n",
            "Epoch: 4  Batch: 90  Loss: 4.034841537475586\n",
            "Epoch: 4  Batch: 100  Loss: 3.3193233013153076\n",
            "Epoch: 5  Batch: 10  Loss: 2.505232810974121\n",
            "Epoch: 5  Batch: 20  Loss: 2.6188790798187256\n",
            "Epoch: 5  Batch: 30  Loss: 3.3230717182159424\n",
            "Epoch: 5  Batch: 40  Loss: 2.500890016555786\n",
            "Epoch: 5  Batch: 50  Loss: 2.6228244304656982\n",
            "Epoch: 5  Batch: 60  Loss: 3.2514967918395996\n",
            "Epoch: 5  Batch: 70  Loss: 3.1012439727783203\n",
            "Epoch: 5  Batch: 80  Loss: 2.7481157779693604\n",
            "Epoch: 5  Batch: 90  Loss: 3.113790512084961\n",
            "Epoch: 5  Batch: 100  Loss: 2.2639122009277344\n",
            "Epoch: 6  Batch: 10  Loss: 2.4419431686401367\n",
            "Epoch: 6  Batch: 20  Loss: 2.3570353984832764\n",
            "Epoch: 6  Batch: 30  Loss: 2.3516788482666016\n",
            "Epoch: 6  Batch: 40  Loss: 1.4340304136276245\n",
            "Epoch: 6  Batch: 50  Loss: 3.2626442909240723\n",
            "Epoch: 6  Batch: 60  Loss: 1.7866241931915283\n",
            "Epoch: 6  Batch: 70  Loss: 2.1962437629699707\n",
            "Epoch: 6  Batch: 80  Loss: 2.6404385566711426\n",
            "Epoch: 6  Batch: 90  Loss: 3.587707996368408\n",
            "Epoch: 6  Batch: 100  Loss: 2.5569374561309814\n",
            "Epoch: 7  Batch: 10  Loss: 3.085871934890747\n",
            "Epoch: 7  Batch: 20  Loss: 1.1192748546600342\n",
            "Epoch: 7  Batch: 30  Loss: 2.003875255584717\n",
            "Epoch: 7  Batch: 40  Loss: 2.072019100189209\n",
            "Epoch: 7  Batch: 50  Loss: 2.537747621536255\n",
            "Epoch: 7  Batch: 60  Loss: 1.6060125827789307\n",
            "Epoch: 7  Batch: 70  Loss: 1.6592544317245483\n",
            "Epoch: 7  Batch: 80  Loss: 1.8813116550445557\n",
            "Epoch: 7  Batch: 90  Loss: 1.782128930091858\n",
            "Epoch: 7  Batch: 100  Loss: 2.4396262168884277\n",
            "Epoch: 8  Batch: 10  Loss: 0.9472078084945679\n",
            "Epoch: 8  Batch: 20  Loss: 0.5773255825042725\n",
            "Epoch: 8  Batch: 30  Loss: 1.7300037145614624\n",
            "Epoch: 8  Batch: 40  Loss: 1.7773618698120117\n",
            "Epoch: 8  Batch: 50  Loss: 1.5765607357025146\n",
            "Epoch: 8  Batch: 60  Loss: 0.6846715807914734\n",
            "Epoch: 8  Batch: 70  Loss: 1.0640475749969482\n",
            "Epoch: 8  Batch: 80  Loss: 1.3575254678726196\n",
            "Epoch: 8  Batch: 90  Loss: 1.8142894506454468\n",
            "Epoch: 8  Batch: 100  Loss: 1.630592942237854\n",
            "Epoch: 9  Batch: 10  Loss: 0.5353115797042847\n",
            "Epoch: 9  Batch: 20  Loss: 0.9407445788383484\n",
            "Epoch: 9  Batch: 30  Loss: 0.46317681670188904\n",
            "Epoch: 9  Batch: 40  Loss: 0.3589255213737488\n",
            "Epoch: 9  Batch: 50  Loss: 0.4007814824581146\n",
            "Epoch: 9  Batch: 60  Loss: 0.7238319516181946\n",
            "Epoch: 9  Batch: 70  Loss: 0.22838112711906433\n",
            "Epoch: 9  Batch: 80  Loss: 0.3689601719379425\n",
            "Epoch: 9  Batch: 90  Loss: 0.5523200035095215\n",
            "Epoch: 9  Batch: 100  Loss: 0.36882761120796204\n",
            "Training Took: 14.314113128185273 minutes!\n"
          ]
        }
      ],
      "source": [
        "import time\n",
        "start_time = time.time()\n",
        "\n",
        "# Create Variables To Tracks Things\n",
        "epochs = 10\n",
        "train_losses = []\n",
        "test_losses = []\n",
        "train_correct = []\n",
        "test_correct = []\n",
        "\n",
        "# For Loop of Epochs\n",
        "for i in range(epochs):\n",
        "  trn_corr = 0\n",
        "  tst_corr = 0\n",
        "\n",
        "\n",
        "  # Train\n",
        "  for b,(X_train, y_train) in enumerate(train_loader):\n",
        "    b+=1 # start our batches at 1\n",
        "    y_pred = model(X_train) # get predicted values from the training set. Not flattened 2D\n",
        "    loss = criterion(y_pred, y_train) # how off are we? Compare the predictions to correct answers in y_train\n",
        "\n",
        "    predicted = torch.max(y_pred.data, 1)[1] # add up the number of correct predictions. Indexed off the first point\n",
        "    batch_corr = (predicted == y_train).sum() # how many we got correct from this batch. True = 1, False=0, sum those up\n",
        "    trn_corr += batch_corr # keep track as we go along in training.\n",
        "\n",
        "    # Update our parameters\n",
        "    optimizer.zero_grad()\n",
        "    loss.backward()\n",
        "    optimizer.step()\n",
        "\n",
        "\n",
        "    # Print out some results\n",
        "    if b%10 == 0:\n",
        "      print(f'Epoch: {i}  Batch: {b}  Loss: {loss.item()}')\n",
        "\n",
        "  train_losses.append(loss)\n",
        "  train_correct.append(trn_corr)\n",
        "\n",
        "\n",
        "  # Test\n",
        "  with torch.no_grad(): #No gradient so we don't update our weights and biases with test data\n",
        "    for b,(X_test, y_test) in enumerate(test_loader):\n",
        "      y_val = model(X_test)\n",
        "      predicted = torch.max(y_val.data, 1)[1] # Adding up correct predictions\n",
        "      tst_corr += (predicted == y_test).sum() # T=1 F=0 and sum away\n",
        "\n",
        "\n",
        "  loss = criterion(y_val, y_test)\n",
        "  test_losses.append(loss)\n",
        "  test_correct.append(tst_corr)\n",
        "\n",
        "\n",
        "\n",
        "current_time = time.time()\n",
        "total = current_time - start_time\n",
        "print(f'Training Took: {total/60} minutes!')"
      ]
    },
    {
      "cell_type": "code",
      "execution_count": 24,
      "metadata": {
        "id": "Pv-8IXYfUHNP"
      },
      "outputs": [],
      "source": []
    },
    {
      "cell_type": "code",
      "execution_count": 153,
      "metadata": {
        "id": "ElQRedwUUHPz",
        "colab": {
          "base_uri": "https://localhost:8080/",
          "height": 469
        },
        "outputId": "dc0f4ceb-1c06-403f-cfea-e9e45a3e908a"
      },
      "outputs": [
        {
          "output_type": "execute_result",
          "data": {
            "text/plain": [
              "<matplotlib.legend.Legend at 0x7ea9167e1870>"
            ]
          },
          "metadata": {},
          "execution_count": 153
        },
        {
          "output_type": "display_data",
          "data": {
            "text/plain": [
              "<Figure size 640x480 with 1 Axes>"
            ],
            "image/png": "[encoded data removed]"
          },
          "metadata": {}
        }
      ],
      "source": [
        "train_losses = [tl.item() for tl in train_losses]\n",
        "plt.plot(train_losses, label=\"Training Loss\")\n",
        "plt.plot(test_losses, label=\"Validation Loss\")\n",
        "plt.title(\"Loss at Epoch\")\n",
        "plt.legend()"
      ]
    },
    {
      "cell_type": "code",
      "execution_count": 25,
      "metadata": {
        "id": "dAsr3lg_UHSV"
      },
      "outputs": [],
      "source": []
    }
  ],
  "metadata": {
    "colab": {
      "provenance": [],
      "authorship_tag": "ABX9TyPgtyl+3TnexqRun4jA42Fq",
      "include_colab_link": true
    },
    "kernelspec": {
      "display_name": "Python 3",
      "name": "python3"
    },
    "language_info": {
      "name": "python"
    }
  },
  "nbformat": 4,
  "nbformat_minor": 0
}