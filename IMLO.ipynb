{
  "cells": [
    {
      "cell_type": "markdown",
      "metadata": {
        "id": "view-in-github",
        "colab_type": "text"
      },
      "source": [
        "<a href=\"https://colab.research.google.com/github/shirinsitara/IMLO/blob/update/IMLO.ipynb\" target=\"_parent\"><img src=\"https://colab.research.google.com/assets/colab-badge.svg\" alt=\"Open In Colab\"/></a>"
      ]
    },
    {
      "cell_type": "code",
      "execution_count": 1,
      "metadata": {
        "id": "CECX9yNhENg3"
      },
      "outputs": [],
      "source": [
        "import torch\n",
        "import torch.nn as nn\n",
        "import torch.nn.functional as F\n",
        "from torch.utils.data import DataLoader\n",
        "from torchvision import datasets, transforms\n",
        "from torchvision.utils import make_grid\n",
        "\n",
        "import numpy as np\n",
        "import pandas as pd\n",
        "from sklearn.metrics import confusion_matrix\n",
        "import matplotlib.pyplot as plt\n",
        "%matplotlib inline"
      ]
    },
    {
      "cell_type": "code",
      "execution_count": 2,
      "metadata": {
        "id": "n6K_tByXEbtR"
      },
      "outputs": [],
      "source": [
        "#transform = transforms.ToTensor()\n",
        "transform = transforms.Compose([\n",
        "    transforms.Resize((224, 224)),  # Resize all images to 224x224\n",
        "    transforms.ToTensor(),          # Convert images to tensor\n",
        "    transforms.Normalize(mean=[0.485, 0.456, 0.406], std=[0.229, 0.224, 0.225])  # Normalize images\n",
        "])"
      ]
    },
    {
      "cell_type": "code",
      "execution_count": 3,
      "metadata": {
        "id": "eKB2EcxxEb7i"
      },
      "outputs": [],
      "source": [
        "#train_data = datasets.MNIST(root='/cnn_data', train=True, download=True, transform=transform)"
      ]
    },
    {
      "cell_type": "code",
      "execution_count": 4,
      "metadata": {
        "id": "9dU4GZPMEcGe",
        "colab": {
          "base_uri": "https://localhost:8080/"
        },
        "outputId": "70984980-b48d-45b0-d668-8c0c1e60266f"
      },
      "outputs": [
        {
          "output_type": "stream",
          "name": "stdout",
          "text": [
            "Downloading https://thor.robots.ox.ac.uk/datasets/flowers-102/102flowers.tgz to /flower_data/flowers-102/102flowers.tgz\n"
          ]
        },
        {
          "output_type": "stream",
          "name": "stderr",
          "text": [
            "100%|██████████| 344862509/344862509 [00:17<00:00, 20083691.10it/s]\n"
          ]
        },
        {
          "output_type": "stream",
          "name": "stdout",
          "text": [
            "Extracting /flower_data/flowers-102/102flowers.tgz to /flower_data/flowers-102\n",
            "Downloading https://thor.robots.ox.ac.uk/datasets/flowers-102/imagelabels.mat to /flower_data/flowers-102/imagelabels.mat\n"
          ]
        },
        {
          "output_type": "stream",
          "name": "stderr",
          "text": [
            "100%|██████████| 502/502 [00:00<00:00, 1636006.69it/s]\n"
          ]
        },
        {
          "output_type": "stream",
          "name": "stdout",
          "text": [
            "Downloading https://thor.robots.ox.ac.uk/datasets/flowers-102/setid.mat to /flower_data/flowers-102/setid.mat\n"
          ]
        },
        {
          "output_type": "stream",
          "name": "stderr",
          "text": [
            "100%|██████████| 14989/14989 [00:00<00:00, 15646695.53it/s]\n"
          ]
        }
      ],
      "source": [
        "from torchvision.datasets import Flowers102\n",
        "\n",
        "# Load the training data\n",
        "train_data = Flowers102(root='/flower_data', split='train', download=True, transform=transform)\n",
        "\n",
        "# Load the validation data\n",
        "val_data = Flowers102(root='/flower_data', split='val', download=True, transform=transform)\n",
        "\n",
        "# Load the test data\n",
        "test_data = Flowers102(root='/flower_data', split='test', download=True, transform=transform)\n"
      ]
    },
    {
      "cell_type": "code",
      "execution_count": 5,
      "metadata": {
        "colab": {
          "base_uri": "https://localhost:8080/"
        },
        "id": "5LxTEuZvKkSh",
        "outputId": "7c7064b1-1803-4865-f06b-16ab379d6342"
      },
      "outputs": [
        {
          "output_type": "execute_result",
          "data": {
            "text/plain": [
              "Dataset Flowers102\n",
              "    Number of datapoints: 1020\n",
              "    Root location: /flower_data\n",
              "    split=train\n",
              "    StandardTransform\n",
              "Transform: Compose(\n",
              "               Resize(size=(224, 224), interpolation=bilinear, max_size=None, antialias=True)\n",
              "               ToTensor()\n",
              "               Normalize(mean=[0.485, 0.456, 0.406], std=[0.229, 0.224, 0.225])\n",
              "           )"
            ]
          },
          "metadata": {},
          "execution_count": 5
        }
      ],
      "source": [
        "train_data"
      ]
    },
    {
      "cell_type": "code",
      "execution_count": 6,
      "metadata": {
        "colab": {
          "base_uri": "https://localhost:8080/"
        },
        "id": "-VmmXY2uD3F7",
        "outputId": "e3100657-d201-4123-90ca-9723274d2575"
      },
      "outputs": [
        {
          "output_type": "execute_result",
          "data": {
            "text/plain": [
              "Dataset Flowers102\n",
              "    Number of datapoints: 6149\n",
              "    Root location: /flower_data\n",
              "    split=test\n",
              "    StandardTransform\n",
              "Transform: Compose(\n",
              "               Resize(size=(224, 224), interpolation=bilinear, max_size=None, antialias=True)\n",
              "               ToTensor()\n",
              "               Normalize(mean=[0.485, 0.456, 0.406], std=[0.229, 0.224, 0.225])\n",
              "           )"
            ]
          },
          "metadata": {},
          "execution_count": 6
        }
      ],
      "source": [
        "test_data"
      ]
    },
    {
      "cell_type": "code",
      "execution_count": 7,
      "metadata": {
        "colab": {
          "base_uri": "https://localhost:8080/"
        },
        "id": "ZcFRIIUFKkch",
        "outputId": "aee7d8ff-718b-4281-9178-605b95ac0b69"
      },
      "outputs": [
        {
          "output_type": "execute_result",
          "data": {
            "text/plain": [
              "Dataset Flowers102\n",
              "    Number of datapoints: 1020\n",
              "    Root location: /flower_data\n",
              "    split=val\n",
              "    StandardTransform\n",
              "Transform: Compose(\n",
              "               Resize(size=(224, 224), interpolation=bilinear, max_size=None, antialias=True)\n",
              "               ToTensor()\n",
              "               Normalize(mean=[0.485, 0.456, 0.406], std=[0.229, 0.224, 0.225])\n",
              "           )"
            ]
          },
          "metadata": {},
          "execution_count": 7
        }
      ],
      "source": [
        "val_data"
      ]
    },
    {
      "cell_type": "code",
      "execution_count": 8,
      "metadata": {
        "id": "T6pTLsZyK7Eh"
      },
      "outputs": [],
      "source": [
        "train_loader = DataLoader(train_data, batch_size=10, shuffle=True)\n",
        "test_loader = DataLoader(test_data, batch_size=10, shuffle=False)"
      ]
    },
    {
      "cell_type": "code",
      "execution_count": 9,
      "metadata": {
        "id": "m-Ha781OLKt8"
      },
      "outputs": [],
      "source": [
        "conv1 = nn.Conv2d(3, 10, 3, 1)\n",
        "conv2 = nn.Conv2d(10, 32, 3, 2)\n",
        "conv3 = nn.Conv2d(32, 64, 3, 2)\n",
        "conv4 = nn.Conv2d(64, 128, 3, 2)"
      ]
    },
    {
      "cell_type": "code",
      "execution_count": 10,
      "metadata": {
        "id": "P1mVq_wOLXem"
      },
      "outputs": [],
      "source": [
        "for i, (X_Train, y_train) in enumerate(train_data):\n",
        "  break\n"
      ]
    },
    {
      "cell_type": "code",
      "execution_count": 11,
      "metadata": {
        "colab": {
          "base_uri": "https://localhost:8080/"
        },
        "id": "WOgOr0WKLezq",
        "outputId": "a18f8aa7-57bd-47d1-b35b-7aab9193ac55"
      },
      "outputs": [
        {
          "output_type": "execute_result",
          "data": {
            "text/plain": [
              "torch.Size([3, 224, 224])"
            ]
          },
          "metadata": {},
          "execution_count": 11
        }
      ],
      "source": [
        "X_Train.shape"
      ]
    },
    {
      "cell_type": "code",
      "execution_count": 12,
      "metadata": {
        "id": "tDHYf_fALorw"
      },
      "outputs": [],
      "source": [
        "x = X_Train.view(1,3,224,224)"
      ]
    },
    {
      "cell_type": "code",
      "execution_count": 13,
      "metadata": {
        "id": "h0Sd1PjcQP9N"
      },
      "outputs": [],
      "source": [
        "x = F.relu(conv1(x))"
      ]
    },
    {
      "cell_type": "code",
      "execution_count": 14,
      "metadata": {
        "colab": {
          "base_uri": "https://localhost:8080/"
        },
        "id": "2q4uxHV6Lox6",
        "outputId": "b22159b9-e0b2-4613-8b95-ae7a89565924"
      },
      "outputs": [
        {
          "output_type": "execute_result",
          "data": {
            "text/plain": [
              "torch.Size([1, 10, 222, 222])"
            ]
          },
          "metadata": {},
          "execution_count": 14
        }
      ],
      "source": [
        "x.shape"
      ]
    },
    {
      "cell_type": "code",
      "execution_count": 15,
      "metadata": {
        "id": "S8rcz9WoLo6z"
      },
      "outputs": [],
      "source": [
        "x = F.relu(conv2(x))"
      ]
    },
    {
      "cell_type": "code",
      "execution_count": 16,
      "metadata": {
        "colab": {
          "base_uri": "https://localhost:8080/"
        },
        "id": "xt6BqkJoLo4a",
        "outputId": "91a9a686-4fd6-4aea-b53a-6d4759666c42"
      },
      "outputs": [
        {
          "output_type": "execute_result",
          "data": {
            "text/plain": [
              "torch.Size([1, 32, 110, 110])"
            ]
          },
          "metadata": {},
          "execution_count": 16
        }
      ],
      "source": [
        "x.shape"
      ]
    },
    {
      "cell_type": "code",
      "execution_count": 17,
      "metadata": {
        "id": "ZdcfBC66Lo1H"
      },
      "outputs": [],
      "source": [
        "x = F.max_pool2d(x,2,2)"
      ]
    },
    {
      "cell_type": "code",
      "execution_count": 18,
      "metadata": {
        "colab": {
          "base_uri": "https://localhost:8080/"
        },
        "id": "w6n4sakKLo8x",
        "outputId": "5c4497ba-d291-44f3-a31f-8177033c41c4"
      },
      "outputs": [
        {
          "output_type": "execute_result",
          "data": {
            "text/plain": [
              "torch.Size([1, 32, 55, 55])"
            ]
          },
          "metadata": {},
          "execution_count": 18
        }
      ],
      "source": [
        "x.shape"
      ]
    },
    {
      "cell_type": "code",
      "source": [
        "x = F.relu(conv3(x))"
      ],
      "metadata": {
        "id": "C7DFYR5a0-6-"
      },
      "execution_count": 19,
      "outputs": []
    },
    {
      "cell_type": "code",
      "source": [
        "x.shape"
      ],
      "metadata": {
        "colab": {
          "base_uri": "https://localhost:8080/"
        },
        "id": "OByyFOZw0_im",
        "outputId": "50b29a9e-1181-44e7-ca31-d7b2fae013d6"
      },
      "execution_count": 20,
      "outputs": [
        {
          "output_type": "execute_result",
          "data": {
            "text/plain": [
              "torch.Size([1, 64, 27, 27])"
            ]
          },
          "metadata": {},
          "execution_count": 20
        }
      ]
    },
    {
      "cell_type": "code",
      "source": [
        "x = F.avg_pool2d(x, 2, 2)"
      ],
      "metadata": {
        "id": "ICfWOufM4VU9"
      },
      "execution_count": 21,
      "outputs": []
    },
    {
      "cell_type": "code",
      "source": [
        "x.shape"
      ],
      "metadata": {
        "colab": {
          "base_uri": "https://localhost:8080/"
        },
        "id": "DWSh3j0s4eJ3",
        "outputId": "e28aba01-b86d-4549-e0c8-7f42f02591a8"
      },
      "execution_count": 22,
      "outputs": [
        {
          "output_type": "execute_result",
          "data": {
            "text/plain": [
              "torch.Size([1, 64, 13, 13])"
            ]
          },
          "metadata": {},
          "execution_count": 22
        }
      ]
    },
    {
      "cell_type": "code",
      "source": [
        "x = F.relu(conv4(x))"
      ],
      "metadata": {
        "id": "H8GP5m4M0LIY"
      },
      "execution_count": 23,
      "outputs": []
    },
    {
      "cell_type": "code",
      "source": [
        "x.shape"
      ],
      "metadata": {
        "id": "9GEdt-Lj0Tb2",
        "outputId": "be15c6f6-e363-42f1-ce2a-2df333b60393",
        "colab": {
          "base_uri": "https://localhost:8080/"
        }
      },
      "execution_count": 24,
      "outputs": [
        {
          "output_type": "execute_result",
          "data": {
            "text/plain": [
              "torch.Size([1, 128, 6, 6])"
            ]
          },
          "metadata": {},
          "execution_count": 24
        }
      ]
    },
    {
      "cell_type": "code",
      "source": [],
      "metadata": {
        "id": "NDp3aQgvuq1j"
      },
      "execution_count": 24,
      "outputs": []
    },
    {
      "cell_type": "code",
      "source": [],
      "metadata": {
        "id": "ReXsu0N2urEM"
      },
      "execution_count": 24,
      "outputs": []
    },
    {
      "cell_type": "code",
      "execution_count": 25,
      "metadata": {
        "id": "s2YBCz6kWR-3"
      },
      "outputs": [],
      "source": [
        "class ConvolutionalNetwork(nn.Module):\n",
        "  def __init__(self):\n",
        "    super().__init__()\n",
        "    self.conv1 = nn.Conv2d(3,10,3,1)\n",
        "    self.conv2 = nn.Conv2d(10,32,3,2)\n",
        "    self.conv3 = nn.Conv2d(32, 64, 3, 2)\n",
        "    #self.conv4 = nn.Conv2d(128, 512, 3, 2)\n",
        "    # Fully Connected Layer\n",
        "    self.fc1 = nn.Linear(64*13*13, 1200)\n",
        "    self.fc2 = nn.Linear(1200, 720)\n",
        "    self.fc3 = nn.Linear(720, 102)\n",
        "\n",
        "\n",
        "  def forward(self, X):\n",
        "    X = F.relu(self.conv1(X))\n",
        "    X = F.relu(self.conv2(X))\n",
        "\n",
        "    X = F.max_pool2d(X,2,2)\n",
        "\n",
        "    X = F.relu(self.conv3(X))\n",
        "    X = F.max_pool2d(X, 2, 2)\n",
        "\n",
        "    #X = F.relu(self.conv4(X))\n",
        "\n",
        "    # Re-View to flatten it out\n",
        "    X = X.view(-1, 64*13*13)\n",
        "\n",
        "    # Fully Connected Layers\n",
        "    X = F.relu(self.fc1(X))\n",
        "    X = F.relu(self.fc2(X))\n",
        "    X = self.fc3(X)\n",
        "    return F.log_softmax(X, dim=1)"
      ]
    },
    {
      "cell_type": "code",
      "execution_count": 26,
      "metadata": {
        "colab": {
          "base_uri": "https://localhost:8080/"
        },
        "id": "pfKcXQXkUsle",
        "outputId": "a1707286-4e29-4078-aba9-1a06cfba3a64"
      },
      "outputs": [
        {
          "output_type": "execute_result",
          "data": {
            "text/plain": [
              "ConvolutionalNetwork(\n",
              "  (conv1): Conv2d(3, 10, kernel_size=(3, 3), stride=(1, 1))\n",
              "  (conv2): Conv2d(10, 32, kernel_size=(3, 3), stride=(2, 2))\n",
              "  (conv3): Conv2d(32, 64, kernel_size=(3, 3), stride=(2, 2))\n",
              "  (fc1): Linear(in_features=10816, out_features=1200, bias=True)\n",
              "  (fc2): Linear(in_features=1200, out_features=720, bias=True)\n",
              "  (fc3): Linear(in_features=720, out_features=102, bias=True)\n",
              ")"
            ]
          },
          "metadata": {},
          "execution_count": 26
        }
      ],
      "source": [
        "torch.manual_seed(41)\n",
        "model = ConvolutionalNetwork()\n",
        "model"
      ]
    },
    {
      "cell_type": "code",
      "execution_count": 27,
      "metadata": {
        "id": "HZAL9GwMUHH9"
      },
      "outputs": [],
      "source": [
        "# Loss Function Optimizer\n",
        "criterion = nn.CrossEntropyLoss()\n",
        "optimizer = torch.optim.Adam(model.parameters(), lr=0.001) # Smaller the Learning Rate, longer its gonna take to train."
      ]
    },
    {
      "cell_type": "code",
      "execution_count": 28,
      "metadata": {
        "colab": {
          "base_uri": "https://localhost:8080/"
        },
        "id": "8lQVO-EPUHKv",
        "outputId": "ac403f4e-6fde-4278-e76e-ef4313d3fd63"
      },
      "outputs": [
        {
          "output_type": "stream",
          "name": "stdout",
          "text": [
            "Epoch: 0  Batch: 10  Loss: 4.610030174255371\n",
            "Epoch: 0  Batch: 20  Loss: 4.621254920959473\n",
            "Epoch: 0  Batch: 30  Loss: 4.653859615325928\n",
            "Epoch: 0  Batch: 40  Loss: 4.620694160461426\n",
            "Epoch: 0  Batch: 50  Loss: 4.6248979568481445\n",
            "Epoch: 0  Batch: 60  Loss: 4.48367166519165\n",
            "Epoch: 0  Batch: 70  Loss: 4.459519386291504\n",
            "Epoch: 0  Batch: 80  Loss: 4.2489752769470215\n",
            "Epoch: 0  Batch: 90  Loss: 4.326986789703369\n",
            "Epoch: 0  Batch: 100  Loss: 4.500400543212891\n",
            "Epoch: 1  Batch: 10  Loss: 4.369038105010986\n",
            "Epoch: 1  Batch: 20  Loss: 4.288078308105469\n",
            "Epoch: 1  Batch: 30  Loss: 4.329817295074463\n",
            "Epoch: 1  Batch: 40  Loss: 4.496441841125488\n",
            "Epoch: 1  Batch: 50  Loss: 3.9366657733917236\n",
            "Epoch: 1  Batch: 60  Loss: 4.360456466674805\n",
            "Epoch: 1  Batch: 70  Loss: 4.059518814086914\n",
            "Epoch: 1  Batch: 80  Loss: 4.178236961364746\n",
            "Epoch: 1  Batch: 90  Loss: 3.498284101486206\n",
            "Epoch: 1  Batch: 100  Loss: 4.269923210144043\n",
            "Epoch: 2  Batch: 10  Loss: 3.9755301475524902\n",
            "Epoch: 2  Batch: 20  Loss: 3.805072069168091\n",
            "Epoch: 2  Batch: 30  Loss: 3.796517848968506\n",
            "Epoch: 2  Batch: 40  Loss: 3.984638214111328\n",
            "Epoch: 2  Batch: 50  Loss: 3.8662123680114746\n",
            "Epoch: 2  Batch: 60  Loss: 3.692695140838623\n",
            "Epoch: 2  Batch: 70  Loss: 4.054068565368652\n",
            "Epoch: 2  Batch: 80  Loss: 4.039200305938721\n",
            "Epoch: 2  Batch: 90  Loss: 4.156571865081787\n",
            "Epoch: 2  Batch: 100  Loss: 3.725360870361328\n",
            "Epoch: 3  Batch: 10  Loss: 3.708505153656006\n",
            "Epoch: 3  Batch: 20  Loss: 3.722041368484497\n",
            "Epoch: 3  Batch: 30  Loss: 3.920464277267456\n",
            "Epoch: 3  Batch: 40  Loss: 3.4090869426727295\n",
            "Epoch: 3  Batch: 50  Loss: 3.6240005493164062\n",
            "Epoch: 3  Batch: 60  Loss: 2.8397674560546875\n",
            "Epoch: 3  Batch: 70  Loss: 3.6393043994903564\n",
            "Epoch: 3  Batch: 80  Loss: 4.066056251525879\n",
            "Epoch: 3  Batch: 90  Loss: 3.404872179031372\n",
            "Epoch: 3  Batch: 100  Loss: 3.642031192779541\n",
            "Epoch: 4  Batch: 10  Loss: 3.388408660888672\n",
            "Epoch: 4  Batch: 20  Loss: 3.0163307189941406\n",
            "Epoch: 4  Batch: 30  Loss: 3.139925956726074\n",
            "Epoch: 4  Batch: 40  Loss: 3.0007102489471436\n",
            "Epoch: 4  Batch: 50  Loss: 3.793631076812744\n",
            "Epoch: 4  Batch: 60  Loss: 3.2626259326934814\n",
            "Epoch: 4  Batch: 70  Loss: 3.225975513458252\n",
            "Epoch: 4  Batch: 80  Loss: 2.590353012084961\n",
            "Epoch: 4  Batch: 90  Loss: 3.672161817550659\n",
            "Epoch: 4  Batch: 100  Loss: 3.098278045654297\n",
            "Epoch: 5  Batch: 10  Loss: 2.2803332805633545\n",
            "Epoch: 5  Batch: 20  Loss: 2.1875109672546387\n",
            "Epoch: 5  Batch: 30  Loss: 2.1985599994659424\n",
            "Epoch: 5  Batch: 40  Loss: 3.192117929458618\n",
            "Epoch: 5  Batch: 50  Loss: 2.745508909225464\n",
            "Epoch: 5  Batch: 60  Loss: 2.054582357406616\n",
            "Epoch: 5  Batch: 70  Loss: 2.5323076248168945\n",
            "Epoch: 5  Batch: 80  Loss: 2.865670680999756\n",
            "Epoch: 5  Batch: 90  Loss: 2.0832362174987793\n",
            "Epoch: 5  Batch: 100  Loss: 2.752869129180908\n",
            "Epoch: 6  Batch: 10  Loss: 1.172992467880249\n",
            "Epoch: 6  Batch: 20  Loss: 1.6096837520599365\n",
            "Epoch: 6  Batch: 30  Loss: 1.4807140827178955\n",
            "Epoch: 6  Batch: 40  Loss: 1.2284977436065674\n",
            "Epoch: 6  Batch: 50  Loss: 0.7538675665855408\n",
            "Epoch: 6  Batch: 60  Loss: 2.17368745803833\n",
            "Epoch: 6  Batch: 70  Loss: 1.5632479190826416\n",
            "Epoch: 6  Batch: 80  Loss: 1.7965357303619385\n",
            "Epoch: 6  Batch: 90  Loss: 1.1103845834732056\n",
            "Epoch: 6  Batch: 100  Loss: 1.7159879207611084\n",
            "Epoch: 7  Batch: 10  Loss: 0.8993108868598938\n",
            "Epoch: 7  Batch: 20  Loss: 0.7904058694839478\n",
            "Epoch: 7  Batch: 30  Loss: 0.6034851670265198\n",
            "Epoch: 7  Batch: 40  Loss: 0.6124618053436279\n",
            "Epoch: 7  Batch: 50  Loss: 0.8407210111618042\n",
            "Epoch: 7  Batch: 60  Loss: 0.39050304889678955\n",
            "Epoch: 7  Batch: 70  Loss: 1.3262536525726318\n",
            "Epoch: 7  Batch: 80  Loss: 0.5721322298049927\n",
            "Epoch: 7  Batch: 90  Loss: 0.35690727829933167\n",
            "Epoch: 7  Batch: 100  Loss: 0.9334070086479187\n",
            "Epoch: 8  Batch: 10  Loss: 0.13577264547348022\n",
            "Epoch: 8  Batch: 20  Loss: 0.3585361838340759\n",
            "Epoch: 8  Batch: 30  Loss: 0.1784982979297638\n",
            "Epoch: 8  Batch: 40  Loss: 0.548141360282898\n",
            "Epoch: 8  Batch: 50  Loss: 0.47225505113601685\n",
            "Epoch: 8  Batch: 60  Loss: 0.13511046767234802\n",
            "Epoch: 8  Batch: 70  Loss: 0.05441521480679512\n",
            "Epoch: 8  Batch: 80  Loss: 0.17825239896774292\n",
            "Epoch: 8  Batch: 90  Loss: 0.14240194857120514\n",
            "Epoch: 8  Batch: 100  Loss: 0.37583065032958984\n",
            "Epoch: 9  Batch: 10  Loss: 0.03084045648574829\n",
            "Epoch: 9  Batch: 20  Loss: 0.045560967177152634\n",
            "Epoch: 9  Batch: 30  Loss: 0.02599428966641426\n",
            "Epoch: 9  Batch: 40  Loss: 0.05193490535020828\n",
            "Epoch: 9  Batch: 50  Loss: 0.37627357244491577\n",
            "Epoch: 9  Batch: 60  Loss: 0.01825547218322754\n",
            "Epoch: 9  Batch: 70  Loss: 0.012950306758284569\n",
            "Epoch: 9  Batch: 80  Loss: 0.0779043436050415\n",
            "Epoch: 9  Batch: 90  Loss: 0.0434391126036644\n",
            "Epoch: 9  Batch: 100  Loss: 0.09864683449268341\n",
            "Epoch: 10  Batch: 10  Loss: 0.2102530300617218\n",
            "Epoch: 10  Batch: 20  Loss: 0.004519143607467413\n",
            "Epoch: 10  Batch: 30  Loss: 0.09426649659872055\n",
            "Epoch: 10  Batch: 40  Loss: 0.012203753925859928\n",
            "Epoch: 10  Batch: 50  Loss: 0.04995860159397125\n",
            "Epoch: 10  Batch: 60  Loss: 0.01789328083395958\n",
            "Epoch: 10  Batch: 70  Loss: 0.006262405309826136\n",
            "Epoch: 10  Batch: 80  Loss: 0.0016698392573744059\n",
            "Epoch: 10  Batch: 90  Loss: 0.004187616985291243\n",
            "Epoch: 10  Batch: 100  Loss: 0.25194892287254333\n",
            "Epoch: 11  Batch: 10  Loss: 0.21759411692619324\n",
            "Epoch: 11  Batch: 20  Loss: 0.03916030749678612\n",
            "Epoch: 11  Batch: 30  Loss: 0.021814541891217232\n",
            "Epoch: 11  Batch: 40  Loss: 0.023584162816405296\n",
            "Epoch: 11  Batch: 50  Loss: 0.014929967001080513\n",
            "Epoch: 11  Batch: 60  Loss: 0.007020855788141489\n",
            "Epoch: 11  Batch: 70  Loss: 0.20180439949035645\n",
            "Epoch: 11  Batch: 80  Loss: 0.013872372917830944\n",
            "Epoch: 11  Batch: 90  Loss: 0.054635874927043915\n",
            "Epoch: 11  Batch: 100  Loss: 0.032401300966739655\n",
            "Epoch: 12  Batch: 10  Loss: 0.015102669596672058\n",
            "Epoch: 12  Batch: 20  Loss: 0.023873556405305862\n",
            "Epoch: 12  Batch: 30  Loss: 0.010342503897845745\n",
            "Epoch: 12  Batch: 40  Loss: 0.026911597698926926\n",
            "Epoch: 12  Batch: 50  Loss: 0.0016398979350924492\n",
            "Epoch: 12  Batch: 60  Loss: 0.0009086247300729156\n",
            "Epoch: 12  Batch: 70  Loss: 0.013265679590404034\n",
            "Epoch: 12  Batch: 80  Loss: 0.4080999493598938\n",
            "Epoch: 12  Batch: 90  Loss: 0.011456860229372978\n",
            "Epoch: 12  Batch: 100  Loss: 0.004691261798143387\n",
            "Epoch: 13  Batch: 10  Loss: 0.01046394370496273\n",
            "Epoch: 13  Batch: 20  Loss: 0.005256085190922022\n",
            "Epoch: 13  Batch: 30  Loss: 0.09720977395772934\n",
            "Epoch: 13  Batch: 40  Loss: 0.007381663657724857\n",
            "Epoch: 13  Batch: 50  Loss: 0.5035995244979858\n",
            "Epoch: 13  Batch: 60  Loss: 0.005550978239625692\n",
            "Epoch: 13  Batch: 70  Loss: 0.0009984011994674802\n",
            "Epoch: 13  Batch: 80  Loss: 0.0031021996401250362\n",
            "Epoch: 13  Batch: 90  Loss: 0.004007295239716768\n",
            "Epoch: 13  Batch: 100  Loss: 0.03390800207853317\n",
            "Epoch: 14  Batch: 10  Loss: 0.004940963350236416\n",
            "Epoch: 14  Batch: 20  Loss: 0.00046903808834031224\n",
            "Epoch: 14  Batch: 30  Loss: 0.027139389887452126\n",
            "Epoch: 14  Batch: 40  Loss: 0.06831537187099457\n",
            "Epoch: 14  Batch: 50  Loss: 0.00041076308116316795\n",
            "Epoch: 14  Batch: 60  Loss: 0.0006819664849899709\n",
            "Epoch: 14  Batch: 70  Loss: 0.006235925015062094\n",
            "Epoch: 14  Batch: 80  Loss: 0.003163325134664774\n",
            "Epoch: 14  Batch: 90  Loss: 0.0009334533242508769\n",
            "Epoch: 14  Batch: 100  Loss: 0.00879114679992199\n",
            "Epoch: 15  Batch: 10  Loss: 0.0020063493866473436\n",
            "Epoch: 15  Batch: 20  Loss: 0.10776931047439575\n",
            "Epoch: 15  Batch: 30  Loss: 0.0005385919357649982\n",
            "Epoch: 15  Batch: 40  Loss: 0.0005723568610846996\n",
            "Epoch: 15  Batch: 50  Loss: 0.0001371134858345613\n",
            "Epoch: 15  Batch: 60  Loss: 0.0009896770352497697\n",
            "Epoch: 15  Batch: 70  Loss: 0.0006514381384477019\n",
            "Epoch: 15  Batch: 80  Loss: 0.005018495488911867\n",
            "Epoch: 15  Batch: 90  Loss: 0.00321568688377738\n",
            "Epoch: 15  Batch: 100  Loss: 0.00033507999614812434\n",
            "Epoch: 16  Batch: 10  Loss: 7.800478488206863e-05\n",
            "Epoch: 16  Batch: 20  Loss: 0.0005796755431219935\n",
            "Epoch: 16  Batch: 30  Loss: 0.0004301456792745739\n",
            "Epoch: 16  Batch: 40  Loss: 0.00041564731509424746\n",
            "Epoch: 16  Batch: 50  Loss: 0.00021394318901002407\n",
            "Epoch: 16  Batch: 60  Loss: 0.00033103954046964645\n",
            "Epoch: 16  Batch: 70  Loss: 0.00046499987365677953\n",
            "Epoch: 16  Batch: 80  Loss: 1.6676825907779858e-05\n",
            "Epoch: 16  Batch: 90  Loss: 0.0002606365014798939\n",
            "Epoch: 16  Batch: 100  Loss: 0.0008787543629296124\n",
            "Epoch: 17  Batch: 10  Loss: 0.0005811070441268384\n",
            "Epoch: 17  Batch: 20  Loss: 0.00038967252476140857\n",
            "Epoch: 17  Batch: 30  Loss: 0.0003038196300622076\n",
            "Epoch: 17  Batch: 40  Loss: 9.378813410876319e-05\n",
            "Epoch: 17  Batch: 50  Loss: 0.00019202110706828535\n",
            "Epoch: 17  Batch: 60  Loss: 6.443575693992898e-05\n",
            "Epoch: 17  Batch: 70  Loss: 0.0002553563972469419\n",
            "Epoch: 17  Batch: 80  Loss: 3.2135674700839445e-05\n",
            "Epoch: 17  Batch: 90  Loss: 0.0003400330897420645\n",
            "Epoch: 17  Batch: 100  Loss: 4.63298310933169e-05\n",
            "Epoch: 18  Batch: 10  Loss: 0.0002781693183351308\n",
            "Epoch: 18  Batch: 20  Loss: 0.0002342409861739725\n",
            "Epoch: 18  Batch: 30  Loss: 5.9633552154991776e-05\n",
            "Epoch: 18  Batch: 40  Loss: 1.7177342670038342e-05\n",
            "Epoch: 18  Batch: 50  Loss: 4.0409322537016124e-05\n",
            "Epoch: 18  Batch: 60  Loss: 1.807160697353538e-05\n",
            "Epoch: 18  Batch: 70  Loss: 0.20181314647197723\n",
            "Epoch: 18  Batch: 80  Loss: 0.0013934073504060507\n",
            "Epoch: 18  Batch: 90  Loss: 0.01664990372955799\n",
            "Epoch: 18  Batch: 100  Loss: 0.8418031930923462\n",
            "Epoch: 19  Batch: 10  Loss: 0.4174186587333679\n",
            "Epoch: 19  Batch: 20  Loss: 0.1669042557477951\n",
            "Epoch: 19  Batch: 30  Loss: 0.08288776129484177\n",
            "Epoch: 19  Batch: 40  Loss: 0.058626241981983185\n",
            "Epoch: 19  Batch: 50  Loss: 0.5310038328170776\n",
            "Epoch: 19  Batch: 60  Loss: 0.05528155714273453\n",
            "Epoch: 19  Batch: 70  Loss: 1.1983134746551514\n",
            "Epoch: 19  Batch: 80  Loss: 0.019185364246368408\n",
            "Epoch: 19  Batch: 90  Loss: 0.24367329478263855\n",
            "Epoch: 19  Batch: 100  Loss: 0.03664109855890274\n",
            "Training Took: 18.749368906021118 minutes!\n"
          ]
        }
      ],
      "source": [
        "import time\n",
        "start_time = time.time()\n",
        "\n",
        "# Create Variables To Tracks Things\n",
        "epochs = 20\n",
        "train_losses = []\n",
        "test_losses = []\n",
        "train_correct = []\n",
        "test_correct = []\n",
        "\n",
        "# For Loop of Epochs\n",
        "for i in range(epochs):\n",
        "  trn_corr = 0\n",
        "  tst_corr = 0\n",
        "\n",
        "\n",
        "  # Train\n",
        "  for b,(X_train, y_train) in enumerate(train_loader):\n",
        "    b+=1 # start our batches at 1\n",
        "    y_pred = model(X_train) # get predicted values from the training set. Not flattened 2D\n",
        "    loss = criterion(y_pred, y_train) # how off are we? Compare the predictions to correct answers in y_train\n",
        "\n",
        "    predicted = torch.max(y_pred.data, 1)[1] # add up the number of correct predictions. Indexed off the first point\n",
        "    batch_corr = (predicted == y_train).sum() # how many we got correct from this batch. True = 1, False=0, sum those up\n",
        "    trn_corr += batch_corr # keep track as we go along in training.\n",
        "\n",
        "    # Update our parameters\n",
        "    optimizer.zero_grad()\n",
        "    loss.backward()\n",
        "    optimizer.step()\n",
        "\n",
        "\n",
        "    # Print out some results\n",
        "    if b%10 == 0:\n",
        "      print(f'Epoch: {i}  Batch: {b}  Loss: {loss.item()}')\n",
        "\n",
        "  train_losses.append(loss)\n",
        "  train_correct.append(trn_corr)\n",
        "\n",
        "\n",
        "  # Test\n",
        "  with torch.no_grad(): #No gradient so we don't update our weights and biases with test data\n",
        "    for b,(X_test, y_test) in enumerate(test_loader):\n",
        "      y_val = model(X_test)\n",
        "      predicted = torch.max(y_val.data, 1)[1] # Adding up correct predictions\n",
        "      tst_corr += (predicted == y_test).sum() # T=1 F=0 and sum away\n",
        "\n",
        "\n",
        "  loss = criterion(y_val, y_test)\n",
        "  test_losses.append(loss)\n",
        "  test_correct.append(tst_corr)\n",
        "\n",
        "\n",
        "\n",
        "current_time = time.time()\n",
        "total = current_time - start_time\n",
        "print(f'Training Took: {total/60} minutes!')"
      ]
    },
    {
      "cell_type": "code",
      "execution_count": 28,
      "metadata": {
        "id": "Pv-8IXYfUHNP"
      },
      "outputs": [],
      "source": []
    },
    {
      "cell_type": "code",
      "execution_count": 29,
      "metadata": {
        "id": "ElQRedwUUHPz",
        "colab": {
          "base_uri": "https://localhost:8080/",
          "height": 469
        },
        "outputId": "a5c05f71-bce7-4225-e209-04b5127102bf"
      },
      "outputs": [
        {
          "data": {
            "text/plain": [
              "<matplotlib.legend.Legend at 0x7c7edf77e440>"
            ]
          },
          "execution_count": 29,
          "metadata": {},
          "output_type": "execute_result"
        },
        {
          "output_type": "display_data",
          "data": {
            "text/plain": [
              "<Figure size 640x480 with 1 Axes>"
            ],
            "image/png": "[encoded data removed]"
          },
          "metadata": {}
        }
      ],
      "source": [
        "train_losses = [tl.item() for tl in train_losses]\n",
        "plt.plot(train_losses, label=\"Training Loss\")\n",
        "plt.plot(test_losses, label=\"Validation Loss\")\n",
        "plt.title(\"Loss at Epoch\")\n",
        "plt.legend()"
      ]
    },
    {
      "cell_type": "code",
      "execution_count": 30,
      "metadata": {
        "id": "dAsr3lg_UHSV",
        "colab": {
          "base_uri": "https://localhost:8080/",
          "height": 469
        },
        "outputId": "1c9ec8a1-4794-40fb-b580-885e3a4f78d5"
      },
      "outputs": [
        {
          "output_type": "execute_result",
          "data": {
            "text/plain": [
              "<matplotlib.legend.Legend at 0x7c7edf37fa00>"
            ]
          },
          "metadata": {},
          "execution_count": 30
        },
        {
          "output_type": "display_data",
          "data": {
            "text/plain": [
              "<Figure size 640x480 with 1 Axes>"
            ],
            "image/png": "[encoded data removed]"
          },
          "metadata": {}
        }
      ],
      "source": [
        "plt.plot([t/600 for t in train_correct], label=\"Training Accuracy\")\n",
        "plt.plot([t/100 for t in test_correct], label=\"Validation Accuracy\")\n",
        "plt.title(\"Accuracy at the end of each Epoch\")\n",
        "plt.legend()"
      ]
    }
  ],
  "metadata": {
    "colab": {
      "provenance": [],
      "machine_shape": "hm",
      "gpuType": "L4",
      "authorship_tag": "ABX9TyNcTUTN+SPS2bd9QEoOb4sQ",
      "include_colab_link": true
    },
    "kernelspec": {
      "display_name": "Python 3",
      "name": "python3"
    },
    "language_info": {
      "name": "python"
    },
    "accelerator": "GPU"
  },
  "nbformat": 4,
  "nbformat_minor": 0
}