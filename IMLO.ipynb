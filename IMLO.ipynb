{
  "cells": [
    {
      "cell_type": "markdown",
      "metadata": {
        "id": "view-in-github",
        "colab_type": "text"
      },
      "source": [
        "<a href=\"https://colab.research.google.com/github/shirinsitara/IMLO/blob/main/IMLO.ipynb\" target=\"_parent\"><img src=\"https://colab.research.google.com/assets/colab-badge.svg\" alt=\"Open In Colab\"/></a>"
      ]
    },
    {
      "cell_type": "code",
      "execution_count": 1,
      "metadata": {
        "id": "CECX9yNhENg3"
      },
      "outputs": [],
      "source": [
        "import torch\n",
        "import torch.nn as nn\n",
        "import torch.nn.functional as F\n",
        "from torch.utils.data import DataLoader\n",
        "from torchvision import datasets, transforms\n",
        "from torchvision.utils import make_grid\n",
        "\n",
        "import numpy as np\n",
        "import pandas as pd\n",
        "from sklearn.metrics import confusion_matrix\n",
        "import matplotlib.pyplot as plt\n",
        "%matplotlib inline"
      ]
    },
    {
      "cell_type": "code",
      "execution_count": 2,
      "metadata": {
        "id": "n6K_tByXEbtR"
      },
      "outputs": [],
      "source": [
        "#transform = transforms.ToTensor()\n",
        "transform = transforms.Compose([\n",
        "    transforms.Resize((224, 224)),  # Resize all images to 224x224\n",
        "    transforms.ToTensor(),          # Convert images to tensor\n",
        "    transforms.Normalize(mean=[0.485, 0.456, 0.406], std=[0.229, 0.224, 0.225])  # Normalize images\n",
        "])"
      ]
    },
    {
      "cell_type": "code",
      "execution_count": 3,
      "metadata": {
        "id": "eKB2EcxxEb7i"
      },
      "outputs": [],
      "source": [
        "#train_data = datasets.MNIST(root='/cnn_data', train=True, download=True, transform=transform)"
      ]
    },
    {
      "cell_type": "code",
      "execution_count": 4,
      "metadata": {
        "id": "9dU4GZPMEcGe",
        "outputId": "a3803f84-70e0-4908-96c8-99cc7c888c51",
        "colab": {
          "base_uri": "https://localhost:8080/"
        }
      },
      "outputs": [
        {
          "output_type": "stream",
          "name": "stdout",
          "text": [
            "Downloading https://thor.robots.ox.ac.uk/datasets/flowers-102/102flowers.tgz to /flower_data/flowers-102/102flowers.tgz\n"
          ]
        },
        {
          "output_type": "stream",
          "name": "stderr",
          "text": [
            "100%|██████████| 344862509/344862509 [00:05<00:00, 68663398.12it/s]\n"
          ]
        },
        {
          "output_type": "stream",
          "name": "stdout",
          "text": [
            "Extracting /flower_data/flowers-102/102flowers.tgz to /flower_data/flowers-102\n",
            "Downloading https://thor.robots.ox.ac.uk/datasets/flowers-102/imagelabels.mat to /flower_data/flowers-102/imagelabels.mat\n"
          ]
        },
        {
          "output_type": "stream",
          "name": "stderr",
          "text": [
            "100%|██████████| 502/502 [00:00<00:00, 505410.61it/s]\n"
          ]
        },
        {
          "output_type": "stream",
          "name": "stdout",
          "text": [
            "Downloading https://thor.robots.ox.ac.uk/datasets/flowers-102/setid.mat to /flower_data/flowers-102/setid.mat\n"
          ]
        },
        {
          "output_type": "stream",
          "name": "stderr",
          "text": [
            "100%|██████████| 14989/14989 [00:00<00:00, 12174365.35it/s]\n"
          ]
        }
      ],
      "source": [
        "from torchvision.datasets import Flowers102\n",
        "\n",
        "# Load the training data\n",
        "train_data = Flowers102(root='/flower_data', split='train', download=True, transform=transform)\n",
        "\n",
        "# Load the validation data\n",
        "val_data = Flowers102(root='/flower_data', split='val', download=True, transform=transform)\n",
        "\n",
        "# Load the test data\n",
        "test_data = Flowers102(root='/flower_data', split='test', download=True, transform=transform)\n"
      ]
    },
    {
      "cell_type": "code",
      "execution_count": 5,
      "metadata": {
        "colab": {
          "base_uri": "https://localhost:8080/"
        },
        "id": "5LxTEuZvKkSh",
        "outputId": "81e2ce92-ec72-4311-d1e8-5cc65f5c8f2f"
      },
      "outputs": [
        {
          "output_type": "execute_result",
          "data": {
            "text/plain": [
              "Dataset Flowers102\n",
              "    Number of datapoints: 1020\n",
              "    Root location: /flower_data\n",
              "    split=train\n",
              "    StandardTransform\n",
              "Transform: Compose(\n",
              "               Resize(size=(224, 224), interpolation=bilinear, max_size=None, antialias=True)\n",
              "               ToTensor()\n",
              "               Normalize(mean=[0.485, 0.456, 0.406], std=[0.229, 0.224, 0.225])\n",
              "           )"
            ]
          },
          "metadata": {},
          "execution_count": 5
        }
      ],
      "source": [
        "train_data"
      ]
    },
    {
      "cell_type": "code",
      "execution_count": 6,
      "metadata": {
        "colab": {
          "base_uri": "https://localhost:8080/"
        },
        "id": "-VmmXY2uD3F7",
        "outputId": "74b9e07b-ed75-451b-ead3-bb8fc9097b05"
      },
      "outputs": [
        {
          "output_type": "execute_result",
          "data": {
            "text/plain": [
              "Dataset Flowers102\n",
              "    Number of datapoints: 6149\n",
              "    Root location: /flower_data\n",
              "    split=test\n",
              "    StandardTransform\n",
              "Transform: Compose(\n",
              "               Resize(size=(224, 224), interpolation=bilinear, max_size=None, antialias=True)\n",
              "               ToTensor()\n",
              "               Normalize(mean=[0.485, 0.456, 0.406], std=[0.229, 0.224, 0.225])\n",
              "           )"
            ]
          },
          "metadata": {},
          "execution_count": 6
        }
      ],
      "source": [
        "test_data"
      ]
    },
    {
      "cell_type": "code",
      "execution_count": 7,
      "metadata": {
        "colab": {
          "base_uri": "https://localhost:8080/"
        },
        "id": "ZcFRIIUFKkch",
        "outputId": "7538f286-49dc-4cab-ca13-8b7a63e67cea"
      },
      "outputs": [
        {
          "output_type": "execute_result",
          "data": {
            "text/plain": [
              "Dataset Flowers102\n",
              "    Number of datapoints: 1020\n",
              "    Root location: /flower_data\n",
              "    split=val\n",
              "    StandardTransform\n",
              "Transform: Compose(\n",
              "               Resize(size=(224, 224), interpolation=bilinear, max_size=None, antialias=True)\n",
              "               ToTensor()\n",
              "               Normalize(mean=[0.485, 0.456, 0.406], std=[0.229, 0.224, 0.225])\n",
              "           )"
            ]
          },
          "metadata": {},
          "execution_count": 7
        }
      ],
      "source": [
        "val_data"
      ]
    },
    {
      "cell_type": "code",
      "execution_count": 8,
      "metadata": {
        "id": "T6pTLsZyK7Eh"
      },
      "outputs": [],
      "source": [
        "train_loader = DataLoader(train_data, batch_size=10, shuffle=True)\n",
        "test_loader = DataLoader(test_data, batch_size=10, shuffle=False)"
      ]
    },
    {
      "cell_type": "code",
      "execution_count": 40,
      "metadata": {
        "id": "m-Ha781OLKt8"
      },
      "outputs": [],
      "source": [
        "conv1 = nn.Conv2d(3, 10, 4, 2)\n",
        "conv2 = nn.Conv2d(10, 16, 4, 1)\n",
        "conv3 = nn.Conv2d(16, 26, 4, 1)"
      ]
    },
    {
      "cell_type": "code",
      "execution_count": 41,
      "metadata": {
        "id": "P1mVq_wOLXem"
      },
      "outputs": [],
      "source": [
        "for i, (X_Train, y_train) in enumerate(train_data):\n",
        "  break\n"
      ]
    },
    {
      "cell_type": "code",
      "execution_count": 42,
      "metadata": {
        "colab": {
          "base_uri": "https://localhost:8080/"
        },
        "id": "WOgOr0WKLezq",
        "outputId": "aa2eb2c1-8549-4bd3-fb94-c1ae0237db8f"
      },
      "outputs": [
        {
          "output_type": "execute_result",
          "data": {
            "text/plain": [
              "torch.Size([3, 224, 224])"
            ]
          },
          "metadata": {},
          "execution_count": 42
        }
      ],
      "source": [
        "X_Train.shape"
      ]
    },
    {
      "cell_type": "code",
      "execution_count": 43,
      "metadata": {
        "id": "tDHYf_fALorw"
      },
      "outputs": [],
      "source": [
        "x = X_Train.view(1,3,224,224)"
      ]
    },
    {
      "cell_type": "code",
      "execution_count": 44,
      "metadata": {
        "id": "h0Sd1PjcQP9N"
      },
      "outputs": [],
      "source": [
        "x = F.relu(conv1(x))"
      ]
    },
    {
      "cell_type": "code",
      "execution_count": 45,
      "metadata": {
        "colab": {
          "base_uri": "https://localhost:8080/"
        },
        "id": "2q4uxHV6Lox6",
        "outputId": "10f5d6e6-ea65-4ef2-f737-c4e3ed4e87d5"
      },
      "outputs": [
        {
          "output_type": "execute_result",
          "data": {
            "text/plain": [
              "torch.Size([1, 10, 111, 111])"
            ]
          },
          "metadata": {},
          "execution_count": 45
        }
      ],
      "source": [
        "x.shape"
      ]
    },
    {
      "cell_type": "code",
      "execution_count": 46,
      "metadata": {
        "id": "ZdcfBC66Lo1H"
      },
      "outputs": [],
      "source": [
        "x = F.max_pool2d(x,2,2)"
      ]
    },
    {
      "cell_type": "code",
      "execution_count": 47,
      "metadata": {
        "colab": {
          "base_uri": "https://localhost:8080/"
        },
        "id": "xt6BqkJoLo4a",
        "outputId": "6a0aa044-2c83-4b21-f2f9-25079c964bf3"
      },
      "outputs": [
        {
          "output_type": "execute_result",
          "data": {
            "text/plain": [
              "torch.Size([1, 10, 55, 55])"
            ]
          },
          "metadata": {},
          "execution_count": 47
        }
      ],
      "source": [
        "x.shape"
      ]
    },
    {
      "cell_type": "code",
      "execution_count": 48,
      "metadata": {
        "id": "S8rcz9WoLo6z"
      },
      "outputs": [],
      "source": [
        "x = F.relu(conv2(x))"
      ]
    },
    {
      "cell_type": "code",
      "execution_count": 49,
      "metadata": {
        "colab": {
          "base_uri": "https://localhost:8080/"
        },
        "id": "w6n4sakKLo8x",
        "outputId": "4c3deb08-47be-4f15-efc2-a12bc97e7b95"
      },
      "outputs": [
        {
          "output_type": "execute_result",
          "data": {
            "text/plain": [
              "torch.Size([1, 16, 52, 52])"
            ]
          },
          "metadata": {},
          "execution_count": 49
        }
      ],
      "source": [
        "x.shape"
      ]
    },
    {
      "cell_type": "code",
      "source": [
        "x = F.avg_pool2d(x, 2, 2)"
      ],
      "metadata": {
        "id": "H8GP5m4M0LIY"
      },
      "execution_count": 50,
      "outputs": []
    },
    {
      "cell_type": "code",
      "source": [
        "x.shape"
      ],
      "metadata": {
        "id": "9GEdt-Lj0Tb2",
        "outputId": "cf047761-e76f-4412-f16e-9c932b40413f",
        "colab": {
          "base_uri": "https://localhost:8080/"
        }
      },
      "execution_count": 51,
      "outputs": [
        {
          "output_type": "execute_result",
          "data": {
            "text/plain": [
              "torch.Size([1, 16, 26, 26])"
            ]
          },
          "metadata": {},
          "execution_count": 51
        }
      ]
    },
    {
      "cell_type": "code",
      "source": [
        "x = F.relu(conv3(x))"
      ],
      "metadata": {
        "id": "5r9J6lLRz80e"
      },
      "execution_count": 52,
      "outputs": []
    },
    {
      "cell_type": "code",
      "source": [
        "x.shape"
      ],
      "metadata": {
        "id": "_Tc2BMx10Bnn",
        "outputId": "165f493d-86e1-4b71-a37a-695772657310",
        "colab": {
          "base_uri": "https://localhost:8080/"
        }
      },
      "execution_count": 53,
      "outputs": [
        {
          "output_type": "execute_result",
          "data": {
            "text/plain": [
              "torch.Size([1, 26, 23, 23])"
            ]
          },
          "metadata": {},
          "execution_count": 53
        }
      ]
    },
    {
      "cell_type": "code",
      "execution_count": 54,
      "metadata": {
        "id": "tSAXBxHXUHFX"
      },
      "outputs": [],
      "source": [
        "conv1 = nn.Conv2d(3, 10, 4, 2)\n",
        "conv2 = nn.Conv2d(10, 16, 4, 1)\n",
        "conv3 = nn.Conv2d(16, 26, 4, 1)\n",
        "class ConvolutionalNetwork(nn.Module):\n",
        "  def __init__(self):\n",
        "    super().__init__()\n",
        "    self.conv1 = nn.Conv2d(3, 10, 4, 2)\n",
        "    self.conv2 = nn.Conv2d(10, 16, 4, 1)\n",
        "    self.conv3 = nn.Conv2d(16, 26, 4, 1)\n",
        "    # Fully Connected Layer\n",
        "    self.fc1 = nn.Linear(23*23*26, 1200)\n",
        "    self.fc2 = nn.Linear(1200, 500)\n",
        "    self.fc3 = nn.Linear(500, 102)\n",
        "\n",
        "  def forward(self, X):\n",
        "    X = F.relu(self.conv1(X))\n",
        "    X = F.max_pool2d(X,2,2) # 2x2 kernal and stride 2\n",
        "    # Second Pass\n",
        "    X = F.relu(self.conv2(X))\n",
        "    X = F.relu(self.conv3(x))\n",
        "    #X = F.max_pool2d(X,2,2) # 2x2 kernal and stride 2\n",
        "\n",
        "    # Re-View to flatten it out\n",
        "    X = X.view(-1, 23*23*26) # negative one so that we can vary the batch size\n",
        "\n",
        "    # Fully Connected Layers\n",
        "    X = F.relu(self.fc1(X))\n",
        "    X = F.relu(self.fc2(X))\n",
        "    X = self.fc3(X)\n",
        "    return F.log_softmax(X, dim=1)"
      ]
    },
    {
      "cell_type": "code",
      "execution_count": 19,
      "metadata": {
        "id": "s2YBCz6kWR-3"
      },
      "outputs": [],
      "source": []
    },
    {
      "cell_type": "code",
      "execution_count": 20,
      "metadata": {
        "colab": {
          "base_uri": "https://localhost:8080/"
        },
        "id": "pfKcXQXkUsle",
        "outputId": "981a9fe6-cfa8-490d-fefc-be869cd6e7df"
      },
      "outputs": [
        {
          "output_type": "execute_result",
          "data": {
            "text/plain": [
              "ConvolutionalNetwork(\n",
              "  (conv1): Conv2d(3, 15, kernel_size=(5, 5), stride=(3, 3))\n",
              "  (conv2): Conv2d(15, 30, kernel_size=(5, 5), stride=(3, 3))\n",
              "  (fc1): Linear(in_features=3630, out_features=1200, bias=True)\n",
              "  (fc2): Linear(in_features=1200, out_features=500, bias=True)\n",
              "  (fc3): Linear(in_features=500, out_features=102, bias=True)\n",
              ")"
            ]
          },
          "metadata": {},
          "execution_count": 20
        }
      ],
      "source": [
        "torch.manual_seed(41)\n",
        "model = ConvolutionalNetwork()\n",
        "model"
      ]
    },
    {
      "cell_type": "code",
      "execution_count": 21,
      "metadata": {
        "id": "HZAL9GwMUHH9"
      },
      "outputs": [],
      "source": [
        "# Loss Function Optimizer\n",
        "criterion = nn.CrossEntropyLoss()\n",
        "optimizer = torch.optim.Adam(model.parameters(), lr=0.001) # Smaller the Learning Rate, longer its gonna take to train."
      ]
    },
    {
      "cell_type": "code",
      "execution_count": 55,
      "metadata": {
        "colab": {
          "base_uri": "https://localhost:8080/"
        },
        "id": "8lQVO-EPUHKv",
        "outputId": "f1603af0-36af-46ec-e1fc-b89413d2a115"
      },
      "outputs": [
        {
          "metadata": {
            "tags": null
          },
          "name": "stdout",
          "output_type": "stream",
          "text": [
            "Epoch: 0  Batch: 10  Loss: 4.069063663482666\n",
            "Epoch: 0  Batch: 20  Loss: 4.305394172668457\n",
            "Epoch: 0  Batch: 30  Loss: 4.0657548904418945\n",
            "Epoch: 0  Batch: 40  Loss: 4.2770843505859375\n",
            "Epoch: 0  Batch: 50  Loss: 4.004472732543945\n",
            "Epoch: 0  Batch: 60  Loss: 3.9937586784362793\n",
            "Epoch: 0  Batch: 70  Loss: 4.219919204711914\n",
            "Epoch: 0  Batch: 80  Loss: 4.441154956817627\n",
            "Epoch: 0  Batch: 90  Loss: 3.932713747024536\n",
            "Epoch: 0  Batch: 100  Loss: 3.946979522705078\n",
            "Epoch: 1  Batch: 10  Loss: 3.9456591606140137\n",
            "Epoch: 1  Batch: 20  Loss: 3.810431957244873\n",
            "Epoch: 1  Batch: 30  Loss: 3.7574775218963623\n",
            "Epoch: 1  Batch: 40  Loss: 6.0298967361450195\n",
            "Epoch: 1  Batch: 50  Loss: 4.056247711181641\n",
            "Epoch: 1  Batch: 60  Loss: 3.6216399669647217\n",
            "Epoch: 1  Batch: 70  Loss: 3.492108106613159\n",
            "Epoch: 1  Batch: 80  Loss: 4.088101863861084\n",
            "Epoch: 1  Batch: 90  Loss: 4.446086406707764\n",
            "Epoch: 1  Batch: 100  Loss: 3.9357833862304688\n",
            "Epoch: 2  Batch: 10  Loss: 2.8499627113342285\n",
            "Epoch: 2  Batch: 20  Loss: 3.407301664352417\n",
            "Epoch: 2  Batch: 30  Loss: 3.7758781909942627\n",
            "Epoch: 2  Batch: 40  Loss: 3.5894935131073\n",
            "Epoch: 2  Batch: 50  Loss: 3.153564691543579\n",
            "Epoch: 2  Batch: 60  Loss: 4.325442314147949\n",
            "Epoch: 2  Batch: 70  Loss: 3.693636655807495\n",
            "Epoch: 2  Batch: 80  Loss: 3.252708911895752\n",
            "Epoch: 2  Batch: 90  Loss: 3.6563377380371094\n",
            "Epoch: 2  Batch: 100  Loss: 4.1176958084106445\n",
            "Epoch: 3  Batch: 10  Loss: 2.9871556758880615\n",
            "Epoch: 3  Batch: 20  Loss: 3.7843616008758545\n",
            "Epoch: 3  Batch: 30  Loss: 2.8833792209625244\n",
            "Epoch: 3  Batch: 40  Loss: 3.045163869857788\n",
            "Epoch: 3  Batch: 50  Loss: 3.071852207183838\n",
            "Epoch: 3  Batch: 60  Loss: 2.55420184135437\n",
            "Epoch: 3  Batch: 70  Loss: 2.9403414726257324\n",
            "Epoch: 3  Batch: 80  Loss: 3.126508951187134\n",
            "Epoch: 3  Batch: 90  Loss: 3.7167587280273438\n",
            "Epoch: 3  Batch: 100  Loss: 3.184983730316162\n",
            "Epoch: 4  Batch: 10  Loss: 1.7700259685516357\n",
            "Epoch: 4  Batch: 20  Loss: 2.4386861324310303\n",
            "Epoch: 4  Batch: 30  Loss: 2.509953022003174\n",
            "Epoch: 4  Batch: 40  Loss: 2.14326810836792\n",
            "Epoch: 4  Batch: 50  Loss: 2.8377017974853516\n",
            "Epoch: 4  Batch: 60  Loss: 1.909136414527893\n",
            "Epoch: 4  Batch: 70  Loss: 2.0434916019439697\n",
            "Epoch: 4  Batch: 80  Loss: 1.769152045249939\n",
            "Epoch: 4  Batch: 90  Loss: 1.5880028009414673\n",
            "Epoch: 4  Batch: 100  Loss: 2.1766951084136963\n",
            "Epoch: 5  Batch: 10  Loss: 0.9240038990974426\n",
            "Epoch: 5  Batch: 20  Loss: 1.526235580444336\n",
            "Epoch: 5  Batch: 30  Loss: 0.3115530014038086\n",
            "Epoch: 5  Batch: 40  Loss: 0.5686956644058228\n",
            "Epoch: 5  Batch: 50  Loss: 0.7573623061180115\n",
            "Epoch: 5  Batch: 60  Loss: 1.6830151081085205\n",
            "Epoch: 5  Batch: 70  Loss: 1.4121631383895874\n",
            "Epoch: 5  Batch: 80  Loss: 0.5853673815727234\n",
            "Epoch: 5  Batch: 90  Loss: 1.8136835098266602\n",
            "Epoch: 5  Batch: 100  Loss: 0.666053056716919\n",
            "Epoch: 6  Batch: 10  Loss: 0.33654460310935974\n",
            "Epoch: 6  Batch: 20  Loss: 0.11849862337112427\n",
            "Epoch: 6  Batch: 30  Loss: 0.09061665832996368\n",
            "Epoch: 6  Batch: 40  Loss: 0.15135015547275543\n",
            "Epoch: 6  Batch: 50  Loss: 0.6529045104980469\n",
            "Epoch: 6  Batch: 60  Loss: 0.4761226773262024\n",
            "Epoch: 6  Batch: 70  Loss: 0.2917141020298004\n",
            "Epoch: 6  Batch: 80  Loss: 0.0977834090590477\n",
            "Epoch: 6  Batch: 90  Loss: 0.8998492956161499\n",
            "Epoch: 6  Batch: 100  Loss: 0.8881429433822632\n",
            "Epoch: 7  Batch: 10  Loss: 0.017078455537557602\n",
            "Epoch: 7  Batch: 20  Loss: 0.14360082149505615\n",
            "Epoch: 7  Batch: 30  Loss: 0.17324870824813843\n",
            "Epoch: 7  Batch: 40  Loss: 0.6336311101913452\n",
            "Epoch: 7  Batch: 50  Loss: 0.5164483189582825\n",
            "Epoch: 7  Batch: 60  Loss: 0.24023222923278809\n",
            "Epoch: 7  Batch: 70  Loss: 0.2517334520816803\n",
            "Epoch: 7  Batch: 80  Loss: 0.090357705950737\n",
            "Epoch: 7  Batch: 90  Loss: 0.10390903055667877\n",
            "Epoch: 7  Batch: 100  Loss: 0.20540496706962585\n",
            "Epoch: 8  Batch: 10  Loss: 0.32104986906051636\n",
            "Epoch: 8  Batch: 20  Loss: 0.007651622407138348\n",
            "Epoch: 8  Batch: 30  Loss: 0.03582274168729782\n",
            "Epoch: 8  Batch: 40  Loss: 0.16284288465976715\n",
            "Epoch: 8  Batch: 50  Loss: 0.055188994854688644\n",
            "Epoch: 8  Batch: 60  Loss: 0.023797038942575455\n",
            "Epoch: 8  Batch: 70  Loss: 0.28057539463043213\n",
            "Epoch: 8  Batch: 80  Loss: 0.6627927422523499\n",
            "Epoch: 8  Batch: 90  Loss: 0.0007852607523091137\n",
            "Epoch: 8  Batch: 100  Loss: 0.40643173456192017\n",
            "Epoch: 9  Batch: 10  Loss: 0.07793006300926208\n",
            "Epoch: 9  Batch: 20  Loss: 0.04926085099577904\n",
            "Epoch: 9  Batch: 30  Loss: 0.2610829174518585\n",
            "Epoch: 9  Batch: 40  Loss: 0.08317242562770844\n",
            "Epoch: 9  Batch: 50  Loss: 0.3230965733528137\n",
            "Epoch: 9  Batch: 60  Loss: 0.13548122346401215\n",
            "Epoch: 9  Batch: 70  Loss: 0.018777500838041306\n",
            "Epoch: 9  Batch: 80  Loss: 0.003592871828004718\n",
            "Epoch: 9  Batch: 90  Loss: 0.0824461281299591\n",
            "Epoch: 9  Batch: 100  Loss: 0.024335814639925957\n",
            "Training Took: 12.87048415740331 minutes!\n"
          ]
        }
      ],
      "source": [
        "import time\n",
        "start_time = time.time()\n",
        "\n",
        "# Create Variables To Tracks Things\n",
        "epochs = 10\n",
        "train_losses = []\n",
        "test_losses = []\n",
        "train_correct = []\n",
        "test_correct = []\n",
        "\n",
        "# For Loop of Epochs\n",
        "for i in range(epochs):\n",
        "  trn_corr = 0\n",
        "  tst_corr = 0\n",
        "\n",
        "\n",
        "  # Train\n",
        "  for b,(X_train, y_train) in enumerate(train_loader):\n",
        "    b+=1\n",
        "    y_pred = model(X_train)\n",
        "    loss = criterion(y_pred, y_train) # how off are we? Compare the predictions to correct answers in y_train\n",
        "\n",
        "    predicted = torch.max(y_pred.data, 1)[1] # add up the number of correct predictions. Indexed off the first point\n",
        "    batch_corr = (predicted == y_train).sum() # how many we got correct from this batch. True = 1, False=0, sum those up\n",
        "    trn_corr += batch_corr # keep track as we go along in training.\n",
        "\n",
        "    # Update our parameters\n",
        "    optimizer.zero_grad()\n",
        "    loss.backward()\n",
        "    optimizer.step()\n",
        "\n",
        "\n",
        "    # Print out some results\n",
        "    if b%10 == 0:\n",
        "      print(f'Epoch: {i}  Batch: {b}  Loss: {loss.item()}')\n",
        "\n",
        "  train_losses.append(loss)\n",
        "  train_correct.append(trn_corr)\n",
        "\n",
        "\n",
        "  # Test\n",
        "  with torch.no_grad(): #No gradient so we don't update our weights and biases with test data\n",
        "    for b,(X_test, y_test) in enumerate(test_loader):\n",
        "      y_val = model(X_test)\n",
        "      predicted = torch.max(y_val.data, 1)[1] # Adding up correct predictions\n",
        "      tst_corr += (predicted == y_test).sum() # T=1 F=0 and sum away\n",
        "\n",
        "\n",
        "  loss = criterion(y_val, y_test)\n",
        "  test_losses.append(loss)\n",
        "  test_correct.append(tst_corr)\n",
        "\n",
        "\n",
        "\n",
        "current_time = time.time()\n",
        "total = current_time - start_time\n",
        "print(f'Training Took: {total/60} minutes!')"
      ]
    },
    {
      "cell_type": "code",
      "execution_count": null,
      "metadata": {
        "id": "Pv-8IXYfUHNP"
      },
      "outputs": [],
      "source": []
    },
    {
      "cell_type": "code",
      "execution_count": 56,
      "metadata": {
        "id": "ElQRedwUUHPz",
        "outputId": "828d29a1-bfb7-40c1-b069-143d8f9183cb",
        "colab": {
          "base_uri": "https://localhost:8080/",
          "height": 469
        }
      },
      "outputs": [
        {
          "output_type": "execute_result",
          "data": {
            "text/plain": [
              "<matplotlib.legend.Legend at 0x7ed2da033f10>"
            ]
          },
          "metadata": {},
          "execution_count": 56
        },
        {
          "output_type": "display_data",
          "data": {
            "text/plain": [
              "<Figure size 640x480 with 1 Axes>"
            ],
            "image/png": "[encoded data removed]"
          },
          "metadata": {}
        }
      ],
      "source": [
        "train_losses = [tl.item() for tl in train_losses]\n",
        "plt.plot(train_losses, label=\"Training Loss\")\n",
        "plt.plot(test_losses, label=\"Validation Loss\")\n",
        "plt.title(\"Loss at Epoch\")\n",
        "plt.legend()"
      ]
    },
    {
      "cell_type": "code",
      "execution_count": null,
      "metadata": {
        "id": "dAsr3lg_UHSV"
      },
      "outputs": [],
      "source": []
    }
  ],
  "metadata": {
    "colab": {
      "provenance": [],
      "authorship_tag": "ABX9TyN4RohuKDXXv8JdbVLxq997",
      "include_colab_link": true
    },
    "kernelspec": {
      "display_name": "Python 3",
      "name": "python3"
    },
    "language_info": {
      "name": "python"
    }
  },
  "nbformat": 4,
  "nbformat_minor": 0
}