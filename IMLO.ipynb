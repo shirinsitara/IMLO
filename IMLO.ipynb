{
  "cells": [
    {
      "cell_type": "markdown",
      "metadata": {
        "id": "view-in-github",
        "colab_type": "text"
      },
      "source": [
        "<a href=\"https://colab.research.google.com/github/shirinsitara/IMLO/blob/added-L2regularisation/IMLO.ipynb\" target=\"_parent\"><img src=\"https://colab.research.google.com/assets/colab-badge.svg\" alt=\"Open In Colab\"/></a>"
      ]
    },
    {
      "cell_type": "code",
      "execution_count": 1,
      "metadata": {
        "id": "CECX9yNhENg3"
      },
      "outputs": [],
      "source": [
        "import torch\n",
        "import torch.nn as nn\n",
        "import torch.nn.functional as F\n",
        "from torch.utils.data import DataLoader\n",
        "from torchvision import datasets, transforms\n",
        "from torchvision.utils import make_grid\n",
        "\n",
        "import numpy as np\n",
        "import pandas as pd\n",
        "from sklearn.metrics import confusion_matrix\n",
        "import matplotlib.pyplot as plt\n",
        "%matplotlib inline"
      ]
    },
    {
      "cell_type": "code",
      "execution_count": 2,
      "metadata": {
        "id": "n6K_tByXEbtR"
      },
      "outputs": [],
      "source": [
        "#transform = transforms.ToTensor()\n",
        "transform = transforms.Compose([\n",
        "    transforms.Resize((224, 224)),  # Resize all images to 224x224\n",
        "    transforms.ToTensor(),          # Convert images to tensor\n",
        "    transforms.Normalize(mean=[0.485, 0.456, 0.406], std=[0.229, 0.224, 0.225])  # Normalize images\n",
        "])"
      ]
    },
    {
      "cell_type": "code",
      "execution_count": 3,
      "metadata": {
        "id": "eKB2EcxxEb7i"
      },
      "outputs": [],
      "source": [
        "#train_data = datasets.MNIST(root='/cnn_data', train=True, download=True, transform=transform)"
      ]
    },
    {
      "cell_type": "code",
      "execution_count": 4,
      "metadata": {
        "id": "9dU4GZPMEcGe",
        "colab": {
          "base_uri": "https://localhost:8080/"
        },
        "outputId": "720d2ae4-c2f2-48e1-fc6a-70446e8f72ef"
      },
      "outputs": [
        {
          "output_type": "stream",
          "name": "stdout",
          "text": [
            "Downloading https://thor.robots.ox.ac.uk/datasets/flowers-102/102flowers.tgz to /flower_data/flowers-102/102flowers.tgz\n"
          ]
        },
        {
          "output_type": "stream",
          "name": "stderr",
          "text": [
            "100%|██████████| 344862509/344862509 [00:11<00:00, 30530954.04it/s]\n"
          ]
        },
        {
          "output_type": "stream",
          "name": "stdout",
          "text": [
            "Extracting /flower_data/flowers-102/102flowers.tgz to /flower_data/flowers-102\n",
            "Downloading https://thor.robots.ox.ac.uk/datasets/flowers-102/imagelabels.mat to /flower_data/flowers-102/imagelabels.mat\n"
          ]
        },
        {
          "output_type": "stream",
          "name": "stderr",
          "text": [
            "100%|██████████| 502/502 [00:00<00:00, 466653.50it/s]\n"
          ]
        },
        {
          "output_type": "stream",
          "name": "stdout",
          "text": [
            "Downloading https://thor.robots.ox.ac.uk/datasets/flowers-102/setid.mat to /flower_data/flowers-102/setid.mat\n"
          ]
        },
        {
          "output_type": "stream",
          "name": "stderr",
          "text": [
            "100%|██████████| 14989/14989 [00:00<00:00, 25017279.21it/s]\n"
          ]
        }
      ],
      "source": [
        "from torchvision.datasets import Flowers102\n",
        "\n",
        "# Load the training data\n",
        "train_data = Flowers102(root='/flower_data', split='train', download=True, transform=transform)\n",
        "\n",
        "# Load the validation data\n",
        "val_data = Flowers102(root='/flower_data', split='val', download=True, transform=transform)\n",
        "\n",
        "# Load the test data\n",
        "test_data = Flowers102(root='/flower_data', split='test', download=True, transform=transform)\n"
      ]
    },
    {
      "cell_type": "code",
      "execution_count": 5,
      "metadata": {
        "colab": {
          "base_uri": "https://localhost:8080/"
        },
        "id": "5LxTEuZvKkSh",
        "outputId": "45a2acce-04c4-4035-9e9a-769c0fe30810"
      },
      "outputs": [
        {
          "output_type": "execute_result",
          "data": {
            "text/plain": [
              "Dataset Flowers102\n",
              "    Number of datapoints: 1020\n",
              "    Root location: /flower_data\n",
              "    split=train\n",
              "    StandardTransform\n",
              "Transform: Compose(\n",
              "               Resize(size=(224, 224), interpolation=bilinear, max_size=None, antialias=True)\n",
              "               ToTensor()\n",
              "               Normalize(mean=[0.485, 0.456, 0.406], std=[0.229, 0.224, 0.225])\n",
              "           )"
            ]
          },
          "metadata": {},
          "execution_count": 5
        }
      ],
      "source": [
        "train_data"
      ]
    },
    {
      "cell_type": "code",
      "execution_count": 6,
      "metadata": {
        "colab": {
          "base_uri": "https://localhost:8080/"
        },
        "id": "-VmmXY2uD3F7",
        "outputId": "ab0472a2-8fb3-48c4-f363-f2d0dd39984b"
      },
      "outputs": [
        {
          "output_type": "execute_result",
          "data": {
            "text/plain": [
              "Dataset Flowers102\n",
              "    Number of datapoints: 6149\n",
              "    Root location: /flower_data\n",
              "    split=test\n",
              "    StandardTransform\n",
              "Transform: Compose(\n",
              "               Resize(size=(224, 224), interpolation=bilinear, max_size=None, antialias=True)\n",
              "               ToTensor()\n",
              "               Normalize(mean=[0.485, 0.456, 0.406], std=[0.229, 0.224, 0.225])\n",
              "           )"
            ]
          },
          "metadata": {},
          "execution_count": 6
        }
      ],
      "source": [
        "test_data"
      ]
    },
    {
      "cell_type": "code",
      "execution_count": 7,
      "metadata": {
        "colab": {
          "base_uri": "https://localhost:8080/"
        },
        "id": "ZcFRIIUFKkch",
        "outputId": "6b189b8c-5787-4bbd-ee61-9357bda58ad1"
      },
      "outputs": [
        {
          "output_type": "execute_result",
          "data": {
            "text/plain": [
              "Dataset Flowers102\n",
              "    Number of datapoints: 1020\n",
              "    Root location: /flower_data\n",
              "    split=val\n",
              "    StandardTransform\n",
              "Transform: Compose(\n",
              "               Resize(size=(224, 224), interpolation=bilinear, max_size=None, antialias=True)\n",
              "               ToTensor()\n",
              "               Normalize(mean=[0.485, 0.456, 0.406], std=[0.229, 0.224, 0.225])\n",
              "           )"
            ]
          },
          "metadata": {},
          "execution_count": 7
        }
      ],
      "source": [
        "val_data"
      ]
    },
    {
      "cell_type": "code",
      "execution_count": 8,
      "metadata": {
        "id": "T6pTLsZyK7Eh"
      },
      "outputs": [],
      "source": [
        "train_loader = DataLoader(train_data, batch_size=10, shuffle=True)\n",
        "test_loader = DataLoader(test_data, batch_size=10, shuffle=False)"
      ]
    },
    {
      "cell_type": "code",
      "execution_count": 9,
      "metadata": {
        "id": "m-Ha781OLKt8"
      },
      "outputs": [],
      "source": [
        "conv1 = nn.Conv2d(3, 10, 5, 2)\n",
        "conv2 = nn.Conv2d(10, 16, 4, 2)\n",
        "conv3 = nn.Conv2d(16, 30, 3, 2)"
      ]
    },
    {
      "cell_type": "code",
      "execution_count": 10,
      "metadata": {
        "id": "P1mVq_wOLXem"
      },
      "outputs": [],
      "source": [
        "for i, (X_Train, y_train) in enumerate(train_data):\n",
        "  break\n"
      ]
    },
    {
      "cell_type": "code",
      "execution_count": 11,
      "metadata": {
        "colab": {
          "base_uri": "https://localhost:8080/"
        },
        "id": "WOgOr0WKLezq",
        "outputId": "c194df44-d8d2-4cec-bfbe-2a40b7b6756e"
      },
      "outputs": [
        {
          "output_type": "execute_result",
          "data": {
            "text/plain": [
              "torch.Size([3, 224, 224])"
            ]
          },
          "metadata": {},
          "execution_count": 11
        }
      ],
      "source": [
        "X_Train.shape"
      ]
    },
    {
      "cell_type": "code",
      "execution_count": 12,
      "metadata": {
        "id": "tDHYf_fALorw"
      },
      "outputs": [],
      "source": [
        "x = X_Train.view(1,3,224,224)"
      ]
    },
    {
      "cell_type": "code",
      "execution_count": 13,
      "metadata": {
        "id": "h0Sd1PjcQP9N"
      },
      "outputs": [],
      "source": [
        "x = F.relu(conv1(x))"
      ]
    },
    {
      "cell_type": "code",
      "execution_count": 14,
      "metadata": {
        "colab": {
          "base_uri": "https://localhost:8080/"
        },
        "id": "2q4uxHV6Lox6",
        "outputId": "10576bbf-e7f4-4673-cd0f-14428540c0d7"
      },
      "outputs": [
        {
          "output_type": "execute_result",
          "data": {
            "text/plain": [
              "torch.Size([1, 10, 110, 110])"
            ]
          },
          "metadata": {},
          "execution_count": 14
        }
      ],
      "source": [
        "x.shape"
      ]
    },
    {
      "cell_type": "code",
      "execution_count": 15,
      "metadata": {
        "id": "ZdcfBC66Lo1H"
      },
      "outputs": [],
      "source": [
        "x = F.max_pool2d(x,2,2)"
      ]
    },
    {
      "cell_type": "code",
      "execution_count": 16,
      "metadata": {
        "colab": {
          "base_uri": "https://localhost:8080/"
        },
        "id": "xt6BqkJoLo4a",
        "outputId": "dfa99829-0e51-41bd-df8f-726baa273d06"
      },
      "outputs": [
        {
          "output_type": "execute_result",
          "data": {
            "text/plain": [
              "torch.Size([1, 10, 55, 55])"
            ]
          },
          "metadata": {},
          "execution_count": 16
        }
      ],
      "source": [
        "x.shape"
      ]
    },
    {
      "cell_type": "code",
      "execution_count": 17,
      "metadata": {
        "id": "S8rcz9WoLo6z"
      },
      "outputs": [],
      "source": [
        "x = F.relu(conv2(x))"
      ]
    },
    {
      "cell_type": "code",
      "execution_count": 18,
      "metadata": {
        "colab": {
          "base_uri": "https://localhost:8080/"
        },
        "id": "w6n4sakKLo8x",
        "outputId": "eb2806b7-fcc2-4025-c616-7b0d292571fd"
      },
      "outputs": [
        {
          "output_type": "execute_result",
          "data": {
            "text/plain": [
              "torch.Size([1, 16, 26, 26])"
            ]
          },
          "metadata": {},
          "execution_count": 18
        }
      ],
      "source": [
        "x.shape"
      ]
    },
    {
      "cell_type": "code",
      "source": [
        "x = F.avg_pool2d(x, 2, 1)"
      ],
      "metadata": {
        "id": "ICfWOufM4VU9"
      },
      "execution_count": 19,
      "outputs": []
    },
    {
      "cell_type": "code",
      "source": [
        "x.shape"
      ],
      "metadata": {
        "colab": {
          "base_uri": "https://localhost:8080/"
        },
        "id": "DWSh3j0s4eJ3",
        "outputId": "9bcc8489-4320-40f9-fdd7-fa9e77cc0587"
      },
      "execution_count": 20,
      "outputs": [
        {
          "output_type": "execute_result",
          "data": {
            "text/plain": [
              "torch.Size([1, 16, 25, 25])"
            ]
          },
          "metadata": {},
          "execution_count": 20
        }
      ]
    },
    {
      "cell_type": "code",
      "source": [
        "x = F.relu(conv3(x))"
      ],
      "metadata": {
        "id": "H8GP5m4M0LIY"
      },
      "execution_count": 21,
      "outputs": []
    },
    {
      "cell_type": "code",
      "source": [
        "x.shape"
      ],
      "metadata": {
        "id": "9GEdt-Lj0Tb2",
        "outputId": "bf228925-26f1-484e-e9e7-f7b4c17eda5c",
        "colab": {
          "base_uri": "https://localhost:8080/"
        }
      },
      "execution_count": 22,
      "outputs": [
        {
          "output_type": "execute_result",
          "data": {
            "text/plain": [
              "torch.Size([1, 30, 12, 12])"
            ]
          },
          "metadata": {},
          "execution_count": 22
        }
      ]
    },
    {
      "cell_type": "code",
      "execution_count": 23,
      "metadata": {
        "id": "s2YBCz6kWR-3"
      },
      "outputs": [],
      "source": [
        "class ConvolutionalNetwork(nn.Module):\n",
        "  def __init__(self):\n",
        "    super().__init__()\n",
        "    self.conv1 = nn.Conv2d(3,10,5,2)\n",
        "    self.conv2 = nn.Conv2d(10,16,4,2)\n",
        "    self.conv3 = nn.Conv2d(16, 30, 3, 2)\n",
        "    # Fully Connected Layer\n",
        "    self.fc1 = nn.Linear(12*12*30, 1200)\n",
        "    self.fc2 = nn.Linear(1200, 720)\n",
        "    self.fc3 = nn.Linear(720, 102)\n",
        "\n",
        "\n",
        "  def forward(self, X):\n",
        "    X = F.relu(self.conv1(X))\n",
        "    X = F.max_pool2d(X,2,2)\n",
        "    # Second Pass\n",
        "    X = F.relu(self.conv2(X))\n",
        "    X = F.avg_pool2d(X, 2, 1)\n",
        "    X = F.relu(self.conv3(X))\n",
        "\n",
        "    # Re-View to flatten it out\n",
        "    X = X.view(-1, 12*12*30) # negative one so that we can vary the batch size\n",
        "\n",
        "    # Fully Connected Layers\n",
        "    X = F.relu(self.fc1(X))\n",
        "    X = F.relu(self.fc2(X))\n",
        "    X = self.fc3(X)\n",
        "    return F.log_softmax(X, dim=1)"
      ]
    },
    {
      "cell_type": "code",
      "execution_count": 24,
      "metadata": {
        "colab": {
          "base_uri": "https://localhost:8080/"
        },
        "id": "pfKcXQXkUsle",
        "outputId": "302eb401-d60d-4cd5-c8e4-622ae62ff7be"
      },
      "outputs": [
        {
          "output_type": "execute_result",
          "data": {
            "text/plain": [
              "ConvolutionalNetwork(\n",
              "  (conv1): Conv2d(3, 10, kernel_size=(5, 5), stride=(2, 2))\n",
              "  (conv2): Conv2d(10, 16, kernel_size=(4, 4), stride=(2, 2))\n",
              "  (conv3): Conv2d(16, 30, kernel_size=(3, 3), stride=(2, 2))\n",
              "  (fc1): Linear(in_features=4320, out_features=1200, bias=True)\n",
              "  (fc2): Linear(in_features=1200, out_features=720, bias=True)\n",
              "  (fc3): Linear(in_features=720, out_features=102, bias=True)\n",
              ")"
            ]
          },
          "metadata": {},
          "execution_count": 24
        }
      ],
      "source": [
        "torch.manual_seed(41)\n",
        "model = ConvolutionalNetwork()\n",
        "model"
      ]
    },
    {
      "cell_type": "code",
      "execution_count": 27,
      "metadata": {
        "id": "HZAL9GwMUHH9"
      },
      "outputs": [],
      "source": [
        "# Loss Function Optimizer\n",
        "criterion = nn.CrossEntropyLoss()\n",
        "optimizer = torch.optim.Adam(model.parameters(), lr=0.001, weight_decay = 0.01) # Smaller the Learning Rate, longer its gonna take to train."
      ]
    },
    {
      "cell_type": "code",
      "execution_count": 28,
      "metadata": {
        "colab": {
          "base_uri": "https://localhost:8080/"
        },
        "id": "8lQVO-EPUHKv",
        "outputId": "5eb9d4c5-4b0f-4ef2-895c-4d088573fb87"
      },
      "outputs": [
        {
          "output_type": "stream",
          "name": "stdout",
          "text": [
            "Epoch: 0  Batch: 10  Loss: 3.3416857719421387\n",
            "Epoch: 0  Batch: 20  Loss: 3.650240421295166\n",
            "Epoch: 0  Batch: 30  Loss: 3.6926684379577637\n",
            "Epoch: 0  Batch: 40  Loss: 3.8007888793945312\n",
            "Epoch: 0  Batch: 50  Loss: 3.6794345378875732\n",
            "Epoch: 0  Batch: 60  Loss: 4.143858909606934\n",
            "Epoch: 0  Batch: 70  Loss: 3.8377296924591064\n",
            "Epoch: 0  Batch: 80  Loss: 3.2672042846679688\n",
            "Epoch: 0  Batch: 90  Loss: 3.989403486251831\n",
            "Epoch: 0  Batch: 100  Loss: 3.3826911449432373\n",
            "Epoch: 1  Batch: 10  Loss: 2.7590885162353516\n",
            "Epoch: 1  Batch: 20  Loss: 3.017418622970581\n",
            "Epoch: 1  Batch: 30  Loss: 3.73679780960083\n",
            "Epoch: 1  Batch: 40  Loss: 3.669320583343506\n",
            "Epoch: 1  Batch: 50  Loss: 3.4806113243103027\n",
            "Epoch: 1  Batch: 60  Loss: 3.370603561401367\n",
            "Epoch: 1  Batch: 70  Loss: 2.970557689666748\n",
            "Epoch: 1  Batch: 80  Loss: 3.7139689922332764\n",
            "Epoch: 1  Batch: 90  Loss: 4.158488750457764\n",
            "Epoch: 1  Batch: 100  Loss: 3.6505463123321533\n",
            "Epoch: 2  Batch: 10  Loss: 2.7232909202575684\n",
            "Epoch: 2  Batch: 20  Loss: 3.187032461166382\n",
            "Epoch: 2  Batch: 30  Loss: 3.7022862434387207\n",
            "Epoch: 2  Batch: 40  Loss: 3.16015362739563\n",
            "Epoch: 2  Batch: 50  Loss: 3.162850856781006\n",
            "Epoch: 2  Batch: 60  Loss: 3.7812061309814453\n",
            "Epoch: 2  Batch: 70  Loss: 3.319721221923828\n",
            "Epoch: 2  Batch: 80  Loss: 3.36686635017395\n",
            "Epoch: 2  Batch: 90  Loss: 3.452777147293091\n",
            "Epoch: 2  Batch: 100  Loss: 2.8294613361358643\n",
            "Epoch: 3  Batch: 10  Loss: 3.537269115447998\n",
            "Epoch: 3  Batch: 20  Loss: 3.154736280441284\n",
            "Epoch: 3  Batch: 30  Loss: 3.0592446327209473\n",
            "Epoch: 3  Batch: 40  Loss: 2.9159622192382812\n",
            "Epoch: 3  Batch: 50  Loss: 4.19341516494751\n",
            "Epoch: 3  Batch: 60  Loss: 3.1490910053253174\n",
            "Epoch: 3  Batch: 70  Loss: 3.5815060138702393\n",
            "Epoch: 3  Batch: 80  Loss: 3.669038772583008\n",
            "Epoch: 3  Batch: 90  Loss: 3.952810764312744\n",
            "Epoch: 3  Batch: 100  Loss: 3.229989528656006\n",
            "Epoch: 4  Batch: 10  Loss: 3.1936001777648926\n",
            "Epoch: 4  Batch: 20  Loss: 2.7147326469421387\n",
            "Epoch: 4  Batch: 30  Loss: 3.5244998931884766\n",
            "Epoch: 4  Batch: 40  Loss: 3.124877452850342\n",
            "Epoch: 4  Batch: 50  Loss: 3.378922939300537\n",
            "Epoch: 4  Batch: 60  Loss: 3.1993768215179443\n",
            "Epoch: 4  Batch: 70  Loss: 3.182673215866089\n",
            "Epoch: 4  Batch: 80  Loss: 3.410804271697998\n",
            "Epoch: 4  Batch: 90  Loss: 3.170633316040039\n",
            "Epoch: 4  Batch: 100  Loss: 3.4763121604919434\n",
            "Epoch: 5  Batch: 10  Loss: 2.967106342315674\n",
            "Epoch: 5  Batch: 20  Loss: 2.656585216522217\n",
            "Epoch: 5  Batch: 30  Loss: 3.031632900238037\n",
            "Epoch: 5  Batch: 40  Loss: 3.3160653114318848\n",
            "Epoch: 5  Batch: 50  Loss: 2.9232280254364014\n",
            "Epoch: 5  Batch: 60  Loss: 2.8453056812286377\n",
            "Epoch: 5  Batch: 70  Loss: 3.3238918781280518\n",
            "Epoch: 5  Batch: 80  Loss: 3.0761024951934814\n",
            "Epoch: 5  Batch: 90  Loss: 4.250485420227051\n",
            "Epoch: 5  Batch: 100  Loss: 3.311432361602783\n",
            "Epoch: 6  Batch: 10  Loss: 2.4030821323394775\n",
            "Epoch: 6  Batch: 20  Loss: 2.835444927215576\n",
            "Epoch: 6  Batch: 30  Loss: 3.578835964202881\n",
            "Epoch: 6  Batch: 40  Loss: 2.0744566917419434\n",
            "Epoch: 6  Batch: 50  Loss: 2.6198067665100098\n",
            "Epoch: 6  Batch: 60  Loss: 2.3649375438690186\n",
            "Epoch: 6  Batch: 70  Loss: 2.6411426067352295\n",
            "Epoch: 6  Batch: 80  Loss: 2.6582374572753906\n",
            "Epoch: 6  Batch: 90  Loss: 2.8873696327209473\n",
            "Epoch: 6  Batch: 100  Loss: 2.586466073989868\n",
            "Epoch: 7  Batch: 10  Loss: 1.8199443817138672\n",
            "Epoch: 7  Batch: 20  Loss: 3.0722098350524902\n",
            "Epoch: 7  Batch: 30  Loss: 2.7930989265441895\n",
            "Epoch: 7  Batch: 40  Loss: 3.1158556938171387\n",
            "Epoch: 7  Batch: 50  Loss: 3.3709301948547363\n",
            "Epoch: 7  Batch: 60  Loss: 2.3551063537597656\n",
            "Epoch: 7  Batch: 70  Loss: 2.4840798377990723\n",
            "Epoch: 7  Batch: 80  Loss: 2.5705463886260986\n",
            "Epoch: 7  Batch: 90  Loss: 3.2601733207702637\n",
            "Epoch: 7  Batch: 100  Loss: 3.008601665496826\n",
            "Epoch: 8  Batch: 10  Loss: 2.5932705402374268\n",
            "Epoch: 8  Batch: 20  Loss: 2.3039193153381348\n",
            "Epoch: 8  Batch: 30  Loss: 3.1073696613311768\n",
            "Epoch: 8  Batch: 40  Loss: 3.578150987625122\n",
            "Epoch: 8  Batch: 50  Loss: 3.0770621299743652\n",
            "Epoch: 8  Batch: 60  Loss: 3.195223331451416\n",
            "Epoch: 8  Batch: 70  Loss: 2.707768678665161\n",
            "Epoch: 8  Batch: 80  Loss: 2.3518548011779785\n",
            "Epoch: 8  Batch: 90  Loss: 3.0160422325134277\n",
            "Epoch: 8  Batch: 100  Loss: 2.83587646484375\n",
            "Epoch: 9  Batch: 10  Loss: 2.608977794647217\n",
            "Epoch: 9  Batch: 20  Loss: 1.9746822118759155\n",
            "Epoch: 9  Batch: 30  Loss: 2.095689296722412\n",
            "Epoch: 9  Batch: 40  Loss: 2.7173538208007812\n",
            "Epoch: 9  Batch: 50  Loss: 2.8974969387054443\n",
            "Epoch: 9  Batch: 60  Loss: 3.3876595497131348\n",
            "Epoch: 9  Batch: 70  Loss: 2.308349132537842\n",
            "Epoch: 9  Batch: 80  Loss: 2.4534692764282227\n",
            "Epoch: 9  Batch: 90  Loss: 2.878469705581665\n",
            "Epoch: 9  Batch: 100  Loss: 2.938843250274658\n",
            "Training Took: 14.162233960628509 minutes!\n"
          ]
        }
      ],
      "source": [
        "import time\n",
        "start_time = time.time()\n",
        "\n",
        "# Create Variables To Tracks Things\n",
        "epochs = 10\n",
        "train_losses = []\n",
        "test_losses = []\n",
        "train_correct = []\n",
        "test_correct = []\n",
        "\n",
        "# For Loop of Epochs\n",
        "for i in range(epochs):\n",
        "  trn_corr = 0\n",
        "  tst_corr = 0\n",
        "\n",
        "\n",
        "  # Train\n",
        "  for b,(X_train, y_train) in enumerate(train_loader):\n",
        "    b+=1 # start our batches at 1\n",
        "    y_pred = model(X_train) # get predicted values from the training set. Not flattened 2D\n",
        "    loss = criterion(y_pred, y_train) # how off are we? Compare the predictions to correct answers in y_train\n",
        "\n",
        "    predicted = torch.max(y_pred.data, 1)[1] # add up the number of correct predictions. Indexed off the first point\n",
        "    batch_corr = (predicted == y_train).sum() # how many we got correct from this batch. True = 1, False=0, sum those up\n",
        "    trn_corr += batch_corr # keep track as we go along in training.\n",
        "\n",
        "    # Update our parameters\n",
        "    optimizer.zero_grad()\n",
        "    loss.backward()\n",
        "    optimizer.step()\n",
        "\n",
        "\n",
        "    # Print out some results\n",
        "    if b%10 == 0:\n",
        "      print(f'Epoch: {i}  Batch: {b}  Loss: {loss.item()}')\n",
        "\n",
        "  train_losses.append(loss)\n",
        "  train_correct.append(trn_corr)\n",
        "\n",
        "\n",
        "  # Test\n",
        "  with torch.no_grad(): #No gradient so we don't update our weights and biases with test data\n",
        "    for b,(X_test, y_test) in enumerate(test_loader):\n",
        "      y_val = model(X_test)\n",
        "      predicted = torch.max(y_val.data, 1)[1] # Adding up correct predictions\n",
        "      tst_corr += (predicted == y_test).sum() # T=1 F=0 and sum away\n",
        "\n",
        "\n",
        "  loss = criterion(y_val, y_test)\n",
        "  test_losses.append(loss)\n",
        "  test_correct.append(tst_corr)\n",
        "\n",
        "\n",
        "\n",
        "current_time = time.time()\n",
        "total = current_time - start_time\n",
        "print(f'Training Took: {total/60} minutes!')"
      ]
    },
    {
      "cell_type": "code",
      "execution_count": null,
      "metadata": {
        "id": "Pv-8IXYfUHNP"
      },
      "outputs": [],
      "source": []
    },
    {
      "cell_type": "code",
      "execution_count": 29,
      "metadata": {
        "id": "ElQRedwUUHPz",
        "colab": {
          "base_uri": "https://localhost:8080/",
          "height": 469
        },
        "outputId": "11309d9e-b227-4626-cd4d-74275c29f428"
      },
      "outputs": [
        {
          "output_type": "execute_result",
          "data": {
            "text/plain": [
              "<matplotlib.legend.Legend at 0x7d8bed3006d0>"
            ]
          },
          "metadata": {},
          "execution_count": 29
        },
        {
          "output_type": "display_data",
          "data": {
            "text/plain": [
              "<Figure size 640x480 with 1 Axes>"
            ],
            "image/png": "[encoded data removed]"
          },
          "metadata": {}
        }
      ],
      "source": [
        "train_losses = [tl.item() for tl in train_losses]\n",
        "plt.plot(train_losses, label=\"Training Loss\")\n",
        "plt.plot(test_losses, label=\"Validation Loss\")\n",
        "plt.title(\"Loss at Epoch\")\n",
        "plt.legend()"
      ]
    },
    {
      "cell_type": "code",
      "execution_count": null,
      "metadata": {
        "id": "dAsr3lg_UHSV"
      },
      "outputs": [],
      "source": []
    }
  ],
  "metadata": {
    "colab": {
      "provenance": [],
      "authorship_tag": "ABX9TyMGE3XepRPjroXtsvL+VDLL",
      "include_colab_link": true
    },
    "kernelspec": {
      "display_name": "Python 3",
      "name": "python3"
    },
    "language_info": {
      "name": "python"
    }
  },
  "nbformat": 4,
  "nbformat_minor": 0
}