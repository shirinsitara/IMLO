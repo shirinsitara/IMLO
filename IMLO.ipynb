{
  "cells": [
    {
      "cell_type": "markdown",
      "metadata": {
        "id": "view-in-github",
        "colab_type": "text"
      },
      "source": [
        "<a href=\"https://colab.research.google.com/github/shirinsitara/IMLO/blob/working-copy/IMLO.ipynb\" target=\"_parent\"><img src=\"https://colab.research.google.com/assets/colab-badge.svg\" alt=\"Open In Colab\"/></a>"
      ]
    },
    {
      "cell_type": "code",
      "execution_count": 723,
      "metadata": {
        "id": "CECX9yNhENg3"
      },
      "outputs": [],
      "source": [
        "import torch\n",
        "import torch.nn as nn\n",
        "import torch.nn.functional as F\n",
        "from torch.utils.data import DataLoader\n",
        "from torchvision import datasets, transforms\n",
        "from torchvision.utils import make_grid\n",
        "\n",
        "import numpy as np\n",
        "import pandas as pd\n",
        "from sklearn.metrics import confusion_matrix\n",
        "import matplotlib.pyplot as plt\n",
        "%matplotlib inline"
      ]
    },
    {
      "cell_type": "code",
      "execution_count": 724,
      "metadata": {
        "id": "n6K_tByXEbtR"
      },
      "outputs": [],
      "source": [
        "#transform = transforms.ToTensor()\n",
        "transform = transforms.Compose([\n",
        "    transforms.Resize((224, 224)),  # Resize all images to 224x224\n",
        "    transforms.ToTensor(),          # Convert images to tensor\n",
        "    transforms.Normalize(mean=[0.485, 0.456, 0.406], std=[0.229, 0.224, 0.225])  # Normalize images\n",
        "])"
      ]
    },
    {
      "cell_type": "code",
      "execution_count": 725,
      "metadata": {
        "id": "eKB2EcxxEb7i"
      },
      "outputs": [],
      "source": [
        "#train_data = datasets.MNIST(root='/cnn_data', train=True, download=True, transform=transform)"
      ]
    },
    {
      "cell_type": "code",
      "execution_count": 726,
      "metadata": {
        "id": "9dU4GZPMEcGe"
      },
      "outputs": [],
      "source": [
        "from torchvision.datasets import Flowers102\n",
        "\n",
        "# Load the training data\n",
        "train_data = Flowers102(root='/flower_data', split='train', download=True, transform=transform)\n",
        "\n",
        "# Load the validation data\n",
        "val_data = Flowers102(root='/flower_data', split='val', download=True, transform=transform)\n",
        "\n",
        "# Load the test data\n",
        "test_data = Flowers102(root='/flower_data', split='test', download=True, transform=transform)\n"
      ]
    },
    {
      "cell_type": "code",
      "execution_count": 727,
      "metadata": {
        "colab": {
          "base_uri": "https://localhost:8080/"
        },
        "id": "5LxTEuZvKkSh",
        "outputId": "bd4c4bf2-663d-463e-edac-44ea964e920b"
      },
      "outputs": [
        {
          "output_type": "execute_result",
          "data": {
            "text/plain": [
              "Dataset Flowers102\n",
              "    Number of datapoints: 1020\n",
              "    Root location: /flower_data\n",
              "    split=train\n",
              "    StandardTransform\n",
              "Transform: Compose(\n",
              "               Resize(size=(224, 224), interpolation=bilinear, max_size=None, antialias=True)\n",
              "               ToTensor()\n",
              "               Normalize(mean=[0.485, 0.456, 0.406], std=[0.229, 0.224, 0.225])\n",
              "           )"
            ]
          },
          "metadata": {},
          "execution_count": 727
        }
      ],
      "source": [
        "train_data"
      ]
    },
    {
      "cell_type": "code",
      "execution_count": 728,
      "metadata": {
        "colab": {
          "base_uri": "https://localhost:8080/"
        },
        "id": "-VmmXY2uD3F7",
        "outputId": "b284b65e-ecd8-4cdf-af01-2abafae40885"
      },
      "outputs": [
        {
          "output_type": "execute_result",
          "data": {
            "text/plain": [
              "Dataset Flowers102\n",
              "    Number of datapoints: 6149\n",
              "    Root location: /flower_data\n",
              "    split=test\n",
              "    StandardTransform\n",
              "Transform: Compose(\n",
              "               Resize(size=(224, 224), interpolation=bilinear, max_size=None, antialias=True)\n",
              "               ToTensor()\n",
              "               Normalize(mean=[0.485, 0.456, 0.406], std=[0.229, 0.224, 0.225])\n",
              "           )"
            ]
          },
          "metadata": {},
          "execution_count": 728
        }
      ],
      "source": [
        "test_data"
      ]
    },
    {
      "cell_type": "code",
      "execution_count": 729,
      "metadata": {
        "colab": {
          "base_uri": "https://localhost:8080/"
        },
        "id": "ZcFRIIUFKkch",
        "outputId": "43327f3c-d2a5-40b4-be06-7916607126c6"
      },
      "outputs": [
        {
          "output_type": "execute_result",
          "data": {
            "text/plain": [
              "Dataset Flowers102\n",
              "    Number of datapoints: 1020\n",
              "    Root location: /flower_data\n",
              "    split=val\n",
              "    StandardTransform\n",
              "Transform: Compose(\n",
              "               Resize(size=(224, 224), interpolation=bilinear, max_size=None, antialias=True)\n",
              "               ToTensor()\n",
              "               Normalize(mean=[0.485, 0.456, 0.406], std=[0.229, 0.224, 0.225])\n",
              "           )"
            ]
          },
          "metadata": {},
          "execution_count": 729
        }
      ],
      "source": [
        "val_data"
      ]
    },
    {
      "cell_type": "code",
      "execution_count": 730,
      "metadata": {
        "id": "T6pTLsZyK7Eh"
      },
      "outputs": [],
      "source": [
        "train_loader = DataLoader(train_data, batch_size=10, shuffle=True)\n",
        "test_loader = DataLoader(test_data, batch_size=10, shuffle=False)"
      ]
    },
    {
      "cell_type": "code",
      "execution_count": 731,
      "metadata": {
        "id": "m-Ha781OLKt8"
      },
      "outputs": [],
      "source": [
        "conv1 = nn.Conv2d(3, 10, 4, 2)\n",
        "conv2 = nn.Conv2d(10, 16, 4, 1)\n"
      ]
    },
    {
      "cell_type": "code",
      "execution_count": 732,
      "metadata": {
        "id": "P1mVq_wOLXem"
      },
      "outputs": [],
      "source": [
        "for i, (X_Train, y_train) in enumerate(train_data):\n",
        "  break\n"
      ]
    },
    {
      "cell_type": "code",
      "execution_count": 733,
      "metadata": {
        "colab": {
          "base_uri": "https://localhost:8080/"
        },
        "id": "WOgOr0WKLezq",
        "outputId": "d83d0236-103f-497a-8c37-26877c0bb23d"
      },
      "outputs": [
        {
          "output_type": "execute_result",
          "data": {
            "text/plain": [
              "torch.Size([3, 224, 224])"
            ]
          },
          "metadata": {},
          "execution_count": 733
        }
      ],
      "source": [
        "X_Train.shape"
      ]
    },
    {
      "cell_type": "code",
      "execution_count": 734,
      "metadata": {
        "id": "tDHYf_fALorw"
      },
      "outputs": [],
      "source": [
        "x = X_Train.view(1,3,224,224)"
      ]
    },
    {
      "cell_type": "code",
      "execution_count": 735,
      "metadata": {
        "id": "h0Sd1PjcQP9N"
      },
      "outputs": [],
      "source": [
        "x = F.relu(conv1(x))"
      ]
    },
    {
      "cell_type": "code",
      "execution_count": 736,
      "metadata": {
        "colab": {
          "base_uri": "https://localhost:8080/"
        },
        "id": "2q4uxHV6Lox6",
        "outputId": "d4b16ddf-61f7-4d9f-9e34-9c2ec2a0ce92"
      },
      "outputs": [
        {
          "output_type": "execute_result",
          "data": {
            "text/plain": [
              "torch.Size([1, 10, 111, 111])"
            ]
          },
          "metadata": {},
          "execution_count": 736
        }
      ],
      "source": [
        "x.shape"
      ]
    },
    {
      "cell_type": "code",
      "execution_count": 737,
      "metadata": {
        "id": "ZdcfBC66Lo1H"
      },
      "outputs": [],
      "source": [
        "x = F.max_pool2d(x,2,2)"
      ]
    },
    {
      "cell_type": "code",
      "execution_count": 738,
      "metadata": {
        "colab": {
          "base_uri": "https://localhost:8080/"
        },
        "id": "xt6BqkJoLo4a",
        "outputId": "45317c94-beb2-43a1-c873-ffc8788467d7"
      },
      "outputs": [
        {
          "output_type": "execute_result",
          "data": {
            "text/plain": [
              "torch.Size([1, 10, 55, 55])"
            ]
          },
          "metadata": {},
          "execution_count": 738
        }
      ],
      "source": [
        "x.shape"
      ]
    },
    {
      "cell_type": "code",
      "execution_count": 739,
      "metadata": {
        "id": "S8rcz9WoLo6z"
      },
      "outputs": [],
      "source": [
        "x = F.relu(conv2(x))"
      ]
    },
    {
      "cell_type": "code",
      "execution_count": 740,
      "metadata": {
        "colab": {
          "base_uri": "https://localhost:8080/"
        },
        "id": "w6n4sakKLo8x",
        "outputId": "b8e8b52c-cad7-455e-d3c7-1d0c380694ae"
      },
      "outputs": [
        {
          "output_type": "execute_result",
          "data": {
            "text/plain": [
              "torch.Size([1, 16, 52, 52])"
            ]
          },
          "metadata": {},
          "execution_count": 740
        }
      ],
      "source": [
        "x.shape"
      ]
    },
    {
      "cell_type": "code",
      "source": [
        "x = F.avg_pool2d(x, 2, 2)"
      ],
      "metadata": {
        "id": "H8GP5m4M0LIY"
      },
      "execution_count": 741,
      "outputs": []
    },
    {
      "cell_type": "code",
      "source": [
        "x.shape"
      ],
      "metadata": {
        "id": "9GEdt-Lj0Tb2",
        "outputId": "d941e111-4402-4340-93bc-bb18e3fac76a",
        "colab": {
          "base_uri": "https://localhost:8080/"
        }
      },
      "execution_count": 742,
      "outputs": [
        {
          "output_type": "execute_result",
          "data": {
            "text/plain": [
              "torch.Size([1, 16, 26, 26])"
            ]
          },
          "metadata": {},
          "execution_count": 742
        }
      ]
    },
    {
      "cell_type": "code",
      "execution_count": 743,
      "metadata": {
        "id": "s2YBCz6kWR-3"
      },
      "outputs": [],
      "source": [
        "class ConvolutionalNetwork(nn.Module):\n",
        "  def __init__(self):\n",
        "    super().__init__()\n",
        "    self.conv1 = nn.Conv2d(3,10,4,2)\n",
        "    self.conv2 = nn.Conv2d(10,16,4,1)\n",
        "    # Fully Connected Layer\n",
        "    self.fc1 = nn.Linear(26*26*16, 1200)\n",
        "    self.fc2 = nn.Linear(1200, 840)\n",
        "    self.fc3 = nn.Linear(840, 102)\n",
        "\n",
        "  def forward(self, X):\n",
        "    X = F.relu(self.conv1(X))\n",
        "    X = F.max_pool2d(X,2,2)\n",
        "    # Second Pass\n",
        "    X = F.relu(self.conv2(X))\n",
        "    X = F.avg_pool2d(X,2,2)\n",
        "\n",
        "    # Re-View to flatten it out\n",
        "    X = X.view(-1, 26*26*16) # negative one so that we can vary the batch size\n",
        "\n",
        "    # Fully Connected Layers\n",
        "    X = F.relu(self.fc1(X))\n",
        "    X = F.relu(self.fc2(X))\n",
        "    X = self.fc3(X)\n",
        "    return F.log_softmax(X, dim=1)"
      ]
    },
    {
      "cell_type": "code",
      "execution_count": 744,
      "metadata": {
        "colab": {
          "base_uri": "https://localhost:8080/"
        },
        "id": "pfKcXQXkUsle",
        "outputId": "2c0f0c65-80a3-47d6-e407-01b87b12c445"
      },
      "outputs": [
        {
          "output_type": "execute_result",
          "data": {
            "text/plain": [
              "ConvolutionalNetwork(\n",
              "  (conv1): Conv2d(3, 10, kernel_size=(4, 4), stride=(2, 2))\n",
              "  (conv2): Conv2d(10, 16, kernel_size=(4, 4), stride=(1, 1))\n",
              "  (fc1): Linear(in_features=10816, out_features=1200, bias=True)\n",
              "  (fc2): Linear(in_features=1200, out_features=840, bias=True)\n",
              "  (fc3): Linear(in_features=840, out_features=102, bias=True)\n",
              ")"
            ]
          },
          "metadata": {},
          "execution_count": 744
        }
      ],
      "source": [
        "torch.manual_seed(41)\n",
        "model = ConvolutionalNetwork()\n",
        "model"
      ]
    },
    {
      "cell_type": "code",
      "execution_count": 745,
      "metadata": {
        "id": "HZAL9GwMUHH9"
      },
      "outputs": [],
      "source": [
        "# Loss Function Optimizer\n",
        "criterion = nn.CrossEntropyLoss()\n",
        "optimizer = torch.optim.Adam(model.parameters(), lr=0.001) # Smaller the Learning Rate, longer its gonna take to train."
      ]
    },
    {
      "cell_type": "code",
      "execution_count": 747,
      "metadata": {
        "colab": {
          "base_uri": "https://localhost:8080/"
        },
        "id": "8lQVO-EPUHKv",
        "outputId": "5ceb58a6-9ed3-4ded-8c8e-a9711c031a40"
      },
      "outputs": [
        {
          "metadata": {
            "tags": null
          },
          "name": "stdout",
          "output_type": "stream",
          "text": [
            "Epoch: 0  Batch: 10  Loss: 3.9854469299316406\n",
            "Epoch: 0  Batch: 20  Loss: 4.384213447570801\n",
            "Epoch: 0  Batch: 30  Loss: 4.4223127365112305\n",
            "Epoch: 0  Batch: 40  Loss: 4.23541259765625\n",
            "Epoch: 0  Batch: 50  Loss: 4.263166904449463\n",
            "Epoch: 0  Batch: 60  Loss: 3.8584988117218018\n",
            "Epoch: 0  Batch: 70  Loss: 3.8212294578552246\n",
            "Epoch: 0  Batch: 80  Loss: 3.950770854949951\n",
            "Epoch: 0  Batch: 90  Loss: 4.028338432312012\n",
            "Epoch: 0  Batch: 100  Loss: 4.388976573944092\n",
            "Epoch: 1  Batch: 10  Loss: 3.8314101696014404\n",
            "Epoch: 1  Batch: 20  Loss: 3.946143388748169\n",
            "Epoch: 1  Batch: 30  Loss: 4.07335901260376\n",
            "Epoch: 1  Batch: 40  Loss: 3.680945634841919\n",
            "Epoch: 1  Batch: 50  Loss: 4.26007604598999\n",
            "Epoch: 1  Batch: 60  Loss: 4.0907368659973145\n",
            "Epoch: 1  Batch: 70  Loss: 4.184187889099121\n",
            "Epoch: 1  Batch: 80  Loss: 3.9348556995391846\n",
            "Epoch: 1  Batch: 90  Loss: 4.031002521514893\n",
            "Epoch: 1  Batch: 100  Loss: 3.6676411628723145\n",
            "Epoch: 2  Batch: 10  Loss: 3.9018282890319824\n",
            "Epoch: 2  Batch: 20  Loss: 3.7160308361053467\n",
            "Epoch: 2  Batch: 30  Loss: 3.9066288471221924\n",
            "Epoch: 2  Batch: 40  Loss: 3.7586371898651123\n",
            "Epoch: 2  Batch: 50  Loss: 3.6539053916931152\n",
            "Epoch: 2  Batch: 60  Loss: 3.8577003479003906\n",
            "Epoch: 2  Batch: 70  Loss: 3.7463996410369873\n",
            "Epoch: 2  Batch: 80  Loss: 3.9814391136169434\n",
            "Epoch: 2  Batch: 90  Loss: 3.2823078632354736\n",
            "Epoch: 2  Batch: 100  Loss: 4.0372419357299805\n",
            "Epoch: 3  Batch: 10  Loss: 3.3081531524658203\n",
            "Epoch: 3  Batch: 20  Loss: 3.32234263420105\n",
            "Epoch: 3  Batch: 30  Loss: 3.07749080657959\n",
            "Epoch: 3  Batch: 40  Loss: 3.2157340049743652\n",
            "Epoch: 3  Batch: 50  Loss: 3.3303236961364746\n",
            "Epoch: 3  Batch: 60  Loss: 2.9001660346984863\n",
            "Epoch: 3  Batch: 70  Loss: 3.5905585289001465\n",
            "Epoch: 3  Batch: 80  Loss: 2.9615426063537598\n",
            "Epoch: 3  Batch: 90  Loss: 3.2425200939178467\n",
            "Epoch: 3  Batch: 100  Loss: 3.2464489936828613\n",
            "Epoch: 4  Batch: 10  Loss: 2.5046486854553223\n",
            "Epoch: 4  Batch: 20  Loss: 2.229260206222534\n",
            "Epoch: 4  Batch: 30  Loss: 2.2237625122070312\n",
            "Epoch: 4  Batch: 40  Loss: 3.2926089763641357\n",
            "Epoch: 4  Batch: 50  Loss: 2.3431248664855957\n",
            "Epoch: 4  Batch: 60  Loss: 2.134040117263794\n",
            "Epoch: 4  Batch: 70  Loss: 2.3159639835357666\n",
            "Epoch: 4  Batch: 80  Loss: 2.6199800968170166\n",
            "Epoch: 4  Batch: 90  Loss: 1.9276750087738037\n",
            "Epoch: 4  Batch: 100  Loss: 2.9346022605895996\n",
            "Training Took: 9.263114937146504 minutes!\n"
          ]
        }
      ],
      "source": [
        "import time\n",
        "start_time = time.time()\n",
        "\n",
        "# Create Variables To Tracks Things\n",
        "epochs = 5\n",
        "train_losses = []\n",
        "test_losses = []\n",
        "train_correct = []\n",
        "test_correct = []\n",
        "\n",
        "# For Loop of Epochs\n",
        "for i in range(epochs):\n",
        "  trn_corr = 0\n",
        "  tst_corr = 0\n",
        "\n",
        "\n",
        "  # Train\n",
        "  for b,(X_train, y_train) in enumerate(train_loader):\n",
        "    b+=1 # start our batches at 1\n",
        "    y_pred = model(X_train) # get predicted values from the training set. Not flattened 2D\n",
        "    loss = criterion(y_pred, y_train) # how off are we? Compare the predictions to correct answers in y_train\n",
        "\n",
        "    predicted = torch.max(y_pred.data, 1)[1] # add up the number of correct predictions. Indexed off the first point\n",
        "    batch_corr = (predicted == y_train).sum() # how many we got correct from this batch. True = 1, False=0, sum those up\n",
        "    trn_corr += batch_corr # keep track as we go along in training.\n",
        "\n",
        "    # Update our parameters\n",
        "    optimizer.zero_grad()\n",
        "    loss.backward()\n",
        "    optimizer.step()\n",
        "\n",
        "\n",
        "    # Print out some results\n",
        "    if b%10 == 0:\n",
        "      print(f'Epoch: {i}  Batch: {b}  Loss: {loss.item()}')\n",
        "\n",
        "  train_losses.append(loss)\n",
        "  train_correct.append(trn_corr)\n",
        "\n",
        "\n",
        "  # Test\n",
        "  with torch.no_grad(): #No gradient so we don't update our weights and biases with test data\n",
        "    for b,(X_test, y_test) in enumerate(test_loader):\n",
        "      y_val = model(X_test)\n",
        "      predicted = torch.max(y_val.data, 1)[1] # Adding up correct predictions\n",
        "      tst_corr += (predicted == y_test).sum() # T=1 F=0 and sum away\n",
        "\n",
        "\n",
        "  loss = criterion(y_val, y_test)\n",
        "  test_losses.append(loss)\n",
        "  test_correct.append(tst_corr)\n",
        "\n",
        "\n",
        "\n",
        "current_time = time.time()\n",
        "total = current_time - start_time\n",
        "print(f'Training Took: {total/60} minutes!')"
      ]
    },
    {
      "cell_type": "code",
      "execution_count": null,
      "metadata": {
        "id": "Pv-8IXYfUHNP"
      },
      "outputs": [],
      "source": []
    },
    {
      "cell_type": "code",
      "execution_count": null,
      "metadata": {
        "id": "ElQRedwUUHPz"
      },
      "outputs": [],
      "source": [
        "train_losses = [tl.item() for tl in train_losses]\n",
        "plt.plot(train_losses, label=\"Training Loss\")\n",
        "plt.plot(test_losses, label=\"Validation Loss\")\n",
        "plt.title(\"Loss at Epoch\")\n",
        "plt.legend()"
      ]
    },
    {
      "cell_type": "code",
      "execution_count": null,
      "metadata": {
        "id": "dAsr3lg_UHSV"
      },
      "outputs": [],
      "source": []
    }
  ],
  "metadata": {
    "colab": {
      "provenance": [],
      "authorship_tag": "ABX9TyMz+GKb3a82kaxQ42uExfxh",
      "include_colab_link": true
    },
    "kernelspec": {
      "display_name": "Python 3",
      "name": "python3"
    },
    "language_info": {
      "name": "python"
    }
  },
  "nbformat": 4,
  "nbformat_minor": 0
}