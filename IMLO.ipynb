{
  "cells": [
    {
      "cell_type": "markdown",
      "metadata": {
        "id": "view-in-github",
        "colab_type": "text"
      },
      "source": [
        "<a href=\"https://colab.research.google.com/github/shirinsitara/IMLO/blob/main/IMLO.ipynb\" target=\"_parent\"><img src=\"https://colab.research.google.com/assets/colab-badge.svg\" alt=\"Open In Colab\"/></a>"
      ]
    },
    {
      "cell_type": "code",
      "execution_count": null,
      "metadata": {
        "id": "CECX9yNhENg3"
      },
      "outputs": [],
      "source": [
        "import torch\n",
        "import torch.nn as nn\n",
        "import torch.nn.functional as F\n",
        "from torch.utils.data import DataLoader\n",
        "from torchvision import datasets, transforms\n",
        "from torchvision.utils import make_grid\n",
        "\n",
        "import numpy as np\n",
        "import pandas as pd\n",
        "from sklearn.metrics import confusion_matrix\n",
        "import matplotlib.pyplot as plt\n",
        "%matplotlib inline"
      ]
    },
    {
      "cell_type": "code",
      "execution_count": null,
      "metadata": {
        "id": "n6K_tByXEbtR"
      },
      "outputs": [],
      "source": [
        "transform = transforms.Compose([\n",
        "    transforms.Resize((224, 224)),  # Resize all images to 224x224\n",
        "    transforms.ToTensor(),          # Convert images to tensor\n",
        "    transforms.Normalize(mean=[0.485, 0.456, 0.406], std=[0.229, 0.224, 0.225])  # Normalize images\n",
        "])"
      ]
    },
    {
      "cell_type": "code",
      "execution_count": null,
      "metadata": {
        "id": "9dU4GZPMEcGe"
      },
      "outputs": [],
      "source": [
        "from torchvision.datasets import Flowers102\n",
        "\n",
        "# Load the training data\n",
        "train_data = Flowers102(root='/flower_data', split='train', download=True, transform=transform)\n",
        "\n",
        "# Load the validation data\n",
        "val_data = Flowers102(root='/flower_data', split='val', download=True, transform=transform)\n",
        "\n",
        "# Load the test data\n",
        "test_data = Flowers102(root='/flower_data', split='test', download=True, transform=transform)\n"
      ]
    },
    {
      "cell_type": "code",
      "execution_count": null,
      "metadata": {
        "colab": {
          "base_uri": "https://localhost:8080/"
        },
        "id": "5LxTEuZvKkSh",
        "outputId": "b908ae1e-b60b-4053-a488-fcc56c9ebe01"
      },
      "outputs": [
        {
          "output_type": "execute_result",
          "data": {
            "text/plain": [
              "Dataset Flowers102\n",
              "    Number of datapoints: 1020\n",
              "    Root location: /flower_data\n",
              "    split=train\n",
              "    StandardTransform\n",
              "Transform: Compose(\n",
              "               Resize(size=(224, 224), interpolation=bilinear, max_size=None, antialias=True)\n",
              "               ToTensor()\n",
              "               Normalize(mean=[0.485, 0.456, 0.406], std=[0.229, 0.224, 0.225])\n",
              "           )"
            ]
          },
          "metadata": {},
          "execution_count": 87
        }
      ],
      "source": [
        "train_data"
      ]
    },
    {
      "cell_type": "code",
      "execution_count": null,
      "metadata": {
        "colab": {
          "base_uri": "https://localhost:8080/"
        },
        "id": "-VmmXY2uD3F7",
        "outputId": "8814f41d-23b3-4e4a-d1f0-453c0aeed6b2"
      },
      "outputs": [
        {
          "output_type": "execute_result",
          "data": {
            "text/plain": [
              "Dataset Flowers102\n",
              "    Number of datapoints: 6149\n",
              "    Root location: /flower_data\n",
              "    split=test\n",
              "    StandardTransform\n",
              "Transform: Compose(\n",
              "               Resize(size=(224, 224), interpolation=bilinear, max_size=None, antialias=True)\n",
              "               ToTensor()\n",
              "               Normalize(mean=[0.485, 0.456, 0.406], std=[0.229, 0.224, 0.225])\n",
              "           )"
            ]
          },
          "metadata": {},
          "execution_count": 88
        }
      ],
      "source": [
        "test_data"
      ]
    },
    {
      "cell_type": "code",
      "execution_count": null,
      "metadata": {
        "colab": {
          "base_uri": "https://localhost:8080/"
        },
        "id": "ZcFRIIUFKkch",
        "outputId": "c5b3fcdd-bf57-4164-cefb-45c298e57aeb"
      },
      "outputs": [
        {
          "output_type": "execute_result",
          "data": {
            "text/plain": [
              "Dataset Flowers102\n",
              "    Number of datapoints: 1020\n",
              "    Root location: /flower_data\n",
              "    split=val\n",
              "    StandardTransform\n",
              "Transform: Compose(\n",
              "               Resize(size=(224, 224), interpolation=bilinear, max_size=None, antialias=True)\n",
              "               ToTensor()\n",
              "               Normalize(mean=[0.485, 0.456, 0.406], std=[0.229, 0.224, 0.225])\n",
              "           )"
            ]
          },
          "metadata": {},
          "execution_count": 89
        }
      ],
      "source": [
        "val_data"
      ]
    },
    {
      "cell_type": "code",
      "execution_count": null,
      "metadata": {
        "id": "T6pTLsZyK7Eh"
      },
      "outputs": [],
      "source": [
        "# Data Loader\n",
        "train_loader = DataLoader(train_data, batch_size=10, shuffle=True)\n",
        "val_loader = DataLoader(val_data, batch_size=10, shuffle=False)\n",
        "test_loader = DataLoader(test_data, batch_size=10, shuffle=False)"
      ]
    },
    {
      "cell_type": "code",
      "execution_count": null,
      "metadata": {
        "id": "m-Ha781OLKt8"
      },
      "outputs": [],
      "source": [
        "conv1 = nn.Conv2d(3, 64, 3, 2, 2)\n",
        "conv2 = nn.Conv2d(64, 128, 3, 2, 2)\n",
        "conv3 = nn.Conv2d(128, 512, 3, 2, 2)\n",
        "#conv4 = nn.Conv2d(128, 128, 3, 2, 2)"
      ]
    },
    {
      "cell_type": "code",
      "execution_count": null,
      "metadata": {
        "id": "P1mVq_wOLXem"
      },
      "outputs": [],
      "source": [
        "for i, (X_Train, y_train) in enumerate(train_data):\n",
        "  break"
      ]
    },
    {
      "cell_type": "code",
      "execution_count": null,
      "metadata": {
        "colab": {
          "base_uri": "https://localhost:8080/"
        },
        "id": "WOgOr0WKLezq",
        "outputId": "1701351f-1fad-49f4-a623-9bf3f58a224e"
      },
      "outputs": [
        {
          "output_type": "execute_result",
          "data": {
            "text/plain": [
              "torch.Size([3, 224, 224])"
            ]
          },
          "metadata": {},
          "execution_count": 93
        }
      ],
      "source": [
        "X_Train.shape"
      ]
    },
    {
      "cell_type": "code",
      "execution_count": null,
      "metadata": {
        "id": "tDHYf_fALorw"
      },
      "outputs": [],
      "source": [
        "x = X_Train.view(1,3,224,224)"
      ]
    },
    {
      "cell_type": "code",
      "execution_count": null,
      "metadata": {
        "id": "h0Sd1PjcQP9N"
      },
      "outputs": [],
      "source": [
        "# testign dimensions\n",
        "x = F.relu(conv1(x))\n",
        "x = F.max_pool2d(x,2,2,1)\n",
        "x = F.relu(conv2(x))\n",
        "x = F.max_pool2d(x,2,2,1)\n",
        "x = F.relu(conv3(x))\n",
        "x = F.max_pool2d(x, 2, 2, 1)"
      ]
    },
    {
      "cell_type": "code",
      "source": [
        "x.shape"
      ],
      "metadata": {
        "id": "9GEdt-Lj0Tb2",
        "outputId": "cca95d73-f676-4cf2-e2df-35a03ea4466d",
        "colab": {
          "base_uri": "https://localhost:8080/"
        }
      },
      "execution_count": null,
      "outputs": [
        {
          "output_type": "execute_result",
          "data": {
            "text/plain": [
              "torch.Size([1, 512, 5, 5])"
            ]
          },
          "metadata": {},
          "execution_count": 96
        }
      ]
    },
    {
      "cell_type": "code",
      "execution_count": null,
      "metadata": {
        "id": "s2YBCz6kWR-3"
      },
      "outputs": [],
      "source": [
        "class ConvolutionalNetwork(nn.Module):\n",
        "  def __init__(self):\n",
        "    super().__init__()\n",
        "    # Convoluted Layers\n",
        "    self.conv1 = nn.Conv2d(3,64,3,2,2)\n",
        "    self.conv2 = nn.Conv2d(64,128,3,2,2)\n",
        "    self.conv3 = nn.Conv2d(128,512, 3, 2, 2)\n",
        "    # Fully Connected Layers\n",
        "    self.fc1 = nn.Linear(5*5*512, 1200)\n",
        "    self.fc2 = nn.Linear(1200, 720)\n",
        "    self.fc3 = nn.Linear(720, 102)\n",
        "\n",
        "    #Droupouts\n",
        "    self.dropout_conv = nn.Dropout2d(0.25)  # for convolutional layers\n",
        "    self.dropout_fc = nn.Dropout(0.5)   # for fully connected layers\n",
        "\n",
        "\n",
        "  def forward(self, X):\n",
        "    # First layer\n",
        "    X = F.relu(self.conv1(X))\n",
        "    X = F.max_pool2d(X,2,2, 1)\n",
        "\n",
        "    #Second layer\n",
        "    X = F.relu(self.conv2(X))\n",
        "    X = F.max_pool2d(X,2,2, 1)\n",
        "\n",
        "    # Third layer\n",
        "    X = F.relu(self.conv3(X))\n",
        "    X = self.dropout_conv(X)\n",
        "    X = F.max_pool2d(X, 2, 2, 1)\n",
        "\n",
        "    # Re-View to flatten it out\n",
        "    X = X.view(-1, 512*5*5)\n",
        "\n",
        "    # Fully Connected Layers\n",
        "    X = F.relu(self.fc1(X))\n",
        "    X = F.relu(self.fc2(X))\n",
        "    X = self.fc3(X)\n",
        "    return F.log_softmax(X, dim=1)"
      ]
    },
    {
      "cell_type": "code",
      "execution_count": null,
      "metadata": {
        "colab": {
          "base_uri": "https://localhost:8080/"
        },
        "id": "pfKcXQXkUsle",
        "outputId": "2aac6b64-631a-4465-ffa5-9834d630b818"
      },
      "outputs": [
        {
          "output_type": "execute_result",
          "data": {
            "text/plain": [
              "ConvolutionalNetwork(\n",
              "  (conv1): Conv2d(3, 64, kernel_size=(3, 3), stride=(2, 2), padding=(2, 2))\n",
              "  (conv2): Conv2d(64, 128, kernel_size=(3, 3), stride=(2, 2), padding=(2, 2))\n",
              "  (conv3): Conv2d(128, 512, kernel_size=(3, 3), stride=(2, 2), padding=(2, 2))\n",
              "  (fc1): Linear(in_features=12800, out_features=1200, bias=True)\n",
              "  (fc2): Linear(in_features=1200, out_features=720, bias=True)\n",
              "  (fc3): Linear(in_features=720, out_features=102, bias=True)\n",
              "  (dropout_conv): Dropout2d(p=0.25, inplace=False)\n",
              "  (dropout_fc): Dropout(p=0.5, inplace=False)\n",
              ")"
            ]
          },
          "metadata": {},
          "execution_count": 98
        }
      ],
      "source": [
        "torch.manual_seed(41)\n",
        "model = ConvolutionalNetwork()\n",
        "model"
      ]
    },
    {
      "cell_type": "code",
      "execution_count": null,
      "metadata": {
        "id": "HZAL9GwMUHH9"
      },
      "outputs": [],
      "source": [
        "# Loss Function Optimizer\n",
        "criterion = nn.CrossEntropyLoss()\n",
        "optimizer = torch.optim.Adam(model.parameters(), lr=0.001, weight_decay=0.001)"
      ]
    },
    {
      "cell_type": "code",
      "execution_count": null,
      "metadata": {
        "colab": {
          "base_uri": "https://localhost:8080/"
        },
        "id": "8lQVO-EPUHKv",
        "outputId": "b8d8d3cb-2ab7-4331-839c-d8af8d1a8350"
      },
      "outputs": [
        {
          "output_type": "stream",
          "name": "stdout",
          "text": [
            "Epoch 1 - Training Accuracy: 0.49% - Validation Accuracy: 0.98%\n",
            "Epoch 2 - Training Accuracy: 0.69% - Validation Accuracy: 0.98%\n",
            "Epoch 3 - Training Accuracy: 0.49% - Validation Accuracy: 0.98%\n",
            "Epoch 4 - Training Accuracy: 0.59% - Validation Accuracy: 0.98%\n",
            "Epoch 5 - Training Accuracy: 0.69% - Validation Accuracy: 1.96%\n",
            "Epoch 6 - Training Accuracy: 1.76% - Validation Accuracy: 2.65%\n",
            "Epoch 7 - Training Accuracy: 1.76% - Validation Accuracy: 2.65%\n",
            "Epoch 8 - Training Accuracy: 1.67% - Validation Accuracy: 3.33%\n",
            "Epoch 9 - Training Accuracy: 1.96% - Validation Accuracy: 2.16%\n",
            "Epoch 10 - Training Accuracy: 3.53% - Validation Accuracy: 4.02%\n",
            "Epoch 11 - Training Accuracy: 3.43% - Validation Accuracy: 4.31%\n",
            "Epoch 12 - Training Accuracy: 5.29% - Validation Accuracy: 4.02%\n",
            "Epoch 13 - Training Accuracy: 5.59% - Validation Accuracy: 6.18%\n",
            "Epoch 14 - Training Accuracy: 5.88% - Validation Accuracy: 7.25%\n",
            "Epoch 15 - Training Accuracy: 7.84% - Validation Accuracy: 8.24%\n",
            "Epoch 16 - Training Accuracy: 9.22% - Validation Accuracy: 8.53%\n",
            "Epoch 17 - Training Accuracy: 10.59% - Validation Accuracy: 6.67%\n",
            "Epoch 18 - Training Accuracy: 12.35% - Validation Accuracy: 10.39%\n",
            "Epoch 19 - Training Accuracy: 13.14% - Validation Accuracy: 11.76%\n",
            "Epoch 20 - Training Accuracy: 14.22% - Validation Accuracy: 10.69%\n",
            "Epoch 21 - Training Accuracy: 17.45% - Validation Accuracy: 13.43%\n",
            "Epoch 22 - Training Accuracy: 18.73% - Validation Accuracy: 13.04%\n",
            "Epoch 23 - Training Accuracy: 24.12% - Validation Accuracy: 14.22%\n",
            "Epoch 24 - Training Accuracy: 25.49% - Validation Accuracy: 12.35%\n",
            "Epoch 25 - Training Accuracy: 28.63% - Validation Accuracy: 13.43%\n",
            "Epoch 26 - Training Accuracy: 30.69% - Validation Accuracy: 11.86%\n",
            "Epoch 27 - Training Accuracy: 30.39% - Validation Accuracy: 13.04%\n",
            "Epoch 28 - Training Accuracy: 36.08% - Validation Accuracy: 12.84%\n",
            "Epoch 29 - Training Accuracy: 37.75% - Validation Accuracy: 15.39%\n",
            "Epoch 30 - Training Accuracy: 40.98% - Validation Accuracy: 12.45%\n",
            "Epoch 31 - Training Accuracy: 43.14% - Validation Accuracy: 14.31%\n",
            "Epoch 32 - Training Accuracy: 47.94% - Validation Accuracy: 13.53%\n",
            "Epoch 33 - Training Accuracy: 51.08% - Validation Accuracy: 12.45%\n",
            "Epoch 34 - Training Accuracy: 50.98% - Validation Accuracy: 14.02%\n",
            "Epoch 35 - Training Accuracy: 55.20% - Validation Accuracy: 12.65%\n",
            "Epoch 36 - Training Accuracy: 60.39% - Validation Accuracy: 14.22%\n",
            "Epoch 37 - Training Accuracy: 61.76% - Validation Accuracy: 13.92%\n",
            "Epoch 38 - Training Accuracy: 65.00% - Validation Accuracy: 11.96%\n",
            "Epoch 39 - Training Accuracy: 68.33% - Validation Accuracy: 11.76%\n",
            "Epoch 40 - Training Accuracy: 69.02% - Validation Accuracy: 11.86%\n",
            "Epoch 41 - Training Accuracy: 72.65% - Validation Accuracy: 12.65%\n",
            "Epoch 42 - Training Accuracy: 75.69% - Validation Accuracy: 12.84%\n",
            "Epoch 43 - Training Accuracy: 75.88% - Validation Accuracy: 14.12%\n",
            "Epoch 44 - Training Accuracy: 79.80% - Validation Accuracy: 13.63%\n",
            "Epoch 45 - Training Accuracy: 78.43% - Validation Accuracy: 13.43%\n",
            "Epoch 46 - Training Accuracy: 80.39% - Validation Accuracy: 12.25%\n",
            "Epoch 47 - Training Accuracy: 80.20% - Validation Accuracy: 14.31%\n",
            "Epoch 48 - Training Accuracy: 86.18% - Validation Accuracy: 13.53%\n",
            "Epoch 49 - Training Accuracy: 83.04% - Validation Accuracy: 12.45%\n",
            "Epoch 50 - Training Accuracy: 86.57% - Validation Accuracy: 12.84%\n",
            "Training Took: 69.26307779550552 minutes!\n"
          ]
        }
      ],
      "source": [
        "import time\n",
        "start_time = time.time()\n",
        "\n",
        "# Create Variables To Tracks Things\n",
        "epochs = 50\n",
        "train_losses = []\n",
        "test_losses = []\n",
        "train_correct = []\n",
        "test_correct = []\n",
        "\n",
        "# For Loop of Epochs\n",
        "for i in range(epochs):\n",
        "  trn_corr = 0\n",
        "  tst_corr = 0\n",
        "\n",
        "\n",
        "  # Train\n",
        "  for b,(X_train, y_train) in enumerate(train_loader):\n",
        "    b+=1\n",
        "    y_pred = model(X_train)\n",
        "    loss = criterion(y_pred, y_train)\n",
        "\n",
        "    predicted = torch.max(y_pred.data, 1)[1]\n",
        "    batch_corr = (predicted == y_train).sum()\n",
        "    trn_corr += batch_corr\n",
        "\n",
        "    # Updating parameters\n",
        "    optimizer.zero_grad()\n",
        "    loss.backward()\n",
        "    optimizer.step()\n",
        "\n",
        "\n",
        "    # Print out some results\n",
        "    # if b%10 == 0:\n",
        "    #   print(f'Epoch: {i}  Batch: {b}  Loss: {loss.item()}')\n",
        "\n",
        "  train_losses.append(loss)\n",
        "  train_correct.append(trn_corr)\n",
        "\n",
        "\n",
        "  # Test\n",
        "  with torch.no_grad(): #No gradient so we don't update our weights and biases with test data\n",
        "    for b,(X_test, y_test) in enumerate(val_loader):\n",
        "      y_val = model(X_test)\n",
        "      predicted = torch.max(y_val.data, 1)[1] # Adding up correct predictions\n",
        "      tst_corr += (predicted == y_test).sum() # T=1 F=0 and sum away\n",
        "\n",
        "\n",
        "  loss = criterion(y_val, y_test)\n",
        "  test_losses.append(loss)\n",
        "  test_correct.append(tst_corr)\n",
        "\n",
        "  train_accuracy = trn_corr / len(train_loader.dataset) * 100\n",
        "  test_accuracy = tst_corr / len(val_loader.dataset) * 100\n",
        "\n",
        "  print(f'Epoch {i+1} - Training Accuracy: {train_accuracy:.2f}% - Validation Accuracy: {test_accuracy:.2f}%')\n",
        "\n",
        "\n",
        "\n",
        "current_time = time.time()\n",
        "total = current_time - start_time\n",
        "print(f'Training Took: {total/60} minutes!')"
      ]
    },
    {
      "cell_type": "code",
      "execution_count": null,
      "metadata": {
        "id": "ElQRedwUUHPz",
        "colab": {
          "base_uri": "https://localhost:8080/",
          "height": 469
        },
        "outputId": "b50278f9-1aa8-48e5-d26c-fd3258dec8ac"
      },
      "outputs": [
        {
          "output_type": "execute_result",
          "data": {
            "text/plain": [
              "<matplotlib.legend.Legend at 0x798ec52d7fa0>"
            ]
          },
          "metadata": {},
          "execution_count": 101
        },
        {
          "output_type": "display_data",
          "data": {
            "text/plain": [
              "<Figure size 640x480 with 1 Axes>"
            ],
            "image/png": "[encoded data removed]"
          },
          "metadata": {}
        }
      ],
      "source": [
        "train_losses = [tl.item() for tl in train_losses]\n",
        "plt.plot(train_losses, label=\"Training Loss\")\n",
        "plt.plot(test_losses, label=\"Validation Loss\")\n",
        "plt.title(\"Loss at Epoch\")\n",
        "plt.legend()"
      ]
    },
    {
      "cell_type": "code",
      "execution_count": null,
      "metadata": {
        "id": "dAsr3lg_UHSV",
        "outputId": "f75a0917-5520-48c9-973c-8610f05ca078",
        "colab": {
          "base_uri": "https://localhost:8080/"
        }
      },
      "outputs": [
        {
          "output_type": "stream",
          "name": "stdout",
          "text": [
            "Test Accuracy: 12.84%\n"
          ]
        }
      ],
      "source": [
        "\n",
        "check_test_losses = []\n",
        "check_test_correct = []\n",
        "\n",
        "check_correct = 0\n",
        "\n",
        "# Test\n",
        "with torch.no_grad():\n",
        "  for b,(X_test, y_test) in enumerate(test_loader):\n",
        "    y_val = model(X_test)\n",
        "    predicted = torch.max(y_val.data, 1)[1]\n",
        "    check_correct += (predicted == y_test).sum()\n",
        "\n",
        "loss = criterion(y_val, y_test)\n",
        "check_test_losses.append(loss)\n",
        "check_test_correct.append(check_correct)\n",
        "\n",
        "\n",
        "check_test_accuracy = tst_corr / len(val_loader.dataset) * 100\n",
        "\n",
        "print(f'Test Accuracy: {test_accuracy:.2f}%')\n"
      ]
    },
    {
      "cell_type": "code",
      "source": [
        "# # to download the module uncomment the following code and add your path\n",
        "# import os\n",
        "# save_directory = r'add/your/path'\n",
        "# os.makedirs(save_directory, exist_ok=True)\n",
        "# save_path = os.path.join(save_directory, 'model.pth')\n",
        "\n",
        "# # Save the model\n",
        "# torch.save(model.state_dict(), save_path)"
      ],
      "metadata": {
        "id": "TD4cRssEa6Wd"
      },
      "execution_count": null,
      "outputs": []
    }
  ],
  "metadata": {
    "colab": {
      "provenance": [],
      "machine_shape": "hm",
      "gpuType": "L4",
      "authorship_tag": "ABX9TyMYYHL9uhQFxIXUqQMPdRTr",
      "include_colab_link": true
    },
    "kernelspec": {
      "display_name": "Python 3",
      "name": "python3"
    },
    "language_info": {
      "name": "python"
    },
    "accelerator": "GPU"
  },
  "nbformat": 4,
  "nbformat_minor": 0
}