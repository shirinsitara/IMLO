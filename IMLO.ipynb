{
  "cells": [
    {
      "cell_type": "markdown",
      "metadata": {
        "id": "view-in-github",
        "colab_type": "text"
      },
      "source": [
        "<a href=\"https://colab.research.google.com/github/shirinsitara/IMLO/blob/corrected-validated-set/IMLO.ipynb\" target=\"_parent\"><img src=\"https://colab.research.google.com/assets/colab-badge.svg\" alt=\"Open In Colab\"/></a>"
      ]
    },
    {
      "cell_type": "code",
      "execution_count": 86,
      "metadata": {
        "id": "CECX9yNhENg3"
      },
      "outputs": [],
      "source": [
        "import torch\n",
        "import torch.nn as nn\n",
        "import torch.nn.functional as F\n",
        "from torch.utils.data import DataLoader\n",
        "from torchvision import datasets, transforms\n",
        "from torchvision.utils import make_grid\n",
        "\n",
        "import numpy as np\n",
        "import pandas as pd\n",
        "from sklearn.metrics import confusion_matrix\n",
        "import matplotlib.pyplot as plt\n",
        "%matplotlib inline"
      ]
    },
    {
      "cell_type": "code",
      "execution_count": 87,
      "metadata": {
        "id": "n6K_tByXEbtR"
      },
      "outputs": [],
      "source": [
        "#transform = transforms.ToTensor()\n",
        "transform = transforms.Compose([\n",
        "    transforms.Resize((224, 224)),  # Resize all images to 224x224\n",
        "    transforms.ToTensor(),          # Convert images to tensor\n",
        "    transforms.Normalize(mean=[0.485, 0.456, 0.406], std=[0.229, 0.224, 0.225])  # Normalize images\n",
        "])"
      ]
    },
    {
      "cell_type": "code",
      "execution_count": 88,
      "metadata": {
        "id": "eKB2EcxxEb7i"
      },
      "outputs": [],
      "source": [
        "#train_data = datasets.MNIST(root='/cnn_data', train=True, download=True, transform=transform)"
      ]
    },
    {
      "cell_type": "code",
      "execution_count": 89,
      "metadata": {
        "id": "9dU4GZPMEcGe"
      },
      "outputs": [],
      "source": [
        "from torchvision.datasets import Flowers102\n",
        "\n",
        "# Load the training data\n",
        "train_data = Flowers102(root='/flower_data', split='train', download=True, transform=transform)\n",
        "\n",
        "# Load the validation data\n",
        "val_data = Flowers102(root='/flower_data', split='val', download=True, transform=transform)\n",
        "\n",
        "# Load the test data\n",
        "test_data = Flowers102(root='/flower_data', split='test', download=True, transform=transform)\n"
      ]
    },
    {
      "cell_type": "code",
      "execution_count": 90,
      "metadata": {
        "colab": {
          "base_uri": "https://localhost:8080/"
        },
        "id": "5LxTEuZvKkSh",
        "outputId": "ae35bc92-73f3-43f3-b793-881b21e4a850"
      },
      "outputs": [
        {
          "output_type": "execute_result",
          "data": {
            "text/plain": [
              "Dataset Flowers102\n",
              "    Number of datapoints: 1020\n",
              "    Root location: /flower_data\n",
              "    split=train\n",
              "    StandardTransform\n",
              "Transform: Compose(\n",
              "               Resize(size=(224, 224), interpolation=bilinear, max_size=None, antialias=True)\n",
              "               ToTensor()\n",
              "               Normalize(mean=[0.485, 0.456, 0.406], std=[0.229, 0.224, 0.225])\n",
              "           )"
            ]
          },
          "metadata": {},
          "execution_count": 90
        }
      ],
      "source": [
        "train_data"
      ]
    },
    {
      "cell_type": "code",
      "execution_count": 91,
      "metadata": {
        "colab": {
          "base_uri": "https://localhost:8080/"
        },
        "id": "-VmmXY2uD3F7",
        "outputId": "5d0322a6-1b54-42d9-a4d2-dd919d40f1f8"
      },
      "outputs": [
        {
          "output_type": "execute_result",
          "data": {
            "text/plain": [
              "Dataset Flowers102\n",
              "    Number of datapoints: 6149\n",
              "    Root location: /flower_data\n",
              "    split=test\n",
              "    StandardTransform\n",
              "Transform: Compose(\n",
              "               Resize(size=(224, 224), interpolation=bilinear, max_size=None, antialias=True)\n",
              "               ToTensor()\n",
              "               Normalize(mean=[0.485, 0.456, 0.406], std=[0.229, 0.224, 0.225])\n",
              "           )"
            ]
          },
          "metadata": {},
          "execution_count": 91
        }
      ],
      "source": [
        "test_data"
      ]
    },
    {
      "cell_type": "code",
      "execution_count": 92,
      "metadata": {
        "colab": {
          "base_uri": "https://localhost:8080/"
        },
        "id": "ZcFRIIUFKkch",
        "outputId": "5605cc1b-de27-41f5-c3e9-041d114eeb33"
      },
      "outputs": [
        {
          "output_type": "execute_result",
          "data": {
            "text/plain": [
              "Dataset Flowers102\n",
              "    Number of datapoints: 1020\n",
              "    Root location: /flower_data\n",
              "    split=val\n",
              "    StandardTransform\n",
              "Transform: Compose(\n",
              "               Resize(size=(224, 224), interpolation=bilinear, max_size=None, antialias=True)\n",
              "               ToTensor()\n",
              "               Normalize(mean=[0.485, 0.456, 0.406], std=[0.229, 0.224, 0.225])\n",
              "           )"
            ]
          },
          "metadata": {},
          "execution_count": 92
        }
      ],
      "source": [
        "val_data"
      ]
    },
    {
      "cell_type": "code",
      "execution_count": 93,
      "metadata": {
        "id": "T6pTLsZyK7Eh"
      },
      "outputs": [],
      "source": [
        "train_loader = DataLoader(train_data, batch_size=10, shuffle=True)\n",
        "val_loader = DataLoader(val_data, batch_size=10, shuffle=False)\n",
        "test_loader = DataLoader(test_data, batch_size=10, shuffle=False)"
      ]
    },
    {
      "cell_type": "code",
      "execution_count": 94,
      "metadata": {
        "id": "m-Ha781OLKt8"
      },
      "outputs": [],
      "source": [
        "conv1 = nn.Conv2d(3, 10, 5, 2)\n",
        "conv2 = nn.Conv2d(10, 16, 4, 2)\n",
        "conv3 = nn.Conv2d(16, 30, 3, 2)"
      ]
    },
    {
      "cell_type": "code",
      "execution_count": 95,
      "metadata": {
        "id": "P1mVq_wOLXem"
      },
      "outputs": [],
      "source": [
        "for i, (X_Train, y_train) in enumerate(train_data):\n",
        "  break\n"
      ]
    },
    {
      "cell_type": "code",
      "execution_count": 96,
      "metadata": {
        "colab": {
          "base_uri": "https://localhost:8080/"
        },
        "id": "WOgOr0WKLezq",
        "outputId": "ad701f37-f74f-4003-f5ce-17f1248d2469"
      },
      "outputs": [
        {
          "output_type": "execute_result",
          "data": {
            "text/plain": [
              "torch.Size([3, 224, 224])"
            ]
          },
          "metadata": {},
          "execution_count": 96
        }
      ],
      "source": [
        "X_Train.shape"
      ]
    },
    {
      "cell_type": "code",
      "execution_count": 97,
      "metadata": {
        "id": "tDHYf_fALorw"
      },
      "outputs": [],
      "source": [
        "x = X_Train.view(1,3,224,224)"
      ]
    },
    {
      "cell_type": "code",
      "execution_count": 98,
      "metadata": {
        "id": "h0Sd1PjcQP9N"
      },
      "outputs": [],
      "source": [
        "x = F.relu(conv1(x))"
      ]
    },
    {
      "cell_type": "code",
      "execution_count": 99,
      "metadata": {
        "colab": {
          "base_uri": "https://localhost:8080/"
        },
        "id": "2q4uxHV6Lox6",
        "outputId": "38dc2189-db5b-4fe5-f177-40dcaa71f3ac"
      },
      "outputs": [
        {
          "output_type": "execute_result",
          "data": {
            "text/plain": [
              "torch.Size([1, 10, 110, 110])"
            ]
          },
          "metadata": {},
          "execution_count": 99
        }
      ],
      "source": [
        "x.shape"
      ]
    },
    {
      "cell_type": "code",
      "execution_count": 100,
      "metadata": {
        "id": "ZdcfBC66Lo1H"
      },
      "outputs": [],
      "source": [
        "x = F.max_pool2d(x,2,2)"
      ]
    },
    {
      "cell_type": "code",
      "execution_count": 101,
      "metadata": {
        "colab": {
          "base_uri": "https://localhost:8080/"
        },
        "id": "xt6BqkJoLo4a",
        "outputId": "9ddb3041-de0e-402b-d372-eab96ec68835"
      },
      "outputs": [
        {
          "output_type": "execute_result",
          "data": {
            "text/plain": [
              "torch.Size([1, 10, 55, 55])"
            ]
          },
          "metadata": {},
          "execution_count": 101
        }
      ],
      "source": [
        "x.shape"
      ]
    },
    {
      "cell_type": "code",
      "execution_count": 102,
      "metadata": {
        "id": "S8rcz9WoLo6z"
      },
      "outputs": [],
      "source": [
        "x = F.relu(conv2(x))"
      ]
    },
    {
      "cell_type": "code",
      "execution_count": 103,
      "metadata": {
        "colab": {
          "base_uri": "https://localhost:8080/"
        },
        "id": "w6n4sakKLo8x",
        "outputId": "7df7e82a-c62e-4a23-e0ab-045ec819bc9a"
      },
      "outputs": [
        {
          "output_type": "execute_result",
          "data": {
            "text/plain": [
              "torch.Size([1, 16, 26, 26])"
            ]
          },
          "metadata": {},
          "execution_count": 103
        }
      ],
      "source": [
        "x.shape"
      ]
    },
    {
      "cell_type": "code",
      "source": [
        "x = F.avg_pool2d(x, 2, 1)"
      ],
      "metadata": {
        "id": "ICfWOufM4VU9"
      },
      "execution_count": 104,
      "outputs": []
    },
    {
      "cell_type": "code",
      "source": [
        "x.shape"
      ],
      "metadata": {
        "colab": {
          "base_uri": "https://localhost:8080/"
        },
        "id": "DWSh3j0s4eJ3",
        "outputId": "945649e2-b656-4690-8f15-1d9ce62069ff"
      },
      "execution_count": 105,
      "outputs": [
        {
          "output_type": "execute_result",
          "data": {
            "text/plain": [
              "torch.Size([1, 16, 25, 25])"
            ]
          },
          "metadata": {},
          "execution_count": 105
        }
      ]
    },
    {
      "cell_type": "code",
      "source": [
        "x = F.relu(conv3(x))"
      ],
      "metadata": {
        "id": "H8GP5m4M0LIY"
      },
      "execution_count": 106,
      "outputs": []
    },
    {
      "cell_type": "code",
      "source": [
        "x.shape"
      ],
      "metadata": {
        "id": "9GEdt-Lj0Tb2",
        "outputId": "e7468133-7038-4dc8-e213-4929d466ba46",
        "colab": {
          "base_uri": "https://localhost:8080/"
        }
      },
      "execution_count": 107,
      "outputs": [
        {
          "output_type": "execute_result",
          "data": {
            "text/plain": [
              "torch.Size([1, 30, 12, 12])"
            ]
          },
          "metadata": {},
          "execution_count": 107
        }
      ]
    },
    {
      "cell_type": "code",
      "execution_count": 108,
      "metadata": {
        "id": "s2YBCz6kWR-3"
      },
      "outputs": [],
      "source": [
        "class ConvolutionalNetwork(nn.Module):\n",
        "  def __init__(self):\n",
        "    super().__init__()\n",
        "    self.conv1 = nn.Conv2d(3,10,5,2)\n",
        "    self.conv2 = nn.Conv2d(10,16,4,2)\n",
        "    self.conv3 = nn.Conv2d(16, 30, 3, 2)\n",
        "    # Fully Connected Layer\n",
        "    self.fc1 = nn.Linear(12*12*30, 1200)\n",
        "    self.fc2 = nn.Linear(1200, 720)\n",
        "    self.fc3 = nn.Linear(720, 102)\n",
        "\n",
        "\n",
        "  def forward(self, X):\n",
        "    X = F.relu(self.conv1(X))\n",
        "    X = F.max_pool2d(X,2,2)\n",
        "    # Second Pass\n",
        "    X = F.relu(self.conv2(X))\n",
        "    X = F.avg_pool2d(X, 2, 1)\n",
        "    X = F.relu(self.conv3(X))\n",
        "\n",
        "    # Re-View to flatten it out\n",
        "    X = X.view(-1, 12*12*30) # negative one so that we can vary the batch size\n",
        "\n",
        "    # Fully Connected Layers\n",
        "    X = F.relu(self.fc1(X))\n",
        "    X = F.relu(self.fc2(X))\n",
        "    X = self.fc3(X)\n",
        "    return F.log_softmax(X, dim=1)"
      ]
    },
    {
      "cell_type": "code",
      "execution_count": 109,
      "metadata": {
        "colab": {
          "base_uri": "https://localhost:8080/"
        },
        "id": "pfKcXQXkUsle",
        "outputId": "c66bf3a6-5b9b-4d52-9c81-8e810853954d"
      },
      "outputs": [
        {
          "output_type": "execute_result",
          "data": {
            "text/plain": [
              "ConvolutionalNetwork(\n",
              "  (conv1): Conv2d(3, 10, kernel_size=(5, 5), stride=(2, 2))\n",
              "  (conv2): Conv2d(10, 16, kernel_size=(4, 4), stride=(2, 2))\n",
              "  (conv3): Conv2d(16, 30, kernel_size=(3, 3), stride=(2, 2))\n",
              "  (fc1): Linear(in_features=4320, out_features=1200, bias=True)\n",
              "  (fc2): Linear(in_features=1200, out_features=720, bias=True)\n",
              "  (fc3): Linear(in_features=720, out_features=102, bias=True)\n",
              ")"
            ]
          },
          "metadata": {},
          "execution_count": 109
        }
      ],
      "source": [
        "torch.manual_seed(41)\n",
        "model = ConvolutionalNetwork()\n",
        "model"
      ]
    },
    {
      "cell_type": "code",
      "execution_count": 110,
      "metadata": {
        "id": "HZAL9GwMUHH9"
      },
      "outputs": [],
      "source": [
        "# Loss Function Optimizer\n",
        "criterion = nn.CrossEntropyLoss()\n",
        "optimizer = torch.optim.Adam(model.parameters(), lr=0.001, weight_decay=0.001) # Smaller the Learning Rate, longer its gonna take to train."
      ]
    },
    {
      "cell_type": "code",
      "execution_count": 111,
      "metadata": {
        "colab": {
          "base_uri": "https://localhost:8080/"
        },
        "id": "8lQVO-EPUHKv",
        "outputId": "48e429b8-f55a-44e2-942a-838ce359e7e1"
      },
      "outputs": [
        {
          "output_type": "stream",
          "name": "stdout",
          "text": [
            "Epoch: 0  Batch: 10  Loss: 4.640694618225098\n",
            "Epoch: 0  Batch: 20  Loss: 4.633957862854004\n",
            "Epoch: 0  Batch: 30  Loss: 4.638619422912598\n",
            "Epoch: 0  Batch: 40  Loss: 4.611572265625\n",
            "Epoch: 0  Batch: 50  Loss: 4.6189727783203125\n",
            "Epoch: 0  Batch: 60  Loss: 4.6180830001831055\n",
            "Epoch: 0  Batch: 70  Loss: 4.619444847106934\n",
            "Epoch: 0  Batch: 80  Loss: 4.597594738006592\n",
            "Epoch: 0  Batch: 90  Loss: 4.4681501388549805\n",
            "Epoch: 0  Batch: 100  Loss: 4.788180351257324\n",
            "Epoch 1 - Training Accuracy: 0.49% - Validation Accuracy: 1.96%\n",
            "Epoch: 1  Batch: 10  Loss: 4.632573127746582\n",
            "Epoch: 1  Batch: 20  Loss: 4.415088653564453\n",
            "Epoch: 1  Batch: 30  Loss: 4.543753147125244\n",
            "Epoch: 1  Batch: 40  Loss: 4.259559154510498\n",
            "Epoch: 1  Batch: 50  Loss: 4.130244731903076\n",
            "Epoch: 1  Batch: 60  Loss: 4.238931179046631\n",
            "Epoch: 1  Batch: 70  Loss: 4.297184944152832\n",
            "Epoch: 1  Batch: 80  Loss: 4.240248680114746\n",
            "Epoch: 1  Batch: 90  Loss: 4.170363426208496\n",
            "Epoch: 1  Batch: 100  Loss: 4.779454231262207\n",
            "Epoch 2 - Training Accuracy: 1.37% - Validation Accuracy: 1.96%\n",
            "Epoch: 2  Batch: 10  Loss: 4.212508678436279\n",
            "Epoch: 2  Batch: 20  Loss: 4.143010139465332\n",
            "Epoch: 2  Batch: 30  Loss: 4.282691955566406\n",
            "Epoch: 2  Batch: 40  Loss: 3.941936492919922\n",
            "Epoch: 2  Batch: 50  Loss: 3.9477195739746094\n",
            "Epoch: 2  Batch: 60  Loss: 4.289108753204346\n",
            "Epoch: 2  Batch: 70  Loss: 4.571789741516113\n",
            "Epoch: 2  Batch: 80  Loss: 4.217100143432617\n",
            "Epoch: 2  Batch: 90  Loss: 4.050611972808838\n",
            "Epoch: 2  Batch: 100  Loss: 4.2438435554504395\n",
            "Epoch 3 - Training Accuracy: 1.37% - Validation Accuracy: 2.16%\n",
            "Epoch: 3  Batch: 10  Loss: 4.011842250823975\n",
            "Epoch: 3  Batch: 20  Loss: 4.302738189697266\n",
            "Epoch: 3  Batch: 30  Loss: 4.059635162353516\n",
            "Epoch: 3  Batch: 40  Loss: 4.126293182373047\n",
            "Epoch: 3  Batch: 50  Loss: 4.162716865539551\n",
            "Epoch: 3  Batch: 60  Loss: 4.394766807556152\n",
            "Epoch: 3  Batch: 70  Loss: 4.272188186645508\n",
            "Epoch: 3  Batch: 80  Loss: 4.066076755523682\n",
            "Epoch: 3  Batch: 90  Loss: 3.9556572437286377\n",
            "Epoch: 3  Batch: 100  Loss: 4.059402942657471\n",
            "Epoch 4 - Training Accuracy: 1.67% - Validation Accuracy: 2.75%\n",
            "Epoch: 4  Batch: 10  Loss: 3.3484268188476562\n",
            "Epoch: 4  Batch: 20  Loss: 4.0426225662231445\n",
            "Epoch: 4  Batch: 30  Loss: 4.239741325378418\n",
            "Epoch: 4  Batch: 40  Loss: 3.7777047157287598\n",
            "Epoch: 4  Batch: 50  Loss: 3.8176989555358887\n",
            "Epoch: 4  Batch: 60  Loss: 4.118631839752197\n",
            "Epoch: 4  Batch: 70  Loss: 3.7063584327697754\n",
            "Epoch: 4  Batch: 80  Loss: 4.259305953979492\n",
            "Epoch: 4  Batch: 90  Loss: 4.925058841705322\n",
            "Epoch: 4  Batch: 100  Loss: 3.835169553756714\n",
            "Epoch 5 - Training Accuracy: 3.33% - Validation Accuracy: 3.82%\n",
            "Epoch: 5  Batch: 10  Loss: 4.026408672332764\n",
            "Epoch: 5  Batch: 20  Loss: 3.9350051879882812\n",
            "Epoch: 5  Batch: 30  Loss: 3.91015362739563\n",
            "Epoch: 5  Batch: 40  Loss: 3.679065227508545\n",
            "Epoch: 5  Batch: 50  Loss: 3.9098238945007324\n",
            "Epoch: 5  Batch: 60  Loss: 4.219043731689453\n",
            "Epoch: 5  Batch: 70  Loss: 3.766925096511841\n",
            "Epoch: 5  Batch: 80  Loss: 3.531505584716797\n",
            "Epoch: 5  Batch: 90  Loss: 4.185624122619629\n",
            "Epoch: 5  Batch: 100  Loss: 3.9214463233947754\n",
            "Epoch 6 - Training Accuracy: 4.02% - Validation Accuracy: 4.71%\n",
            "Epoch: 6  Batch: 10  Loss: 3.530688524246216\n",
            "Epoch: 6  Batch: 20  Loss: 3.8942923545837402\n",
            "Epoch: 6  Batch: 30  Loss: 3.8452587127685547\n",
            "Epoch: 6  Batch: 40  Loss: 3.7914834022521973\n",
            "Epoch: 6  Batch: 50  Loss: 4.301655292510986\n",
            "Epoch: 6  Batch: 60  Loss: 3.754744291305542\n",
            "Epoch: 6  Batch: 70  Loss: 3.8687407970428467\n",
            "Epoch: 6  Batch: 80  Loss: 4.128889083862305\n",
            "Epoch: 6  Batch: 90  Loss: 4.1688995361328125\n",
            "Epoch: 6  Batch: 100  Loss: 3.8401756286621094\n",
            "Epoch 7 - Training Accuracy: 5.00% - Validation Accuracy: 6.08%\n",
            "Epoch: 7  Batch: 10  Loss: 4.00886344909668\n",
            "Epoch: 7  Batch: 20  Loss: 3.2665107250213623\n",
            "Epoch: 7  Batch: 30  Loss: 3.6350417137145996\n",
            "Epoch: 7  Batch: 40  Loss: 3.791247844696045\n",
            "Epoch: 7  Batch: 50  Loss: 3.6341376304626465\n",
            "Epoch: 7  Batch: 60  Loss: 4.1817474365234375\n",
            "Epoch: 7  Batch: 70  Loss: 3.5905938148498535\n",
            "Epoch: 7  Batch: 80  Loss: 3.594085693359375\n",
            "Epoch: 7  Batch: 90  Loss: 3.7233192920684814\n",
            "Epoch: 7  Batch: 100  Loss: 3.3513712882995605\n",
            "Epoch 8 - Training Accuracy: 7.25% - Validation Accuracy: 7.84%\n",
            "Epoch: 8  Batch: 10  Loss: 3.6976571083068848\n",
            "Epoch: 8  Batch: 20  Loss: 3.4540696144104004\n",
            "Epoch: 8  Batch: 30  Loss: 4.171134948730469\n",
            "Epoch: 8  Batch: 40  Loss: 3.2775192260742188\n",
            "Epoch: 8  Batch: 50  Loss: 3.329897403717041\n",
            "Epoch: 8  Batch: 60  Loss: 3.504714250564575\n",
            "Epoch: 8  Batch: 70  Loss: 3.064412832260132\n",
            "Epoch: 8  Batch: 80  Loss: 3.233410596847534\n",
            "Epoch: 8  Batch: 90  Loss: 3.673517942428589\n",
            "Epoch: 8  Batch: 100  Loss: 3.916841983795166\n",
            "Epoch 9 - Training Accuracy: 8.92% - Validation Accuracy: 8.24%\n",
            "Epoch: 9  Batch: 10  Loss: 3.21217679977417\n",
            "Epoch: 9  Batch: 20  Loss: 3.3630454540252686\n",
            "Epoch: 9  Batch: 30  Loss: 3.6346633434295654\n",
            "Epoch: 9  Batch: 40  Loss: 2.7322921752929688\n",
            "Epoch: 9  Batch: 50  Loss: 3.1835198402404785\n",
            "Epoch: 9  Batch: 60  Loss: 2.8203699588775635\n",
            "Epoch: 9  Batch: 70  Loss: 3.237943172454834\n",
            "Epoch: 9  Batch: 80  Loss: 3.0145320892333984\n",
            "Epoch: 9  Batch: 90  Loss: 3.4901645183563232\n",
            "Epoch: 9  Batch: 100  Loss: 3.2340762615203857\n",
            "Epoch 10 - Training Accuracy: 12.35% - Validation Accuracy: 8.73%\n",
            "Epoch: 10  Batch: 10  Loss: 2.292085886001587\n",
            "Epoch: 10  Batch: 20  Loss: 3.02630877494812\n",
            "Epoch: 10  Batch: 30  Loss: 3.0828468799591064\n",
            "Epoch: 10  Batch: 40  Loss: 3.119805335998535\n",
            "Epoch: 10  Batch: 50  Loss: 3.6024162769317627\n",
            "Epoch: 10  Batch: 60  Loss: 2.9638588428497314\n",
            "Epoch: 10  Batch: 70  Loss: 3.093430995941162\n",
            "Epoch: 10  Batch: 80  Loss: 3.1200222969055176\n",
            "Epoch: 10  Batch: 90  Loss: 3.2738475799560547\n",
            "Epoch: 10  Batch: 100  Loss: 2.8648722171783447\n",
            "Epoch 11 - Training Accuracy: 17.16% - Validation Accuracy: 9.02%\n",
            "Epoch: 11  Batch: 10  Loss: 2.1283583641052246\n",
            "Epoch: 11  Batch: 20  Loss: 3.0389316082000732\n",
            "Epoch: 11  Batch: 30  Loss: 2.8150382041931152\n",
            "Epoch: 11  Batch: 40  Loss: 3.709113359451294\n",
            "Epoch: 11  Batch: 50  Loss: 3.390349864959717\n",
            "Epoch: 11  Batch: 60  Loss: 3.458629608154297\n",
            "Epoch: 11  Batch: 70  Loss: 2.9805984497070312\n",
            "Epoch: 11  Batch: 80  Loss: 2.345653533935547\n",
            "Epoch: 11  Batch: 90  Loss: 2.9810872077941895\n",
            "Epoch: 11  Batch: 100  Loss: 3.9013466835021973\n",
            "Epoch 12 - Training Accuracy: 21.18% - Validation Accuracy: 10.39%\n",
            "Epoch: 12  Batch: 10  Loss: 2.64760422706604\n",
            "Epoch: 12  Batch: 20  Loss: 2.2056493759155273\n",
            "Epoch: 12  Batch: 30  Loss: 2.3894131183624268\n",
            "Epoch: 12  Batch: 40  Loss: 2.648308515548706\n",
            "Epoch: 12  Batch: 50  Loss: 2.9477620124816895\n",
            "Epoch: 12  Batch: 60  Loss: 3.0336647033691406\n",
            "Epoch: 12  Batch: 70  Loss: 2.1271119117736816\n",
            "Epoch: 12  Batch: 80  Loss: 3.0881476402282715\n",
            "Epoch: 12  Batch: 90  Loss: 3.5638279914855957\n",
            "Epoch: 12  Batch: 100  Loss: 4.29959774017334\n",
            "Epoch 13 - Training Accuracy: 26.67% - Validation Accuracy: 9.90%\n",
            "Epoch: 13  Batch: 10  Loss: 1.997868537902832\n",
            "Epoch: 13  Batch: 20  Loss: 2.267833709716797\n",
            "Epoch: 13  Batch: 30  Loss: 2.5769736766815186\n",
            "Epoch: 13  Batch: 40  Loss: 2.1248011589050293\n",
            "Epoch: 13  Batch: 50  Loss: 2.5045320987701416\n",
            "Epoch: 13  Batch: 60  Loss: 1.862962007522583\n",
            "Epoch: 13  Batch: 70  Loss: 2.179269790649414\n",
            "Epoch: 13  Batch: 80  Loss: 2.163398265838623\n",
            "Epoch: 13  Batch: 90  Loss: 2.5658631324768066\n",
            "Epoch: 13  Batch: 100  Loss: 2.2011075019836426\n",
            "Epoch 14 - Training Accuracy: 32.75% - Validation Accuracy: 9.71%\n",
            "Epoch: 14  Batch: 10  Loss: 1.6286216974258423\n",
            "Epoch: 14  Batch: 20  Loss: 2.167304515838623\n",
            "Epoch: 14  Batch: 30  Loss: 2.290976047515869\n",
            "Epoch: 14  Batch: 40  Loss: 2.2764270305633545\n",
            "Epoch: 14  Batch: 50  Loss: 1.6926311254501343\n",
            "Epoch: 14  Batch: 60  Loss: 1.6211936473846436\n",
            "Epoch: 14  Batch: 70  Loss: 2.7651782035827637\n",
            "Epoch: 14  Batch: 80  Loss: 2.5996835231781006\n",
            "Epoch: 14  Batch: 90  Loss: 2.2770190238952637\n",
            "Epoch: 14  Batch: 100  Loss: 2.9616482257843018\n",
            "Epoch 15 - Training Accuracy: 43.04% - Validation Accuracy: 10.10%\n",
            "Epoch: 15  Batch: 10  Loss: 0.8630310297012329\n",
            "Epoch: 15  Batch: 20  Loss: 1.5239036083221436\n",
            "Epoch: 15  Batch: 30  Loss: 0.6624079942703247\n",
            "Epoch: 15  Batch: 40  Loss: 1.8597549200057983\n",
            "Epoch: 15  Batch: 50  Loss: 1.223954439163208\n",
            "Epoch: 15  Batch: 60  Loss: 1.1757118701934814\n",
            "Epoch: 15  Batch: 70  Loss: 1.564718246459961\n",
            "Epoch: 15  Batch: 80  Loss: 1.4059642553329468\n",
            "Epoch: 15  Batch: 90  Loss: 1.6263201236724854\n",
            "Epoch: 15  Batch: 100  Loss: 2.269737482070923\n",
            "Epoch 16 - Training Accuracy: 51.96% - Validation Accuracy: 9.71%\n",
            "Epoch: 16  Batch: 10  Loss: 0.7391312718391418\n",
            "Epoch: 16  Batch: 20  Loss: 1.8034502267837524\n",
            "Epoch: 16  Batch: 30  Loss: 0.5348554849624634\n",
            "Epoch: 16  Batch: 40  Loss: 0.8680304288864136\n",
            "Epoch: 16  Batch: 50  Loss: 1.4828197956085205\n",
            "Epoch: 16  Batch: 60  Loss: 1.3772462606430054\n",
            "Epoch: 16  Batch: 70  Loss: 1.9438693523406982\n",
            "Epoch: 16  Batch: 80  Loss: 2.581571102142334\n",
            "Epoch: 16  Batch: 90  Loss: 1.3723607063293457\n",
            "Epoch: 16  Batch: 100  Loss: 1.8219232559204102\n",
            "Epoch 17 - Training Accuracy: 62.45% - Validation Accuracy: 11.96%\n",
            "Epoch: 17  Batch: 10  Loss: 0.5466879606246948\n",
            "Epoch: 17  Batch: 20  Loss: 0.4841271936893463\n",
            "Epoch: 17  Batch: 30  Loss: 1.0873278379440308\n",
            "Epoch: 17  Batch: 40  Loss: 0.4653959274291992\n",
            "Epoch: 17  Batch: 50  Loss: 0.4086736738681793\n",
            "Epoch: 17  Batch: 60  Loss: 1.3123377561569214\n",
            "Epoch: 17  Batch: 70  Loss: 0.7478238940238953\n",
            "Epoch: 17  Batch: 80  Loss: 1.0677169561386108\n",
            "Epoch: 17  Batch: 90  Loss: 1.0882525444030762\n",
            "Epoch: 17  Batch: 100  Loss: 1.1781460046768188\n",
            "Epoch 18 - Training Accuracy: 71.96% - Validation Accuracy: 11.27%\n",
            "Epoch: 18  Batch: 10  Loss: 0.889053225517273\n",
            "Epoch: 18  Batch: 20  Loss: 0.3944486379623413\n",
            "Epoch: 18  Batch: 30  Loss: 1.155426263809204\n",
            "Epoch: 18  Batch: 40  Loss: 0.7855929136276245\n",
            "Epoch: 18  Batch: 50  Loss: 1.4394031763076782\n",
            "Epoch: 18  Batch: 60  Loss: 0.9769226312637329\n",
            "Epoch: 18  Batch: 70  Loss: 1.2748520374298096\n",
            "Epoch: 18  Batch: 80  Loss: 0.6434317827224731\n",
            "Epoch: 18  Batch: 90  Loss: 0.8729099035263062\n",
            "Epoch: 18  Batch: 100  Loss: 1.1722475290298462\n",
            "Epoch 19 - Training Accuracy: 78.43% - Validation Accuracy: 11.37%\n",
            "Epoch: 19  Batch: 10  Loss: 0.3699425160884857\n",
            "Epoch: 19  Batch: 20  Loss: 0.5707534551620483\n",
            "Epoch: 19  Batch: 30  Loss: 0.8434236645698547\n",
            "Epoch: 19  Batch: 40  Loss: 0.11613287776708603\n",
            "Epoch: 19  Batch: 50  Loss: 0.47871437668800354\n",
            "Epoch: 19  Batch: 60  Loss: 0.2840553820133209\n",
            "Epoch: 19  Batch: 70  Loss: 1.392334222793579\n",
            "Epoch: 19  Batch: 80  Loss: 0.5076746344566345\n",
            "Epoch: 19  Batch: 90  Loss: 0.648120641708374\n",
            "Epoch: 19  Batch: 100  Loss: 0.3100741505622864\n",
            "Epoch 20 - Training Accuracy: 83.82% - Validation Accuracy: 9.71%\n",
            "Epoch: 20  Batch: 10  Loss: 0.07537196576595306\n",
            "Epoch: 20  Batch: 20  Loss: 0.14447203278541565\n",
            "Epoch: 20  Batch: 30  Loss: 0.17718371748924255\n",
            "Epoch: 20  Batch: 40  Loss: 0.021085860207676888\n",
            "Epoch: 20  Batch: 50  Loss: 0.14353691041469574\n",
            "Epoch: 20  Batch: 60  Loss: 0.13372966647148132\n",
            "Epoch: 20  Batch: 70  Loss: 1.4144033193588257\n",
            "Epoch: 20  Batch: 80  Loss: 2.083307981491089\n",
            "Epoch: 20  Batch: 90  Loss: 1.495883584022522\n",
            "Epoch: 20  Batch: 100  Loss: 0.6694040894508362\n",
            "Epoch 21 - Training Accuracy: 87.45% - Validation Accuracy: 10.20%\n",
            "Epoch: 21  Batch: 10  Loss: 0.6665287017822266\n",
            "Epoch: 21  Batch: 20  Loss: 0.12083139270544052\n",
            "Epoch: 21  Batch: 30  Loss: 0.2437097281217575\n",
            "Epoch: 21  Batch: 40  Loss: 0.3373367190361023\n",
            "Epoch: 21  Batch: 50  Loss: 0.7799370884895325\n",
            "Epoch: 21  Batch: 60  Loss: 0.1607067883014679\n",
            "Epoch: 21  Batch: 70  Loss: 0.420076847076416\n",
            "Epoch: 21  Batch: 80  Loss: 0.014828085899353027\n",
            "Epoch: 21  Batch: 90  Loss: 0.05488625168800354\n",
            "Epoch: 21  Batch: 100  Loss: 0.027894070371985435\n",
            "Epoch 22 - Training Accuracy: 92.16% - Validation Accuracy: 11.08%\n",
            "Epoch: 22  Batch: 10  Loss: 0.8663313984870911\n",
            "Epoch: 22  Batch: 20  Loss: 0.039890922605991364\n",
            "Epoch: 22  Batch: 30  Loss: 0.04917757213115692\n",
            "Epoch: 22  Batch: 40  Loss: 0.3373095989227295\n",
            "Epoch: 22  Batch: 50  Loss: 0.4959091246128082\n",
            "Epoch: 22  Batch: 60  Loss: 0.2005728781223297\n",
            "Epoch: 22  Batch: 70  Loss: 0.36553096771240234\n",
            "Epoch: 22  Batch: 80  Loss: 0.295974463224411\n",
            "Epoch: 22  Batch: 90  Loss: 0.2326233685016632\n",
            "Epoch: 22  Batch: 100  Loss: 0.025906244292855263\n",
            "Epoch 23 - Training Accuracy: 93.53% - Validation Accuracy: 10.78%\n",
            "Epoch: 23  Batch: 10  Loss: 0.2282775342464447\n",
            "Epoch: 23  Batch: 20  Loss: 0.02034812979400158\n",
            "Epoch: 23  Batch: 30  Loss: 0.15293660759925842\n",
            "Epoch: 23  Batch: 40  Loss: 0.00847848691046238\n",
            "Epoch: 23  Batch: 50  Loss: 0.25136610865592957\n",
            "Epoch: 23  Batch: 60  Loss: 0.0024999259039759636\n",
            "Epoch: 23  Batch: 70  Loss: 0.06995099782943726\n",
            "Epoch: 23  Batch: 80  Loss: 0.004784756805747747\n",
            "Epoch: 23  Batch: 90  Loss: 0.014036374166607857\n",
            "Epoch: 23  Batch: 100  Loss: 0.2426644116640091\n",
            "Epoch 24 - Training Accuracy: 96.67% - Validation Accuracy: 9.80%\n",
            "Epoch: 24  Batch: 10  Loss: 0.012022892944514751\n",
            "Epoch: 24  Batch: 20  Loss: 0.10034485906362534\n",
            "Epoch: 24  Batch: 30  Loss: 0.03477457910776138\n",
            "Epoch: 24  Batch: 40  Loss: 0.055980242788791656\n",
            "Epoch: 24  Batch: 50  Loss: 0.021375583484768867\n",
            "Epoch: 24  Batch: 60  Loss: 0.10337686538696289\n",
            "Epoch: 24  Batch: 70  Loss: 0.5351694226264954\n",
            "Epoch: 24  Batch: 80  Loss: 0.9859633445739746\n",
            "Epoch: 24  Batch: 90  Loss: 0.8707523345947266\n",
            "Epoch: 24  Batch: 100  Loss: 0.671580970287323\n",
            "Epoch 25 - Training Accuracy: 94.31% - Validation Accuracy: 10.59%\n",
            "Epoch: 25  Batch: 10  Loss: 0.13146419823169708\n",
            "Epoch: 25  Batch: 20  Loss: 0.33704081177711487\n",
            "Epoch: 25  Batch: 30  Loss: 0.5698755383491516\n",
            "Epoch: 25  Batch: 40  Loss: 0.21011638641357422\n",
            "Epoch: 25  Batch: 50  Loss: 0.05615273863077164\n",
            "Epoch: 25  Batch: 60  Loss: 0.047859396785497665\n",
            "Epoch: 25  Batch: 70  Loss: 0.1804182082414627\n",
            "Epoch: 25  Batch: 80  Loss: 0.40074482560157776\n",
            "Epoch: 25  Batch: 90  Loss: 0.07336977124214172\n",
            "Epoch: 25  Batch: 100  Loss: 0.1905800700187683\n",
            "Epoch 26 - Training Accuracy: 94.12% - Validation Accuracy: 10.69%\n",
            "Epoch: 26  Batch: 10  Loss: 0.017867278307676315\n",
            "Epoch: 26  Batch: 20  Loss: 0.0954803004860878\n",
            "Epoch: 26  Batch: 30  Loss: 0.7502812147140503\n",
            "Epoch: 26  Batch: 40  Loss: 0.09907844662666321\n",
            "Epoch: 26  Batch: 50  Loss: 0.7788402438163757\n",
            "Epoch: 26  Batch: 60  Loss: 0.1242726668715477\n",
            "Epoch: 26  Batch: 70  Loss: 0.06643009185791016\n",
            "Epoch: 26  Batch: 80  Loss: 0.09556303918361664\n",
            "Epoch: 26  Batch: 90  Loss: 0.8618305325508118\n",
            "Epoch: 26  Batch: 100  Loss: 1.2002041339874268\n",
            "Epoch 27 - Training Accuracy: 89.02% - Validation Accuracy: 9.61%\n",
            "Epoch: 27  Batch: 10  Loss: 0.09446322172880173\n",
            "Epoch: 27  Batch: 20  Loss: 0.24676518142223358\n",
            "Epoch: 27  Batch: 30  Loss: 0.23664021492004395\n",
            "Epoch: 27  Batch: 40  Loss: 0.04152211919426918\n",
            "Epoch: 27  Batch: 50  Loss: 0.02503090165555477\n",
            "Epoch: 27  Batch: 60  Loss: 0.00967616681009531\n",
            "Epoch: 27  Batch: 70  Loss: 0.07355052977800369\n",
            "Epoch: 27  Batch: 80  Loss: 0.133597269654274\n",
            "Epoch: 27  Batch: 90  Loss: 0.14423467218875885\n",
            "Epoch: 27  Batch: 100  Loss: 0.10579545795917511\n",
            "Epoch 28 - Training Accuracy: 94.61% - Validation Accuracy: 11.47%\n",
            "Epoch: 28  Batch: 10  Loss: 0.019892554730176926\n",
            "Epoch: 28  Batch: 20  Loss: 0.03326670452952385\n",
            "Epoch: 28  Batch: 30  Loss: 0.036230675876140594\n",
            "Epoch: 28  Batch: 40  Loss: 0.024350056424736977\n",
            "Epoch: 28  Batch: 50  Loss: 0.009936938993632793\n",
            "Epoch: 28  Batch: 60  Loss: 0.011127631179988384\n",
            "Epoch: 28  Batch: 70  Loss: 0.015096190385520458\n",
            "Epoch: 28  Batch: 80  Loss: 0.052403099834918976\n",
            "Epoch: 28  Batch: 90  Loss: 0.21487948298454285\n",
            "Epoch: 28  Batch: 100  Loss: 0.1071321964263916\n",
            "Epoch 29 - Training Accuracy: 98.43% - Validation Accuracy: 11.18%\n",
            "Epoch: 29  Batch: 10  Loss: 0.4280511438846588\n",
            "Epoch: 29  Batch: 20  Loss: 0.010591153986752033\n",
            "Epoch: 29  Batch: 30  Loss: 0.03741036355495453\n",
            "Epoch: 29  Batch: 40  Loss: 0.029376676306128502\n",
            "Epoch: 29  Batch: 50  Loss: 0.03649791330099106\n",
            "Epoch: 29  Batch: 60  Loss: 0.16171367466449738\n",
            "Epoch: 29  Batch: 70  Loss: 0.04788536950945854\n",
            "Epoch: 29  Batch: 80  Loss: 0.08461658656597137\n",
            "Epoch: 29  Batch: 90  Loss: 0.1608157753944397\n",
            "Epoch: 29  Batch: 100  Loss: 0.034380484372377396\n",
            "Epoch 30 - Training Accuracy: 97.16% - Validation Accuracy: 10.59%\n",
            "Training Took: 7.690060575803121 minutes!\n"
          ]
        }
      ],
      "source": [
        "import time\n",
        "start_time = time.time()\n",
        "\n",
        "# Create Variables To Tracks Things\n",
        "epochs = 30\n",
        "train_losses = []\n",
        "test_losses = []\n",
        "train_correct = []\n",
        "test_correct = []\n",
        "\n",
        "# For Loop of Epochs\n",
        "for i in range(epochs):\n",
        "  trn_corr = 0\n",
        "  tst_corr = 0\n",
        "\n",
        "\n",
        "  # Train\n",
        "  for b,(X_train, y_train) in enumerate(train_loader):\n",
        "    b+=1 # start our batches at 1\n",
        "    y_pred = model(X_train) # get predicted values from the training set. Not flattened 2D\n",
        "    loss = criterion(y_pred, y_train) # how off are we? Compare the predictions to correct answers in y_train\n",
        "\n",
        "    predicted = torch.max(y_pred.data, 1)[1] # add up the number of correct predictions. Indexed off the first point\n",
        "    batch_corr = (predicted == y_train).sum() # how many we got correct from this batch. True = 1, False=0, sum those up\n",
        "    trn_corr += batch_corr # keep track as we go along in training.\n",
        "\n",
        "    # Update our parameters\n",
        "    optimizer.zero_grad()\n",
        "    loss.backward()\n",
        "    optimizer.step()\n",
        "\n",
        "\n",
        "    # Print out some results\n",
        "    if b%10 == 0:\n",
        "      print(f'Epoch: {i}  Batch: {b}  Loss: {loss.item()}')\n",
        "\n",
        "  train_losses.append(loss)\n",
        "  train_correct.append(trn_corr)\n",
        "\n",
        "\n",
        "  # Test\n",
        "  with torch.no_grad(): #No gradient so we don't update our weights and biases with test data\n",
        "    for b,(X_test, y_test) in enumerate(val_loader):\n",
        "      y_val = model(X_test)\n",
        "      predicted = torch.max(y_val.data, 1)[1] # Adding up correct predictions\n",
        "      tst_corr += (predicted == y_test).sum() # T=1 F=0 and sum away\n",
        "\n",
        "\n",
        "  loss = criterion(y_val, y_test)\n",
        "  test_losses.append(loss)\n",
        "  test_correct.append(tst_corr)\n",
        "\n",
        "  train_accuracy = trn_corr / len(train_loader.dataset) * 100\n",
        "  test_accuracy = tst_corr / len(val_loader.dataset) * 100\n",
        "\n",
        "  print(f'Epoch {i+1} - Training Accuracy: {train_accuracy:.2f}% - Validation Accuracy: {test_accuracy:.2f}%')\n",
        "\n",
        "\n",
        "\n",
        "current_time = time.time()\n",
        "total = current_time - start_time\n",
        "print(f'Training Took: {total/60} minutes!')"
      ]
    },
    {
      "cell_type": "code",
      "execution_count": 111,
      "metadata": {
        "id": "Pv-8IXYfUHNP"
      },
      "outputs": [],
      "source": []
    },
    {
      "cell_type": "code",
      "execution_count": 112,
      "metadata": {
        "id": "ElQRedwUUHPz",
        "colab": {
          "base_uri": "https://localhost:8080/",
          "height": 469
        },
        "outputId": "3e3ebbd7-b4e2-4e2a-c2d4-39ed09252093"
      },
      "outputs": [
        {
          "output_type": "execute_result",
          "data": {
            "text/plain": [
              "<matplotlib.legend.Legend at 0x7b7442d3f6a0>"
            ]
          },
          "metadata": {},
          "execution_count": 112
        },
        {
          "output_type": "display_data",
          "data": {
            "text/plain": [
              "<Figure size 640x480 with 1 Axes>"
            ],
            "image/png": "[encoded data removed]"
          },
          "metadata": {}
        }
      ],
      "source": [
        "train_losses = [tl.item() for tl in train_losses]\n",
        "plt.plot(train_losses, label=\"Training Loss\")\n",
        "plt.plot(test_losses, label=\"Validation Loss\")\n",
        "plt.title(\"Loss at Epoch\")\n",
        "plt.legend()"
      ]
    },
    {
      "cell_type": "code",
      "execution_count": 112,
      "metadata": {
        "id": "dAsr3lg_UHSV"
      },
      "outputs": [],
      "source": []
    }
  ],
  "metadata": {
    "colab": {
      "provenance": [],
      "machine_shape": "hm",
      "gpuType": "L4",
      "authorship_tag": "ABX9TyPPuLv9enXAeCM10NnrdQWA",
      "include_colab_link": true
    },
    "kernelspec": {
      "display_name": "Python 3",
      "name": "python3"
    },
    "language_info": {
      "name": "python"
    },
    "accelerator": "GPU"
  },
  "nbformat": 4,
  "nbformat_minor": 0
}